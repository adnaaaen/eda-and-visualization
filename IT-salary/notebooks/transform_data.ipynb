{
 "cells": [
  {
   "cell_type": "code",
   "execution_count": 1,
   "id": "848fcf50-55f0-4b50-827d-6b5532afa9cf",
   "metadata": {},
   "outputs": [],
   "source": [
    "import numpy as np\n",
    "import pandas as pd\n",
    "import sys\n",
    "from camel_converter import to_snake"
   ]
  },
  {
   "cell_type": "code",
   "execution_count": 2,
   "id": "3ecc1477-e92b-436f-b4c4-c3da7133b305",
   "metadata": {},
   "outputs": [],
   "source": [
    "def remove_null_values(df: pd.DataFrame) -> pd.DataFrame:\n",
    "    df = df[df.columns[df.isna().mean() * 100 < 60]]\n",
    "    df = df[df.isna().mean(axis=1) * 100 < 50]\n",
    "    return df"
   ]
  },
  {
   "cell_type": "code",
   "execution_count": 3,
   "id": "7b02e585-85a4-4726-bb53-db893d631fef",
   "metadata": {},
   "outputs": [],
   "source": [
    "df_18 = remove_null_values(pd.read_csv(\"/home/adnan/Documents/codes/data_Science/eda-and-visualization/IT-salary/data/raw/IT Salary Survey EU 2018.csv\"))\n",
    "df_19 = remove_null_values(pd.read_csv(\"/home/adnan/Documents/codes/data_Science/eda-and-visualization/IT-salary/data/raw/IT Salary Survey EU 2019.csv\"))\n",
    "df_20 = remove_null_values(pd.read_csv(\"/home/adnan/Documents/codes/data_Science/eda-and-visualization/IT-salary/data/raw/IT Salary Survey EU  2020.csv\"))"
   ]
  },
  {
   "cell_type": "code",
   "execution_count": 4,
   "id": "f6d87919-acf3-4a37-88a9-5f22cd27a004",
   "metadata": {},
   "outputs": [],
   "source": [
    "df_20 = df_20.drop(columns=['Have you lost your job due to the coronavirus outbreak?', \n",
    "            'Other technologies/programming languages you use often', 'Employment status', \n",
    "            'Yearly bonus + stocks in EUR', 'Years of experience in Germany',\n",
    "            'Annual bonus+stocks one year ago. Only answer if staying in same country'])\n",
    "\n",
    "df_19 = df_19.drop(columns=['Company business sector', 'Yearly bonus', 'Number of home office days per month'])\n",
    "\n",
    "df_18 = df_18.drop(columns=[\"Are you getting any Stock Options?\", \"Salary two years ago\"])\n"
   ]
  },
  {
   "cell_type": "code",
   "execution_count": 5,
   "id": "9ee6d4cd-3a3c-4cde-a7a8-90015e3f3523",
   "metadata": {},
   "outputs": [],
   "source": [
    "df_20 = df_20.rename(columns={\n",
    "    'Total years of experience' : 'experience',\n",
    "    'Your main technology / programming language' : 'programming_language',\n",
    "    'Yearly brutto salary (without bonus and stocks) in EUR' : 'salary',\n",
    "    'Annual brutto salary (without bonus and stocks) one year ago. Only answer if staying in the same country' : \\\n",
    "    'Salary one year ago',\n",
    "    'Number of vacation days' : 'vacation_days',\n",
    "    'Main language at work' : 'language',\n",
    "    'Position ' : 'Position'})"
   ]
  },
  {
   "cell_type": "code",
   "execution_count": 6,
   "id": "6dbe8534-c398-4de1-8635-fe6821aeab8e",
   "metadata": {},
   "outputs": [],
   "source": [
    "df_19 = df_19.rename(columns={\n",
    "    'Zeitstempel' : 'Timestamp',\n",
    "    'Position (without seniority)' : 'Position',\n",
    "    'Years of experience' : 'experience',\n",
    "    'Your main technology / programming language' : 'programming_language',\n",
    "    'Yearly brutto salary (without bonus and stocks)' : 'salary',\n",
    "    'Yearly brutto salary (without bonus and stocks) one year ago. Only answer if staying in same country' : \\\n",
    "    'Salary one year ago',\n",
    "    'Number of vacation days' : 'vacation_days',\n",
    "    'Main language at work' : 'language'\n",
    "})"
   ]
  },
  {
   "cell_type": "code",
   "execution_count": 7,
   "id": "e8167a0f-1524-4283-bc75-9dd33c1bad0a",
   "metadata": {},
   "outputs": [],
   "source": [
    "df_18 = df_18.rename(columns={\n",
    "    'Main language at work' : 'language',\n",
    "    'Years of experience' : 'experience',\n",
    "    'Your level' : 'Seniority level',\n",
    "    'Current Salary' : 'salary'\n",
    "})"
   ]
  },
  {
   "cell_type": "code",
   "execution_count": 8,
   "id": "04aa2cab-5457-4a16-95ab-0671fd2b6442",
   "metadata": {},
   "outputs": [],
   "source": [
    "df_20['survey_year'] = 2020\n",
    "df_19['survey_year'] = 2019\n",
    "df_18['survey_year'] = 2018"
   ]
  },
  {
   "cell_type": "code",
   "execution_count": 9,
   "id": "46f1cfc1-7475-4e94-b2f5-7e70b355627d",
   "metadata": {},
   "outputs": [],
   "source": [
    "def func(value: str, array: list[str | int]) -> str:\n",
    "    if value is np.nan:\n",
    "        return np.nan\n",
    "    value_list = str(value).lower().split(\" \")\n",
    "    result_list = []\n",
    "    for each in value_list:\n",
    "        if each not in array:\n",
    "            out = each.replace(\"(\", \" \").replace(\")\", \" \").strip()\n",
    "            result_list.append(out)\n",
    "    if result_list == []:\n",
    "        return np.nan\n",
    "    return \" \".join(result_list)\n",
    "positions = [\"software\", \"engineer\", 'designer', 'developer', \"developer\", 'qa', 'analyist', 'senior', \\\n",
    "            'project', 'manager', 'team', 'lead']\n",
    "df_18['programming_language'] = df_18['Position'].apply(lambda x: func(x, positions))"
   ]
  },
  {
   "cell_type": "code",
   "execution_count": 10,
   "id": "f254eac2-564f-4454-a9fc-b42f43233ba5",
   "metadata": {},
   "outputs": [],
   "source": [
    "df_20.columns = [\"_\".join(to_snake(each).split(\" \")) for each in df_20.columns]\n",
    "df_19.columns = [\"_\".join(to_snake(each).split(\" \")) for each in df_19.columns]\n",
    "df_18.columns = [\"_\".join(to_snake(each).split(\" \")) for each in df_18.columns]"
   ]
  },
  {
   "cell_type": "code",
   "execution_count": 11,
   "id": "590fcbf3-b17c-4f85-bfdb-5ddf44466a7d",
   "metadata": {},
   "outputs": [],
   "source": [
    "merged_df = pd.concat([df_18, df_19, df_20], axis=0)"
   ]
  },
  {
   "cell_type": "code",
   "execution_count": 12,
   "id": "45c768bb-ae5b-44cd-a78e-15ebcd5cc401",
   "metadata": {},
   "outputs": [
    {
     "name": "stdout",
     "output_type": "stream",
     "text": [
      "<class 'pandas.core.frame.DataFrame'>\n",
      "Index: 2989 entries, 0 to 1252\n",
      "Data columns (total 16 columns):\n",
      " #   Column                Non-Null Count  Dtype  \n",
      "---  ------                --------------  -----  \n",
      " 0   timestamp             2989 non-null   object \n",
      " 1   age                   2778 non-null   float64\n",
      " 2   gender                2980 non-null   object \n",
      " 3   city                  2971 non-null   object \n",
      " 4   position              2972 non-null   object \n",
      " 5   experience            2958 non-null   object \n",
      " 6   seniority_level       2958 non-null   object \n",
      " 7   salary                2986 non-null   float64\n",
      " 8   salary_one_year_ago   2084 non-null   float64\n",
      " 9   language              2973 non-null   object \n",
      " 10  company_size          2962 non-null   object \n",
      " 11  company_type          2917 non-null   object \n",
      " 12  survey_year           2989 non-null   int64  \n",
      " 13  programming_language  2705 non-null   object \n",
      " 14  vacation_days         2116 non-null   object \n",
      " 15  сontract_duration     2186 non-null   object \n",
      "dtypes: float64(3), int64(1), object(12)\n",
      "memory usage: 397.0+ KB\n"
     ]
    }
   ],
   "source": [
    "merged_df.info()"
   ]
  },
  {
   "cell_type": "code",
   "execution_count": 13,
   "id": "5a8030a0-6093-4900-999d-6df2344d055c",
   "metadata": {},
   "outputs": [
    {
     "data": {
      "text/plain": [
       "Counter({'timestamp': 3,\n",
       "         'age': 3,\n",
       "         'gender': 3,\n",
       "         'city': 3,\n",
       "         'seniority_level': 3,\n",
       "         'position': 3,\n",
       "         'experience': 3,\n",
       "         'programming_language': 3,\n",
       "         'salary': 3,\n",
       "         'salary_one_year_ago': 3,\n",
       "         'language': 3,\n",
       "         'company_size': 3,\n",
       "         'company_type': 3,\n",
       "         'survey_year': 3,\n",
       "         'vacation_days': 2,\n",
       "         'сontract_duration': 2})"
      ]
     },
     "execution_count": 13,
     "metadata": {},
     "output_type": "execute_result"
    }
   ],
   "source": [
    "from collections import Counter\n",
    "\n",
    "columns = [*df_19.columns, *df_18.columns, *df_20.columns]\n",
    "Counter(columns)"
   ]
  },
  {
   "cell_type": "code",
   "execution_count": 14,
   "id": "6089a3d4-d394-4b6e-bd15-f1332ea17318",
   "metadata": {},
   "outputs": [],
   "source": [
    "merged_df.to_csv(\"/home/adnan/Documents/codes/data_Science/eda-and-visualization/IT-salary/data/processed/initial_cleaned_IT_survey.csv\", index=False)"
   ]
  },
  {
   "cell_type": "code",
   "execution_count": null,
   "id": "1ff78f7c-15e2-4170-bfd3-0b192908dace",
   "metadata": {},
   "outputs": [],
   "source": []
  }
 ],
 "metadata": {
  "kernelspec": {
   "display_name": "Python 3 (ipykernel)",
   "language": "python",
   "name": "python3"
  },
  "language_info": {
   "codemirror_mode": {
    "name": "ipython",
    "version": 3
   },
   "file_extension": ".py",
   "mimetype": "text/x-python",
   "name": "python",
   "nbconvert_exporter": "python",
   "pygments_lexer": "ipython3",
   "version": "3.13.0"
  }
 },
 "nbformat": 4,
 "nbformat_minor": 5
}
