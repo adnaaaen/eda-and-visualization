{
 "cells": [
  {
   "cell_type": "code",
   "execution_count": 1,
   "id": "848fcf50-55f0-4b50-827d-6b5532afa9cf",
   "metadata": {},
   "outputs": [],
   "source": [
    "import numpy as np\n",
    "import pandas as pd\n",
    "import sys\n",
    "from camel_converter import to_snake"
   ]
  },
  {
   "cell_type": "code",
   "execution_count": 2,
   "id": "3ecc1477-e92b-436f-b4c4-c3da7133b305",
   "metadata": {},
   "outputs": [],
   "source": [
    "def remove_null_values(df: pd.DataFrame) -> pd.DataFrame:\n",
    "    df = df[df.columns[df.isna().mean() * 100 < 60]]\n",
    "    df = df[df.isna().mean(axis=1) * 100 < 50]\n",
    "    return df"
   ]
  },
  {
   "cell_type": "code",
   "execution_count": 3,
   "id": "7b02e585-85a4-4726-bb53-db893d631fef",
   "metadata": {},
   "outputs": [],
   "source": [
    "df_19 = remove_null_values(pd.read_csv(\"/home/adnan/Documents/codes/data_Science/eda-and-visualization/IT-salary/data/raw/IT Salary Survey EU 2019.csv\"))\n",
    "df_20 = remove_null_values(pd.read_csv(\"/home/adnan/Documents/codes/data_Science/eda-and-visualization/IT-salary/data/raw/IT Salary Survey EU  2020.csv\"))"
   ]
  },
  {
   "cell_type": "code",
   "execution_count": 4,
   "id": "8d4686e9-93b8-412f-959b-a443b2bceb07",
   "metadata": {},
   "outputs": [
    {
     "data": {
      "text/plain": [
       "Index(['Zeitstempel', 'Age', 'Gender', 'City', 'Seniority level',\n",
       "       'Position (without seniority)', 'Years of experience',\n",
       "       'Your main technology / programming language',\n",
       "       'Yearly brutto salary (without bonus and stocks)', 'Yearly bonus',\n",
       "       'Yearly brutto salary (without bonus and stocks) one year ago. Only answer if staying in same country',\n",
       "       'Number of vacation days', 'Number of home office days per month',\n",
       "       'Main language at work', 'Company size', 'Company type',\n",
       "       'Сontract duration', 'Company business sector'],\n",
       "      dtype='object')"
      ]
     },
     "execution_count": 4,
     "metadata": {},
     "output_type": "execute_result"
    }
   ],
   "source": [
    "df_19.columns"
   ]
  },
  {
   "cell_type": "code",
   "execution_count": 5,
   "id": "3fe21292-cbf7-4ce5-8441-13d0deb7a5a9",
   "metadata": {},
   "outputs": [
    {
     "data": {
      "text/plain": [
       "Index(['Timestamp', 'Age', 'Gender', 'City', 'Position ',\n",
       "       'Total years of experience', 'Years of experience in Germany',\n",
       "       'Seniority level', 'Your main technology / programming language',\n",
       "       'Other technologies/programming languages you use often',\n",
       "       'Yearly brutto salary (without bonus and stocks) in EUR',\n",
       "       'Yearly bonus + stocks in EUR',\n",
       "       'Annual brutto salary (without bonus and stocks) one year ago. Only answer if staying in the same country',\n",
       "       'Annual bonus+stocks one year ago. Only answer if staying in same country',\n",
       "       'Number of vacation days', 'Employment status', 'Сontract duration',\n",
       "       'Main language at work', 'Company size', 'Company type',\n",
       "       'Have you lost your job due to the coronavirus outbreak?'],\n",
       "      dtype='object')"
      ]
     },
     "execution_count": 5,
     "metadata": {},
     "output_type": "execute_result"
    }
   ],
   "source": [
    "df_20.columns"
   ]
  },
  {
   "cell_type": "code",
   "execution_count": 6,
   "id": "f6d87919-acf3-4a37-88a9-5f22cd27a004",
   "metadata": {},
   "outputs": [],
   "source": [
    "df_20 = df_20.drop(columns=['Have you lost your job due to the coronavirus outbreak?', \n",
    "            'Other technologies/programming languages you use often', 'Employment status', \n",
    "            'Yearly bonus + stocks in EUR', 'Years of experience in Germany',\n",
    "            'Annual bonus+stocks one year ago. Only answer if staying in same country'])\n",
    "\n",
    "df_19 = df_19.drop(columns=['Company business sector', 'Yearly bonus', 'Number of home office days per month'])"
   ]
  },
  {
   "cell_type": "code",
   "execution_count": 7,
   "id": "9ee6d4cd-3a3c-4cde-a7a8-90015e3f3523",
   "metadata": {},
   "outputs": [],
   "source": [
    "df_20 = df_20.rename(columns={\n",
    "    'Total years of experience' : 'experience',\n",
    "    'Your main technology / programming language' : 'programming_language',\n",
    "    'Yearly brutto salary (without bonus and stocks) in EUR' : 'salary',\n",
    "    'Annual brutto salary (without bonus and stocks) one year ago. Only answer if staying in the same country' : \\\n",
    "    'Salary one year ago',\n",
    "    'Number of vacation days' : 'vacation_days',\n",
    "    'Main language at work' : 'language',\n",
    "    'Position ' : 'Position',\n",
    "    'Сontract duration' : 'contract duration'\n",
    "})"
   ]
  },
  {
   "cell_type": "code",
   "execution_count": 8,
   "id": "6dbe8534-c398-4de1-8635-fe6821aeab8e",
   "metadata": {},
   "outputs": [],
   "source": [
    "df_19 = df_19.rename(columns={\n",
    "    'Zeitstempel' : 'Timestamp',\n",
    "    'Position (without seniority)' : 'Position',\n",
    "    'Years of experience' : 'experience',\n",
    "    'Your main technology / programming language' : 'programming_language',\n",
    "    'Yearly brutto salary (without bonus and stocks)' : 'salary',\n",
    "    'Yearly brutto salary (without bonus and stocks) one year ago. Only answer if staying in same country' : \\\n",
    "    'Salary one year ago',\n",
    "    'Number of vacation days' : 'vacation_days',\n",
    "    'Main language at work' : 'language',\n",
    "    'Сontract duration' : 'contract duration'\n",
    "})"
   ]
  },
  {
   "cell_type": "code",
   "execution_count": 9,
   "id": "04aa2cab-5457-4a16-95ab-0671fd2b6442",
   "metadata": {},
   "outputs": [],
   "source": [
    "df_20['survey_year'] = 2020\n",
    "df_19['survey_year'] = 2019"
   ]
  },
  {
   "cell_type": "code",
   "execution_count": 10,
   "id": "f254eac2-564f-4454-a9fc-b42f43233ba5",
   "metadata": {},
   "outputs": [],
   "source": [
    "df_20.columns = [\"_\".join(to_snake(each).split(\" \")) for each in df_20.columns]\n",
    "df_19.columns = [\"_\".join(to_snake(each).split(\" \")) for each in df_19.columns]"
   ]
  },
  {
   "cell_type": "code",
   "execution_count": 11,
   "id": "590fcbf3-b17c-4f85-bfdb-5ddf44466a7d",
   "metadata": {},
   "outputs": [],
   "source": [
    "merged_df = pd.concat([df_19, df_20], axis=0)"
   ]
  },
  {
   "cell_type": "code",
   "execution_count": 12,
   "id": "45c768bb-ae5b-44cd-a78e-15ebcd5cc401",
   "metadata": {},
   "outputs": [
    {
     "name": "stdout",
     "output_type": "stream",
     "text": [
      "<class 'pandas.core.frame.DataFrame'>\n",
      "Index: 2238 entries, 0 to 1252\n",
      "Data columns (total 16 columns):\n",
      " #   Column                Non-Null Count  Dtype  \n",
      "---  ------                --------------  -----  \n",
      " 0   timestamp             2238 non-null   object \n",
      " 1   age                   2106 non-null   float64\n",
      " 2   gender                2232 non-null   object \n",
      " 3   city                  2238 non-null   object \n",
      " 4   seniority_level       2216 non-null   object \n",
      " 5   position              2235 non-null   object \n",
      " 6   experience            2226 non-null   object \n",
      " 7   programming_language  2103 non-null   object \n",
      " 8   salary                2237 non-null   float64\n",
      " 9   salary_one_year_ago   1488 non-null   float64\n",
      " 10  vacation_days         2116 non-null   object \n",
      " 11  language              2223 non-null   object \n",
      " 12  company_size          2212 non-null   object \n",
      " 13  company_type          2187 non-null   object \n",
      " 14  contract_duration     2186 non-null   object \n",
      " 15  survey_year           2238 non-null   int64  \n",
      "dtypes: float64(3), int64(1), object(12)\n",
      "memory usage: 297.2+ KB\n"
     ]
    }
   ],
   "source": [
    "merged_df.info()"
   ]
  },
  {
   "cell_type": "code",
   "execution_count": 13,
   "id": "5a8030a0-6093-4900-999d-6df2344d055c",
   "metadata": {},
   "outputs": [
    {
     "data": {
      "text/plain": [
       "Counter({'timestamp': 2,\n",
       "         'age': 2,\n",
       "         'gender': 2,\n",
       "         'city': 2,\n",
       "         'seniority_level': 2,\n",
       "         'position': 2,\n",
       "         'experience': 2,\n",
       "         'programming_language': 2,\n",
       "         'salary': 2,\n",
       "         'salary_one_year_ago': 2,\n",
       "         'vacation_days': 2,\n",
       "         'language': 2,\n",
       "         'company_size': 2,\n",
       "         'company_type': 2,\n",
       "         'contract_duration': 2,\n",
       "         'survey_year': 2})"
      ]
     },
     "execution_count": 13,
     "metadata": {},
     "output_type": "execute_result"
    }
   ],
   "source": [
    "from collections import Counter\n",
    "\n",
    "columns = [*df_19.columns, *df_20.columns]\n",
    "Counter(columns)"
   ]
  },
  {
   "cell_type": "code",
   "execution_count": 14,
   "id": "6089a3d4-d394-4b6e-bd15-f1332ea17318",
   "metadata": {},
   "outputs": [],
   "source": [
    "merged_df.to_csv(\"/home/adnan/Documents/codes/data_Science/eda-and-visualization/IT-salary/data/processed/tranformed_IT_survey(v.0.1).csv\", index=False)"
   ]
  },
  {
   "cell_type": "code",
   "execution_count": null,
   "id": "1ff78f7c-15e2-4170-bfd3-0b192908dace",
   "metadata": {},
   "outputs": [],
   "source": []
  }
 ],
 "metadata": {
  "kernelspec": {
   "display_name": "Python 3 (ipykernel)",
   "language": "python",
   "name": "python3"
  },
  "language_info": {
   "codemirror_mode": {
    "name": "ipython",
    "version": 3
   },
   "file_extension": ".py",
   "mimetype": "text/x-python",
   "name": "python",
   "nbconvert_exporter": "python",
   "pygments_lexer": "ipython3",
   "version": "3.13.0"
  }
 },
 "nbformat": 4,
 "nbformat_minor": 5
}
