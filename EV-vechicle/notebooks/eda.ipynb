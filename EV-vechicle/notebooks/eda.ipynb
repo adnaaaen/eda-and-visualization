{
 "cells": [
  {
   "cell_type": "markdown",
   "id": "89756f70-5a2c-4b69-abca-60395b510e8d",
   "metadata": {},
   "source": [
    "## **Electric Vehicle Population EDA**"
   ]
  },
  {
   "cell_type": "markdown",
   "id": "cae05d24-be62-4927-b368-5c69716b54d2",
   "metadata": {},
   "source": [
    "**Objectives** :  Analyze the Electric Vehicle (EV) dataset to uncover patterns, trends, and insights into EV sales and market. \\\n",
    "**Dataset** : Data collected from [data.gov](https://catalog.data.gov/dataset/electric-vehicle-population-data)\n",
    "For more information about the dataset, referse to the [README file](../data/README.md)."
   ]
  },
  {
   "cell_type": "markdown",
   "id": "fe2e9949-9b78-4694-b6ef-635c734131b9",
   "metadata": {
    "jp-MarkdownHeadingCollapsed": true
   },
   "source": [
    "#### **Import Neccessory modules**"
   ]
  },
  {
   "cell_type": "code",
   "execution_count": 1,
   "id": "a3f5a6a4-e6c0-412c-89a0-dd4a6ce3b622",
   "metadata": {},
   "outputs": [],
   "source": [
    "import pandas as pd\n",
    "import numpy as np\n",
    "import matplotlib.pyplot as plt\n",
    "import seaborn as sns\n",
    "import scipy.stats as stats\n",
    "from camel_converter import to_snake\n",
    "\n",
    "from dotenv import load_dotenv\n",
    "load_dotenv()\n",
    "\n",
    "import os\n",
    "PROJECT_DIR = os.getenv(\"PROJECT_DIR\")\n",
    "\n",
    "# data cleaning helper scirpt \n",
    "import sys\n",
    "sys.path.append(f\"{PROJECT_DIR}/eda-and-visualization/EV-vechicle/scripts\")\n",
    "import visualizing as vis_helper"
   ]
  },
  {
   "cell_type": "markdown",
   "id": "128b4ee4-98a6-4a92-a005-e90dbae00b89",
   "metadata": {
    "jp-MarkdownHeadingCollapsed": true
   },
   "source": [
    "#### **Getting Start**"
   ]
  },
  {
   "cell_type": "markdown",
   "id": "aa293ef5-a91d-46b3-85dc-adc779edbc2f",
   "metadata": {
    "jp-MarkdownHeadingCollapsed": true
   },
   "source": [
    "##### read dataset"
   ]
  },
  {
   "cell_type": "code",
   "execution_count": 2,
   "id": "c298a314-88e4-45c6-abd5-ebce66fbbc7a",
   "metadata": {},
   "outputs": [],
   "source": [
    "df = pd.read_csv(f\"{PROJECT_DIR}/eda-and-visualization/EV-vechicle/data/ev_population.csv\")"
   ]
  },
  {
   "cell_type": "markdown",
   "id": "a5cc53ab-e8a8-48b7-9d41-bf0806864022",
   "metadata": {
    "jp-MarkdownHeadingCollapsed": true
   },
   "source": [
    "##### dataset lookup"
   ]
  },
  {
   "cell_type": "code",
   "execution_count": 4,
   "id": "5851b5d5-65eb-44e8-87fd-37ba1adf4397",
   "metadata": {},
   "outputs": [
    {
     "name": "stdout",
     "output_type": "stream",
     "text": [
      "<class 'pandas.core.frame.DataFrame'>\n",
      "RangeIndex: 205439 entries, 0 to 205438\n",
      "Data columns (total 17 columns):\n",
      " #   Column                                             Non-Null Count   Dtype  \n",
      "---  ------                                             --------------   -----  \n",
      " 0   VIN (1-10)                                         205439 non-null  object \n",
      " 1   County                                             205436 non-null  object \n",
      " 2   City                                               205436 non-null  object \n",
      " 3   State                                              205439 non-null  object \n",
      " 4   Postal Code                                        205436 non-null  float64\n",
      " 5   Model Year                                         205439 non-null  int64  \n",
      " 6   Make                                               205439 non-null  object \n",
      " 7   Model                                              205438 non-null  object \n",
      " 8   Electric Vehicle Type                              205439 non-null  object \n",
      " 9   Clean Alternative Fuel Vehicle (CAFV) Eligibility  205439 non-null  object \n",
      " 10  Electric Range                                     205431 non-null  float64\n",
      " 11  Base MSRP                                          205431 non-null  float64\n",
      " 12  Legislative District                               204997 non-null  float64\n",
      " 13  DOL Vehicle ID                                     205439 non-null  int64  \n",
      " 14  Vehicle Location                                   205431 non-null  object \n",
      " 15  Electric Utility                                   205436 non-null  object \n",
      " 16  2020 Census Tract                                  205436 non-null  float64\n",
      "dtypes: float64(5), int64(2), object(10)\n",
      "memory usage: 26.6+ MB\n"
     ]
    }
   ],
   "source": [
    "df.info()"
   ]
  },
  {
   "cell_type": "code",
   "execution_count": 5,
   "id": "f1ebe440-1c33-4433-bf72-3d9dd02625b6",
   "metadata": {},
   "outputs": [
    {
     "name": "stdout",
     "output_type": "stream",
     "text": [
      "Dataframe contain 205439 rows & 17 columns\n"
     ]
    }
   ],
   "source": [
    "print(f\"Dataframe contain {df.shape[0]} rows & {df.shape[1]} columns\")"
   ]
  },
  {
   "cell_type": "code",
   "execution_count": 43,
   "id": "7cfc2662-b454-491d-9663-be1f9e864c13",
   "metadata": {},
   "outputs": [
    {
     "data": {
      "text/html": [
       "<div>\n",
       "<style scoped>\n",
       "    .dataframe tbody tr th:only-of-type {\n",
       "        vertical-align: middle;\n",
       "    }\n",
       "\n",
       "    .dataframe tbody tr th {\n",
       "        vertical-align: top;\n",
       "    }\n",
       "\n",
       "    .dataframe thead th {\n",
       "        text-align: right;\n",
       "    }\n",
       "</style>\n",
       "<table border=\"1\" class=\"dataframe\">\n",
       "  <thead>\n",
       "    <tr style=\"text-align: right;\">\n",
       "      <th></th>\n",
       "      <th>county</th>\n",
       "      <th>city</th>\n",
       "      <th>state</th>\n",
       "      <th>model_year</th>\n",
       "      <th>make</th>\n",
       "      <th>model</th>\n",
       "      <th>type</th>\n",
       "      <th>cafv_eligibility</th>\n",
       "      <th>electric_utility</th>\n",
       "    </tr>\n",
       "  </thead>\n",
       "  <tbody>\n",
       "    <tr>\n",
       "      <th>0</th>\n",
       "      <td>Kitsap</td>\n",
       "      <td>Seabeck</td>\n",
       "      <td>WA</td>\n",
       "      <td>2023</td>\n",
       "      <td>TOYOTA</td>\n",
       "      <td>RAV4 PRIME</td>\n",
       "      <td>PHEV</td>\n",
       "      <td>Eligible</td>\n",
       "      <td>PUGET SOUND ENERGY INC</td>\n",
       "    </tr>\n",
       "    <tr>\n",
       "      <th>1</th>\n",
       "      <td>Kitsap</td>\n",
       "      <td>Bremerton</td>\n",
       "      <td>WA</td>\n",
       "      <td>2018</td>\n",
       "      <td>NISSAN</td>\n",
       "      <td>LEAF</td>\n",
       "      <td>BEV</td>\n",
       "      <td>Eligible</td>\n",
       "      <td>PUGET SOUND ENERGY INC</td>\n",
       "    </tr>\n",
       "    <tr>\n",
       "      <th>2</th>\n",
       "      <td>King</td>\n",
       "      <td>Seattle</td>\n",
       "      <td>WA</td>\n",
       "      <td>2020</td>\n",
       "      <td>TESLA</td>\n",
       "      <td>MODEL 3</td>\n",
       "      <td>BEV</td>\n",
       "      <td>Eligible</td>\n",
       "      <td>CITY OF SEATTLE - (WA)|CITY OF TACOMA - (WA)</td>\n",
       "    </tr>\n",
       "    <tr>\n",
       "      <th>3</th>\n",
       "      <td>King</td>\n",
       "      <td>Seattle</td>\n",
       "      <td>WA</td>\n",
       "      <td>2014</td>\n",
       "      <td>NISSAN</td>\n",
       "      <td>LEAF</td>\n",
       "      <td>BEV</td>\n",
       "      <td>Eligible</td>\n",
       "      <td>CITY OF SEATTLE - (WA)|CITY OF TACOMA - (WA)</td>\n",
       "    </tr>\n",
       "    <tr>\n",
       "      <th>4</th>\n",
       "      <td>Thurston</td>\n",
       "      <td>Yelm</td>\n",
       "      <td>WA</td>\n",
       "      <td>2017</td>\n",
       "      <td>CHEVROLET</td>\n",
       "      <td>BOLT EV</td>\n",
       "      <td>BEV</td>\n",
       "      <td>Eligible</td>\n",
       "      <td>PUGET SOUND ENERGY INC</td>\n",
       "    </tr>\n",
       "  </tbody>\n",
       "</table>\n",
       "</div>"
      ],
      "text/plain": [
       "     county       city state  model_year       make       model  type  \\\n",
       "0    Kitsap    Seabeck    WA        2023     TOYOTA  RAV4 PRIME  PHEV   \n",
       "1    Kitsap  Bremerton    WA        2018     NISSAN        LEAF   BEV   \n",
       "2      King    Seattle    WA        2020      TESLA     MODEL 3   BEV   \n",
       "3      King    Seattle    WA        2014     NISSAN        LEAF   BEV   \n",
       "4  Thurston       Yelm    WA        2017  CHEVROLET     BOLT EV   BEV   \n",
       "\n",
       "  cafv_eligibility                              electric_utility  \n",
       "0         Eligible                        PUGET SOUND ENERGY INC  \n",
       "1         Eligible                        PUGET SOUND ENERGY INC  \n",
       "2         Eligible  CITY OF SEATTLE - (WA)|CITY OF TACOMA - (WA)  \n",
       "3         Eligible  CITY OF SEATTLE - (WA)|CITY OF TACOMA - (WA)  \n",
       "4         Eligible                        PUGET SOUND ENERGY INC  "
      ]
     },
     "execution_count": 43,
     "metadata": {},
     "output_type": "execute_result"
    }
   ],
   "source": [
    "df.head()"
   ]
  },
  {
   "cell_type": "markdown",
   "id": "1997f8fb-4ca7-4c6f-ad33-228704c3689a",
   "metadata": {
    "jp-MarkdownHeadingCollapsed": true
   },
   "source": [
    "#### **Data cleaning**"
   ]
  },
  {
   "cell_type": "markdown",
   "id": "1c0a9d26-71a3-48b2-94fb-4ba4545a6233",
   "metadata": {
    "jp-MarkdownHeadingCollapsed": true
   },
   "source": [
    "##### Drop unwanted columns"
   ]
  },
  {
   "cell_type": "code",
   "execution_count": 8,
   "id": "2183d7b1-648c-45fe-809b-7ad78aab4566",
   "metadata": {},
   "outputs": [
    {
     "data": {
      "text/html": [
       "<div>\n",
       "<style scoped>\n",
       "    .dataframe tbody tr th:only-of-type {\n",
       "        vertical-align: middle;\n",
       "    }\n",
       "\n",
       "    .dataframe tbody tr th {\n",
       "        vertical-align: top;\n",
       "    }\n",
       "\n",
       "    .dataframe thead th {\n",
       "        text-align: right;\n",
       "    }\n",
       "</style>\n",
       "<table border=\"1\" class=\"dataframe\">\n",
       "  <thead>\n",
       "    <tr style=\"text-align: right;\">\n",
       "      <th></th>\n",
       "      <th>VIN (1-10)</th>\n",
       "      <th>County</th>\n",
       "      <th>City</th>\n",
       "      <th>State</th>\n",
       "      <th>Postal Code</th>\n",
       "      <th>Model Year</th>\n",
       "      <th>Make</th>\n",
       "      <th>Model</th>\n",
       "      <th>Electric Vehicle Type</th>\n",
       "      <th>Clean Alternative Fuel Vehicle (CAFV) Eligibility</th>\n",
       "      <th>Electric Range</th>\n",
       "      <th>Base MSRP</th>\n",
       "      <th>Legislative District</th>\n",
       "      <th>DOL Vehicle ID</th>\n",
       "      <th>Vehicle Location</th>\n",
       "      <th>Electric Utility</th>\n",
       "      <th>2020 Census Tract</th>\n",
       "    </tr>\n",
       "  </thead>\n",
       "  <tbody>\n",
       "    <tr>\n",
       "      <th>116077</th>\n",
       "      <td>KNDCR3LF8P</td>\n",
       "      <td>Snohomish</td>\n",
       "      <td>Snohomish</td>\n",
       "      <td>WA</td>\n",
       "      <td>98290.0</td>\n",
       "      <td>2023</td>\n",
       "      <td>KIA</td>\n",
       "      <td>NIRO</td>\n",
       "      <td>Plug-in Hybrid Electric Vehicle (PHEV)</td>\n",
       "      <td>Clean Alternative Fuel Vehicle Eligible</td>\n",
       "      <td>33.0</td>\n",
       "      <td>0.0</td>\n",
       "      <td>39.0</td>\n",
       "      <td>220491631</td>\n",
       "      <td>POINT (-122.0483457 47.9435765)</td>\n",
       "      <td>PUGET SOUND ENERGY INC</td>\n",
       "      <td>5.306105e+10</td>\n",
       "    </tr>\n",
       "  </tbody>\n",
       "</table>\n",
       "</div>"
      ],
      "text/plain": [
       "        VIN (1-10)     County       City State  Postal Code  Model Year Make  \\\n",
       "116077  KNDCR3LF8P  Snohomish  Snohomish    WA      98290.0        2023  KIA   \n",
       "\n",
       "       Model                   Electric Vehicle Type  \\\n",
       "116077  NIRO  Plug-in Hybrid Electric Vehicle (PHEV)   \n",
       "\n",
       "       Clean Alternative Fuel Vehicle (CAFV) Eligibility  Electric Range  \\\n",
       "116077           Clean Alternative Fuel Vehicle Eligible            33.0   \n",
       "\n",
       "        Base MSRP  Legislative District  DOL Vehicle ID  \\\n",
       "116077        0.0                  39.0       220491631   \n",
       "\n",
       "                       Vehicle Location        Electric Utility  \\\n",
       "116077  POINT (-122.0483457 47.9435765)  PUGET SOUND ENERGY INC   \n",
       "\n",
       "        2020 Census Tract  \n",
       "116077       5.306105e+10  "
      ]
     },
     "execution_count": 8,
     "metadata": {},
     "output_type": "execute_result"
    }
   ],
   "source": [
    "df.sample()"
   ]
  },
  {
   "cell_type": "code",
   "execution_count": 9,
   "id": "3f684927-7117-4a42-89bc-0fd4249750aa",
   "metadata": {},
   "outputs": [],
   "source": [
    "unwanted_cols = [\"VIN (1-10)\", \"DOL Vehicle ID\", \"2020 Census Tract\", \"Legislative District\", \"Postal Code\", \\\n",
    "                 \"Vehicle Location\"]\n",
    "# new df without unwanted columns\n",
    "df = df.drop(columns=unwanted_cols, axis=1)"
   ]
  },
  {
   "cell_type": "code",
   "execution_count": 10,
   "id": "de35205a-93ba-4390-b265-76fd11f7e4a1",
   "metadata": {},
   "outputs": [
    {
     "data": {
      "text/html": [
       "<div>\n",
       "<style scoped>\n",
       "    .dataframe tbody tr th:only-of-type {\n",
       "        vertical-align: middle;\n",
       "    }\n",
       "\n",
       "    .dataframe tbody tr th {\n",
       "        vertical-align: top;\n",
       "    }\n",
       "\n",
       "    .dataframe thead th {\n",
       "        text-align: right;\n",
       "    }\n",
       "</style>\n",
       "<table border=\"1\" class=\"dataframe\">\n",
       "  <thead>\n",
       "    <tr style=\"text-align: right;\">\n",
       "      <th></th>\n",
       "      <th>County</th>\n",
       "      <th>City</th>\n",
       "      <th>State</th>\n",
       "      <th>Model Year</th>\n",
       "      <th>Make</th>\n",
       "      <th>Model</th>\n",
       "      <th>Electric Vehicle Type</th>\n",
       "      <th>Clean Alternative Fuel Vehicle (CAFV) Eligibility</th>\n",
       "      <th>Electric Range</th>\n",
       "      <th>Base MSRP</th>\n",
       "      <th>Electric Utility</th>\n",
       "    </tr>\n",
       "  </thead>\n",
       "  <tbody>\n",
       "    <tr>\n",
       "      <th>28212</th>\n",
       "      <td>Snohomish</td>\n",
       "      <td>Snohomish</td>\n",
       "      <td>WA</td>\n",
       "      <td>2017</td>\n",
       "      <td>TESLA</td>\n",
       "      <td>MODEL S</td>\n",
       "      <td>Battery Electric Vehicle (BEV)</td>\n",
       "      <td>Clean Alternative Fuel Vehicle Eligible</td>\n",
       "      <td>210.0</td>\n",
       "      <td>0.0</td>\n",
       "      <td>PUGET SOUND ENERGY INC</td>\n",
       "    </tr>\n",
       "  </tbody>\n",
       "</table>\n",
       "</div>"
      ],
      "text/plain": [
       "          County       City State  Model Year   Make    Model  \\\n",
       "28212  Snohomish  Snohomish    WA        2017  TESLA  MODEL S   \n",
       "\n",
       "                Electric Vehicle Type  \\\n",
       "28212  Battery Electric Vehicle (BEV)   \n",
       "\n",
       "      Clean Alternative Fuel Vehicle (CAFV) Eligibility  Electric Range  \\\n",
       "28212           Clean Alternative Fuel Vehicle Eligible           210.0   \n",
       "\n",
       "       Base MSRP        Electric Utility  \n",
       "28212        0.0  PUGET SOUND ENERGY INC  "
      ]
     },
     "execution_count": 10,
     "metadata": {},
     "output_type": "execute_result"
    }
   ],
   "source": [
    "df.sample()"
   ]
  },
  {
   "cell_type": "markdown",
   "id": "8b937b04-5370-4d44-816d-bda14af87fbf",
   "metadata": {
    "jp-MarkdownHeadingCollapsed": true
   },
   "source": [
    "##### Drop duplicated rows"
   ]
  },
  {
   "cell_type": "code",
   "execution_count": 11,
   "id": "de844489-8e11-4610-90e1-cfb1a9fcc9cb",
   "metadata": {},
   "outputs": [
    {
     "name": "stdout",
     "output_type": "stream",
     "text": [
      "The dataframe contain 167254 duplicated rows\n"
     ]
    }
   ],
   "source": [
    "duplicate_df = df.duplicated()\n",
    "print(f\"The dataframe contain {df[duplicate_df].shape[0]} duplicated rows\")\n",
    "# even though when we remove this much no.of rows it will strongly reduce our dataset but...\n",
    "\n",
    "df = df[~duplicate_df]"
   ]
  },
  {
   "cell_type": "code",
   "execution_count": 12,
   "id": "12024fe8-4a14-4753-944b-8e96ae3485d2",
   "metadata": {},
   "outputs": [
    {
     "data": {
      "text/plain": [
       "(38185, 11)"
      ]
     },
     "execution_count": 12,
     "metadata": {},
     "output_type": "execute_result"
    }
   ],
   "source": [
    "df.shape"
   ]
  },
  {
   "cell_type": "markdown",
   "id": "db888e44-b9cc-4e7a-bd5a-45b736a5391a",
   "metadata": {
    "jp-MarkdownHeadingCollapsed": true
   },
   "source": [
    "##### Rename column names"
   ]
  },
  {
   "cell_type": "code",
   "execution_count": 13,
   "id": "d79a7e7d-e401-405f-9f21-57a9259b1119",
   "metadata": {},
   "outputs": [],
   "source": [
    "map_cols = {\n",
    "    \"Electric Vehicle Type\" : \"type\",\n",
    "    \"Clean Alternative Fuel Vehicle (CAFV) Eligibility\" : \"cafv eligibility\"}\n",
    "\n",
    "# replace large column names with meaningfull names\n",
    "df = df.rename(columns=map_cols)"
   ]
  },
  {
   "cell_type": "code",
   "execution_count": 14,
   "id": "01b0b392-5855-4709-b89c-36e1100d8101",
   "metadata": {},
   "outputs": [],
   "source": [
    "# change all column name into snake_case format\n",
    "df.columns = [to_snake(\"_\".join(each.lower().split(\" \"))) for each in df.columns]"
   ]
  },
  {
   "cell_type": "code",
   "execution_count": 15,
   "id": "4a14fda2-2172-42ad-bb03-03da2f81a75e",
   "metadata": {},
   "outputs": [
    {
     "data": {
      "text/html": [
       "<div>\n",
       "<style scoped>\n",
       "    .dataframe tbody tr th:only-of-type {\n",
       "        vertical-align: middle;\n",
       "    }\n",
       "\n",
       "    .dataframe tbody tr th {\n",
       "        vertical-align: top;\n",
       "    }\n",
       "\n",
       "    .dataframe thead th {\n",
       "        text-align: right;\n",
       "    }\n",
       "</style>\n",
       "<table border=\"1\" class=\"dataframe\">\n",
       "  <thead>\n",
       "    <tr style=\"text-align: right;\">\n",
       "      <th></th>\n",
       "      <th>county</th>\n",
       "      <th>city</th>\n",
       "      <th>state</th>\n",
       "      <th>model_year</th>\n",
       "      <th>make</th>\n",
       "      <th>model</th>\n",
       "      <th>type</th>\n",
       "      <th>cafv_eligibility</th>\n",
       "      <th>electric_range</th>\n",
       "      <th>base_msrp</th>\n",
       "      <th>electric_utility</th>\n",
       "    </tr>\n",
       "  </thead>\n",
       "  <tbody>\n",
       "    <tr>\n",
       "      <th>53324</th>\n",
       "      <td>Thurston</td>\n",
       "      <td>Olympia</td>\n",
       "      <td>WA</td>\n",
       "      <td>2022</td>\n",
       "      <td>AUDI</td>\n",
       "      <td>Q5</td>\n",
       "      <td>Plug-in Hybrid Electric Vehicle (PHEV)</td>\n",
       "      <td>Not eligible due to low battery range</td>\n",
       "      <td>23.0</td>\n",
       "      <td>0.0</td>\n",
       "      <td>PUGET SOUND ENERGY INC</td>\n",
       "    </tr>\n",
       "  </tbody>\n",
       "</table>\n",
       "</div>"
      ],
      "text/plain": [
       "         county     city state  model_year  make model  \\\n",
       "53324  Thurston  Olympia    WA        2022  AUDI    Q5   \n",
       "\n",
       "                                         type  \\\n",
       "53324  Plug-in Hybrid Electric Vehicle (PHEV)   \n",
       "\n",
       "                            cafv_eligibility  electric_range  base_msrp  \\\n",
       "53324  Not eligible due to low battery range            23.0        0.0   \n",
       "\n",
       "             electric_utility  \n",
       "53324  PUGET SOUND ENERGY INC  "
      ]
     },
     "execution_count": 15,
     "metadata": {},
     "output_type": "execute_result"
    }
   ],
   "source": [
    "df.sample()"
   ]
  },
  {
   "cell_type": "markdown",
   "id": "0c09c7ed-a444-4b21-894b-aa8a2209049e",
   "metadata": {
    "jp-MarkdownHeadingCollapsed": true
   },
   "source": [
    "##### Handle invalid data points"
   ]
  },
  {
   "cell_type": "code",
   "execution_count": 16,
   "id": "73c5f3db-603e-40c9-89b8-fb7beb7c04e1",
   "metadata": {
    "scrolled": true
   },
   "outputs": [
    {
     "name": "stdout",
     "output_type": "stream",
     "text": [
      "county\n",
      "['Kitsap' 'King' 'Thurston' 'Snohomish' 'Yakima' 'Island' 'Skagit'\n",
      " 'Spokane' 'Clallam' 'Chelan' 'Walla Walla' 'Kittitas' 'Whitman' 'Stevens'\n",
      " 'Grant' 'Douglas' 'Clark' 'Cowlitz' 'Jefferson' 'Klickitat' 'Pierce'\n",
      " 'Franklin' 'Whatcom' 'San Juan' 'Columbia' 'Grays Harbor' 'Lewis'\n",
      " 'Benton' 'Pacific' 'Mason' 'Platte' 'Monterey' 'Wahkiakum' 'Norfolk'\n",
      " 'Okanogan' 'Cumberland' 'Skamania' \"Prince George's\" 'Garfield'\n",
      " 'Pend Oreille' 'Asotin' 'Lincoln' 'Adams' 'San Diego' 'Oldham' 'York'\n",
      " 'Orange' 'Wake' 'Los Angeles' 'Sonoma' 'Ferry' 'Churchill' 'DeKalb'\n",
      " 'Goochland' 'Stafford' 'Contra Costa' 'Riverside' 'Loudoun' 'Allen'\n",
      " 'James City' 'Anne Arundel' 'Madison' 'Isle of Wight' 'Leavenworth'\n",
      " 'Charles' 'Sarpy' 'Kings' 'Ventura' 'San Mateo' 'Sacramento' 'Maui' nan\n",
      " 'Ada' 'Mobile' 'District of Columbia' 'New York' 'Multnomah' 'Fairfax'\n",
      " 'Wichita' 'El Paso' 'Honolulu' 'Maricopa' 'Montgomery' 'Hillsborough'\n",
      " 'Doña Ana' 'Autauga' 'Berkeley' 'Escambia' 'Polk' 'Charleston' 'Hamilton'\n",
      " 'Mercer' 'Solano' 'Virginia Beach' 'Collin' 'Harris' 'Macomb'\n",
      " 'Spotsylvania' 'Marion' 'Newport' 'Hoke' 'Laramie' 'Santa Clara' 'Marin'\n",
      " 'El Dorado' 'Washoe' 'Tooele' 'Travis' 'Santa Barbara' 'Kent' 'Albemarle'\n",
      " 'Pitt' 'Sarasota' 'Harford' 'Santa Cruz' 'Alameda' 'Atlantic' 'Lake'\n",
      " 'Saratoga' 'Kootenai' 'New Castle' 'Arapahoe' 'Tarrant' 'San Francisco'\n",
      " 'Alexandria' 'DuPage' 'Middlesex' 'Cook' 'Pulaski' 'Hudson' 'Anchorage'\n",
      " 'Hennepin' 'St. Louis' 'Pinal' 'Prince William' 'Harnett' 'Muscogee'\n",
      " 'Hardin' 'Richland' 'Placer' 'Burlington' 'Plaquemines' 'Chesapeake'\n",
      " 'Suffolk' 'New Haven' 'Lane' 'Rockingham' 'Rockdale' 'Salt Lake'\n",
      " 'New London' 'Otero' 'Philadelphia' 'St. Charles' 'Pima' 'Howard'\n",
      " \"St. Mary's\" 'Kauai' 'Frederick' 'Yuba' 'Denton' 'Washtenaw' 'Bay'\n",
      " 'Beaufort' 'Calvert' 'Champaign' 'Tom Green' 'St. Lawrence' 'Brown'\n",
      " 'Palm Beach' 'Lee' 'Sedgwick' 'Essex' 'Lexington' 'Portsmouth' 'Bell'\n",
      " 'Yolo' 'San Bernardino' 'Nueces' 'Davis' 'Kern' 'Galveston'\n",
      " 'Chesterfield' 'Shelby' 'Prince George' 'Larimer' 'Caddo' 'Houston'\n",
      " 'Williamson' 'Meade' 'Duval' 'Currituck' 'Cuyahoga' 'San Joaquin'\n",
      " 'Carroll' 'Newport News' 'Brevard' 'Gwinnett' 'Rock Island' 'Bexar'\n",
      " 'Utah' 'Fresno' 'Fredericksburg' 'Williamsburg' 'Cameron' 'Tippecanoe'\n",
      " 'Christian']\n",
      "****************************************************************************************************\n",
      "city\n",
      "['Seabeck' 'Bremerton' 'Seattle' 'Yelm' 'Lynnwood' 'Poulsbo' 'Arlington'\n",
      " 'Kent' 'Kirkland' 'Tumwater' 'Yakima' 'Centralia' 'Olympia' 'Issaquah'\n",
      " 'Duvall' 'Lake Stevens' 'Selah' 'Zillah' 'Bothell' 'Kingston'\n",
      " 'Port Orchard' 'Lacey' 'Hansville' 'Redmond' 'Bellevue' 'Everett'\n",
      " 'Oak Harbor' 'Bainbridge Island' 'Mountlake Terrace' 'Mukilteo'\n",
      " 'Anacortes' 'Spokane' 'Snohomish' 'Moxee' 'Edmonds' 'Sequim' 'Wapato'\n",
      " 'Manson' 'Mount Vernon' 'College Place' 'Leavenworth' 'Ellensburg'\n",
      " 'Brier' 'Pullman' 'La Conner' 'Kettle Falls' 'Langley' 'Silverdale'\n",
      " 'Renton' 'Keyport' 'Wenatchee' 'Ephrata' 'Monroe' 'Orondo' 'Sammamish'\n",
      " 'Pacific' 'Seatac' 'Newcastle' 'La Center' 'Tukwila' 'Auburn' 'Vancouver'\n",
      " 'Lake Forest Park' 'Des Moines' 'Longview' 'Federal Way' 'Normandy Park'\n",
      " 'Kenmore' 'Olalla' 'Burien' 'Mercer Island' 'Shoreline' 'Camas'\n",
      " 'Ridgefield' 'Port Townsend' 'Woodinville' 'Nine Mile Falls'\n",
      " 'Port Hadlock' 'North Bend' 'Kelso' 'Battle Ground' 'Black Diamond'\n",
      " 'Covington' 'Castle Rock' 'Port Ludlow' 'Brush Prairie' 'Medina' 'Ariel'\n",
      " 'Sunnyside' 'Maple Valley' 'Coupeville' 'Tenino' 'Tulalip' 'Mabton'\n",
      " 'Marysville' 'Kalama' 'Camano Island' 'Amboy' 'Port Angeles' 'Quilcene'\n",
      " 'Enumclaw' 'Beaux Arts' 'Washougal' 'Woodland' 'Rochester' 'Grandview'\n",
      " 'Mill Creek' 'Bingen' 'Rainier' 'Toppenish' 'Clyde Hill' 'Algona'\n",
      " 'Silverlake' 'Brinnon' 'Suquamish' 'Colville' 'Carnation' 'Chimacum'\n",
      " 'Granite Falls' 'Woodway' 'Yacolt' 'Nordland' 'Forks' 'Indianola'\n",
      " 'Stanwood' 'Freeland' 'Naches' 'Skykomish' 'Bucoda' 'Granger' 'Tieton'\n",
      " 'Gold Bar' 'Goldendale' 'Fircrest' 'Pasco' 'Gig Harbor' 'Spokane Valley'\n",
      " 'Everson' 'Bellingham' 'Friday Harbor' 'Snoqualmie' 'Tacoma'\n",
      " 'White Salmon' 'Dayton' 'Lynden' 'Ocean Shores' 'Chewelah' 'Chehalis'\n",
      " 'Chelan' 'Burlington' 'Richland' 'South Hill' 'Eatonville' 'Bonney Lake'\n",
      " 'Milton' 'Puyallup' 'Kennewick' 'Vashon' 'Lakebay' 'Lake Tapps' 'Toledo'\n",
      " 'Hunts Point' 'Winlock' 'Lopez Island' 'Sultan' 'Walla Walla' 'Colbert'\n",
      " 'Long Beach' 'Oakesdale' 'Airway Heights' 'Clinton' 'Graham'\n",
      " 'East Wenatchee' 'Moses Lake' 'Outlook' 'Greenbank' 'Lakewood'\n",
      " 'Montesano' 'Grapeview' 'Spanaway' 'Greenacres' 'Edgewood' 'Dupont'\n",
      " 'Cheney' 'Medical Lake' 'Blaine' 'Platte City' 'Point Roberts' 'Bow'\n",
      " 'Prosser' 'Liberty Lake' 'Belfair' 'Snoqualmie Pass' 'Ashford'\n",
      " 'Steilacoom' 'Sedro Woolley' 'Ocean Park' 'Toutle' 'Union' 'Seaside'\n",
      " 'Springdale' 'Fife' 'Cathlamet' 'Buckley' 'Ryderwood' 'Evans' 'Ilwaco'\n",
      " 'Yarrow Point' 'Sedro-Woolley' 'Mead' 'Quincy' 'Ferndale' 'White Swan'\n",
      " 'Fox Island' 'Ravensdale' 'Orting' 'Norfolk' 'Winthrop' 'West Richland'\n",
      " 'Shelton' 'Deer Park' 'Cowiche' 'Onalaska' 'Cle Elum' 'Mccleary'\n",
      " 'Dallesport' 'Hoodsport' 'Fayetteville' 'Stevenson' 'Aberdeen' 'Allyn'\n",
      " 'Eastsound' 'Otis Orchards' 'North Cove' 'Upper Marlboro' 'Fall City'\n",
      " 'Veradale' 'Pros' 'Pomeroy' 'Custer' 'Roy' 'Underwood'\n",
      " 'Joint Base Lewis Mcchord' 'Parker' 'University Place' 'Newman Lake'\n",
      " 'Newport' 'Lummi Island' 'Clarkston' 'Soap Lake' 'Elma' 'Cashmere' 'Olga'\n",
      " 'Royal City' 'Deer Harbor' 'Davenport' 'Fairchild Air Force Base'\n",
      " 'Raymond' 'Othello' 'Union Gap' 'Hoquiam' 'Sumner' 'Vader' 'Index'\n",
      " 'Concrete' 'Valleyford' 'Parkland' 'Palouse' 'San Diego' 'Darrington'\n",
      " 'Trout Lake' 'Clallam Bay' 'Seaview' 'Anderson Island' 'Goshen' 'Carson'\n",
      " 'Benton City' 'Mazama' 'Malaga' 'Twisp' 'Bz Corner' 'Pacific Beach'\n",
      " 'Connell' 'Maple Falls' 'Lopez Is' 'Packwood' 'Carlton' 'Morton'\n",
      " 'Yorktown' 'Warden' 'Buena Park' 'Buena' 'Copalis Beach' 'Ronald'\n",
      " 'Silver Creek' 'Hatton' 'Mineral' 'Tonasket' 'Clearlake' 'Omak' 'Mica'\n",
      " 'Ritzville' 'Lamont' 'Husum' 'Spangle' 'Taholah' 'North Bonneville'\n",
      " 'Chattaroy' 'Lind' 'Harrington' 'Cusick' 'Mattawa' 'Snowden' 'South Bend'\n",
      " 'Carbonado' 'Rock Island' 'Oakville' 'Murdock' 'Grayland' 'Coulee Dam'\n",
      " 'Easton' 'Brewster' 'Raleigh' 'Naselle' 'Mossyrock' 'Riverside' 'Ione'\n",
      " 'Fairfield' 'Vaughn' 'Waitsburg' 'Sumas' 'Roslyn' 'Roosevelt' 'Entiat'\n",
      " 'Tahuya' 'Vantage' 'Bickleton' 'Oroville' 'Gardena' 'Glacier' 'Rosalia'\n",
      " 'Wilbur' 'Wilkeson' 'Healdsburg' 'Cinebar' 'Copalis Crossing' 'Okanogan'\n",
      " 'Randle' 'Reardan' 'Touchet' 'Almira' 'Cosmopolis' 'Westport' 'Republic'\n",
      " 'Peshastin' 'Beaver' 'Waterville' 'Electric City' 'Burbank' 'Garfield'\n",
      " 'Mesa' 'Salkum' 'Eltopia' 'Rosburg' 'Lilliwaup' 'Coulee City' 'Fallon'\n",
      " 'Decatur' 'Midway City' 'Uniontown' 'Glenoma' 'Waldron' 'Elk' 'Nooksack'\n",
      " 'Henrico' 'Stafford' 'Carlisle' 'Longbranch' 'Pittsburg' 'Ethel' 'Odessa'\n",
      " 'Orcas Is' 'Rockport' 'Seven Bays' 'Deming' 'Menifee' 'Asotin'\n",
      " 'Elmer City' 'Kittitas' 'Lyle' 'Aldie' 'South Cle Elum' 'Menlo' 'Rice'\n",
      " 'Pateros' 'Ford' 'Curtis' 'Bridgeport Bar' 'Preston' 'Surfside'\n",
      " 'Palisades' 'Grand Coulee' 'Edwall' 'Neah Bay' 'Fort Wayne' 'St John'\n",
      " 'Toano' 'Ruston' 'Acme' 'Rockford' 'Valley' 'Galvin' 'Dixie' 'Inchelium'\n",
      " 'Moclips' 'Sprague' 'Alderdale' 'Edgewater' 'Sekiu' 'Bay Center'\n",
      " 'Clayton' 'Albion' 'Curlew' 'Omaha' 'Saint Jacob' 'Lebam' 'Shaw Island'\n",
      " 'Carrollton' 'Malott' 'Napavine' 'La Mesa' 'Startup' 'Gifford' 'Maryhill'\n",
      " 'Elbe' 'Colfax' 'Fort Leavenworth' 'Hughesville' 'Malden' 'Klickitat'\n",
      " 'Nahcotta' 'South Prairie' 'Hartline' 'Oceanside' 'Brooklyn' 'Paterson'\n",
      " 'Bridgeport' 'Wellpinit' 'Orient' 'Tokeland' 'Wahkiacus' 'McCleary'\n",
      " 'Lemoore' 'Camarillo' 'Redwood City' 'Creston' 'Endicott' 'Sacramento'\n",
      " 'Tekoa' 'Silver Lake' 'Mansfield' 'Trabuco Canyon' 'Los Angeles'\n",
      " 'Grays River' 'Loon Lake' 'Port Gamble' 'Gambrills' 'Kihei' 'Thorp' nan\n",
      " 'Boise' 'Mobile' 'Washington' 'Latah' 'New York' 'Addy' 'Portland'\n",
      " 'Oysterville' 'Vienna' 'Wildomar' 'Lacrosse' 'Wichita Falls' 'Nespelem'\n",
      " 'El Paso' 'Ewa Beach' 'Smith Creek' 'Phoenix' 'Amanda Park' 'Bethesda'\n",
      " 'Lithia' 'Hunters' 'Hamilton' 'Colton' 'Willapa' 'Cougar' 'Lyman' 'Adna'\n",
      " 'Las Cruces' 'Prattville' 'Scottsdale' 'Walla Walla Co' 'Chula Vista'\n",
      " 'Hanahan' 'Pensacola' 'Salem' 'Charleston Afb' 'Fort Bragg' 'Baring'\n",
      " 'Orcas' 'Methow' 'Springfield' 'Artondale' 'Satsop' 'Cincinnati'\n",
      " 'Princeton' 'Travis Afb' 'Centerville' 'Virginia Beach' 'Frisco'\n",
      " 'Houston' 'Warren' 'Cathedral City' 'Stratford' 'Mc Lean' 'Kailua' 'Pasc'\n",
      " 'Rich' 'Skamokawa' 'Fredericksburg' 'Pella' 'Middletown' 'Metaline'\n",
      " 'Tumtum' 'Fort Belvoir' 'Moorpark' 'Santa Rosa' 'Annapolis'\n",
      " 'Incorporated' 'Deer Meadows' 'Raeford' 'Cheyenne' 'Cupertino'\n",
      " 'San Rafael' 'South Lake Tahoe' 'Alderwood Manor' 'Port Hueneme' 'Tampa'\n",
      " 'Sparks' 'Lancaster' 'Lincoln' 'Waldorf' 'Alexandria' 'Tooele' 'Marina'\n",
      " 'Leander' 'Beverly' 'Chandler' 'Reno' 'Lompoc' 'Dover' 'Martha Lake'\n",
      " 'North Las Vegas' 'San Jose' 'Peoria' 'Charlottesville' 'Winterville'\n",
      " 'Sarasota' 'Aberdeen Proving Ground' 'Marblemount' 'Prairie Ridge'\n",
      " 'Santa Cruz' 'Pe Ell' 'Berkeley' 'Las Vegas' 'Egg Harbor Township'\n",
      " 'Chinook' 'Libertyville' 'Usk' 'Prescott' 'Irvine' 'Saratoga Springs'\n",
      " 'Post Falls' 'Townsend' 'Aurora' 'Bedford' 'San Francisco'\n",
      " 'Andrews Air Force Base' 'Carlsbad' 'West Chicago' 'Greene' 'Hanscom Afb'\n",
      " 'Northport' 'Skokie' 'Little Rock' 'Dryden' 'Jersey City' 'Pacifica'\n",
      " 'Eagle River' 'Minneapolis' 'San Juan Is' 'Saint Louis' 'Holden Village'\n",
      " 'Kapowsin' 'Apache Junction' 'Manassas' 'Spring Lake' 'Fort Benning'\n",
      " 'San Clemente' 'Rineyville' 'East Brunswick' 'Hopkins' 'Roseville'\n",
      " 'Joint Base Mdl' 'Belle Chasse' 'Chesapeake' 'Marlin' 'Suffolk' 'Topanga'\n",
      " 'Colorado Springs' 'Madison' 'Fort George G Meade' 'Sausalito' 'Chicago'\n",
      " 'Portsmouth' 'Odenton' 'Silver Spring' 'Fort Washington' 'Lisle'\n",
      " 'Ventura' 'Conyers' 'South Salt Lake' 'Gales Ferry'\n",
      " 'Holloman Air Force Base' 'Northridge' 'Tempe' 'Fort Worth'\n",
      " 'Philadelphia' 'O Fallon' 'Honolulu' 'Summerville' 'Columbus' 'Tucson'\n",
      " 'Sherwood' 'Lexington Park' 'Kekaha' 'Santa Clara' 'Old Lyme' 'Dumfries'\n",
      " 'South Jordan' 'Englewood' 'Beale Afb' 'Folsom' 'Ellicott City'\n",
      " 'Mountain View' 'Quinault' 'Little Elm' 'Montgomery' 'Rathdrum'\n",
      " 'Ann Arbor' 'Panama City' 'Monument' 'Okatie' 'Chesapeake Beach'\n",
      " 'Champaign' 'Holly Springs' 'Pacific Grove' 'Saint Robert' 'San Angelo'\n",
      " 'Ogdensburg' 'Green Bay' 'Boca Raton' 'Smiths Station' 'Atherton'\n",
      " 'Harrison' 'Derby' 'Bloomfield' 'Chelan Falls' 'Conconully' 'Columbia'\n",
      " 'Montclair' 'Gunpowder' 'Cameron' 'Killeen' 'Davis' 'Benicia'\n",
      " 'Morrisville' 'Groton' 'Lafayette' 'Fort Irwin' 'Lakeview'\n",
      " 'Corpus Christi' 'Appleton' 'Palo Alto' 'Waterford' 'Hill Afb' 'Martinez'\n",
      " 'Louisville' 'Edwards' 'Alameda' 'Dickinson' 'Vacaville' 'Worley'\n",
      " 'Apple Valley' 'Hanover' 'Falls Church' 'North Chesterfield' 'Calera'\n",
      " 'Mechanicsburg' 'Pike Road' 'Fort Lee' 'Watertown' 'Timnath' 'Shreveport'\n",
      " 'Warner Robins' 'Bluffdale' 'Woodbridge' 'Burr Ridge' 'Fremont' 'Austin'\n",
      " 'Chantilly' 'Fort Knox' 'Mystic' 'Jacksonville' 'Sanford' 'Ridgecrest'\n",
      " 'Dresher' 'Highland Park' 'Danville' 'Moyock' 'Arnold' 'Waverly'\n",
      " 'Atlanta' 'Arcadia' 'Monterey' 'Westlake' 'Lodi' 'Burke' 'Potomac'\n",
      " 'Westminster' 'Newport News' 'Maricopa' 'Boston' 'Melbourne' 'Glenwood'\n",
      " 'Torrance' 'Braselton' 'Merrifield' 'Enid' 'Hanford' 'San Antonio'\n",
      " 'Lansing' 'Winter Park' 'Springville' 'Henderson' 'Palm Springs'\n",
      " 'Waynesville' 'Sunnyvale' 'Southlake' 'Fresno' 'Elizabethtown' 'Plymouth'\n",
      " 'Hudson' 'Los Altos' 'Williamsburg' 'Brownsville' 'Goodyear'\n",
      " 'Gaithersburg' 'Ozark' 'Coronado' 'Greenfield Center' 'Wishram']\n",
      "****************************************************************************************************\n",
      "state\n",
      "['WA' 'MO' 'CA' 'VA' 'NC' 'MD' 'KY' 'NV' 'GA' 'PA' 'IN' 'NE' 'IL' 'KS'\n",
      " 'NY' 'HI' 'AE' 'ID' 'AL' 'DC' 'OR' 'TX' 'AZ' 'FL' 'NM' 'SC' 'OH' 'NJ'\n",
      " 'MI' 'IA' 'RI' 'WY' 'UT' 'DE' 'CO' 'MA' 'AR' 'AK' 'MN' 'LA' 'CT' 'NH'\n",
      " 'WI' 'BC' 'OK']\n",
      "****************************************************************************************************\n",
      "model_year\n",
      "[2023 2018 2020 2014 2017 2022 2015 2013 2016 2024 2012 2019 2021 2025\n",
      " 2011 2008 2010 2000 2002 1999 2003 1997]\n",
      "****************************************************************************************************\n",
      "make\n",
      "['TOYOTA' 'NISSAN' 'TESLA' 'CHEVROLET' 'HYUNDAI' 'RIVIAN' 'FORD' 'KIA'\n",
      " 'AUDI' 'DODGE' 'BMW' 'VOLKSWAGEN' 'MITSUBISHI' 'VOLVO' 'FIAT' 'MAZDA'\n",
      " 'MINI' 'LINCOLN' 'MERCEDES-BENZ' 'PORSCHE' 'JAGUAR' 'LEXUS' 'JEEP'\n",
      " 'CHRYSLER' 'HONDA' 'GENESIS' 'POLESTAR' 'SUBARU' 'CADILLAC' 'SMART'\n",
      " 'FISKER' 'LUCID' 'ACURA' 'GMC' 'ALFA ROMEO' 'LAND ROVER' 'TH!NK'\n",
      " 'BENTLEY' 'AZURE DYNAMICS' 'WHEEGO ELECTRIC CARS' 'ROLLS-ROYCE' 'RAM']\n",
      "****************************************************************************************************\n",
      "model\n",
      "['RAV4 PRIME' 'LEAF' 'MODEL 3' 'BOLT EV' 'MODEL Y' 'SANTA FE' 'R1T'\n",
      " 'FOCUS' 'SOUL' 'VOLT' 'A3' 'HORNET' 'MODEL S' 'I3' 'NIRO' 'E-GOLF'\n",
      " 'SPORTAGE' 'X3' 'MODEL X' 'X5' 'PRIUS PRIME' 'EV6' 'OUTLANDER'\n",
      " 'CYBERTRUCK' 'XC40' '500' 'CX-90' 'SORENTO' 'HARDTOP' 'I8' 'FUSION'\n",
      " 'AVIATOR' 'GLE-CLASS' 'XC90' 'TAYCAN' 'BOLT EUV' 'Q4' 'ESCAPE' 'I-PACE'\n",
      " 'C-MAX' 'RX' 'GRAND CHEROKEE' 'WRANGLER' '330E' 'CORSAIR' 'F-150' '530E'\n",
      " 'PACIFICA' 'CLARITY' 'IONIQ 5' 'GV70' 'IX' 'EQE-CLASS SUV' 'KONA'\n",
      " 'EQB-CLASS' 'PS2' 'ID.4' 'SOLTERRA' 'R1S' 'IONIQ 6' 'EQS-CLASS SEDAN'\n",
      " 'B-CLASS' 'SPARK' 'MUSTANG MACH-E' 'PRIUS PLUG-IN' 'IONIQ' 'BZ4X' 'LYRIQ'\n",
      " 'I4' 'EQS-CLASS SUV' 'E-TRON' 'ARIYA' 'XC60' 'TUCSON' 'EQ FORTWO' 'Q5 E'\n",
      " 'KONA ELECTRIC' 'C40' 'EV9' 'PROLOGUE' 'CROSSTREK' 'GV60' 'COUNTRYMAN'\n",
      " 'SOUL EV' 'V60' 'Q8' 'PANAMERA' 'MX-30' 'E-TRON SPORTBACK' 'BLAZER EV'\n",
      " 'EQE-CLASS SEDAN' 'E-TRON GT' 'I5' 'RZ' 'I7' 'S60' 'ROADSTER' 'OCEAN'\n",
      " 'OPTIMA' 'AIR' 'CAYENNE' 'NX' 'EQUINOX EV' 'ZDX' 'GLC-CLASS' 'TRANSIT'\n",
      " 'SONATA' 'Q5' 'I-MIEV' 'ELR' 'SILVERADO EV' 'HUMMER EV PICKUP' 'XM'\n",
      " 'FORTWO ELECTRIC DRIVE' 'C-CLASS' 'TONALE' '745E' 'FORTWO' 'RAV4'\n",
      " 'RANGE ROVER' 'ACCORD' 'SQ8' '740E' 'S-CLASS' 'RS E-TRON GT'\n",
      " 'RANGE ROVER SPORT' 'G80' 'TX' 'RANGER' 'CX-70' 'EDV' 'S90' 'CT6' 'A7 E'\n",
      " '500E' 'EX40' 'IONIQ 5 N' 'KARMA' 'CITY' 'FLYING SPUR' nan\n",
      " 'TRANSIT CONNECT ELECTRIC' '750E' 'BENTAYGA' '918' 'WHEEGO' 'CR-V'\n",
      " '745LE' 'SPECTRE' 'A8 E' 'S-10 PICKUP' 'ESPRINTER' 'PROMASTER 3500']\n",
      "****************************************************************************************************\n",
      "type\n",
      "['Plug-in Hybrid Electric Vehicle (PHEV)' 'Battery Electric Vehicle (BEV)']\n",
      "****************************************************************************************************\n",
      "cafv_eligibility\n",
      "['Clean Alternative Fuel Vehicle Eligible'\n",
      " 'Eligibility unknown as battery range has not been researched'\n",
      " 'Not eligible due to low battery range']\n",
      "****************************************************************************************************\n",
      "electric_range\n",
      "[ 42. 151. 266.  84. 238. 291.  31.   0.  76.  93.  53.  16.  75.  32.\n",
      " 249. 215.  35.  97. 239.  83. 208. 107.  34.  17. 220.  40.  25.  22.\n",
      "  13.  73.  87. 259. 210.  26.  30. 322.  38. 200. 293. 150. 126.  81.\n",
      " 110. 114.  19.  21.  48. 203. 153. 308.  72. 234.  14.  37.  20.  28.\n",
      "  39.  18.  47. 258.  33. 192. 330.   8.  82. 270.   6.  29. 337. 204.\n",
      "  58.  23. 125. 170. 222. 289.  24. 111.  41.  12. 233.  15. 149.  27.\n",
      "  10.  62. 124. 265. 245.  36.  11.  68.  56.  55. 218. 103.  46.  59.\n",
      " 100.   9.  nan  95.  51.  57.  74.  43.]\n",
      "****************************************************************************************************\n",
      "base_msrp\n",
      "[     0.  31950.  69900.  64950.  52900.  44100.  34995.  39995.  33950.\n",
      "  36800.  98950.  55700.  36900.  53400.  32250.  59900.  54950. 110950.\n",
      "  81100.  45600.  52650. 184400.  91250. 109000.  43700.  75095. 102000.\n",
      "     nan  90700.  89100. 845000.  32995.]\n",
      "****************************************************************************************************\n",
      "electric_utility\n",
      "['PUGET SOUND ENERGY INC' 'CITY OF SEATTLE - (WA)|CITY OF TACOMA - (WA)'\n",
      " 'PUGET SOUND ENERGY INC||CITY OF TACOMA - (WA)' 'PACIFICORP'\n",
      " 'MODERN ELECTRIC WATER COMPANY'\n",
      " 'BONNEVILLE POWER ADMINISTRATION||PUD NO 1 OF CLALLAM COUNTY'\n",
      " 'PUD NO 1 OF CHELAN COUNTY' 'AVISTA CORP' 'PUD NO 2 OF GRANT COUNTY'\n",
      " 'PUD NO 1 OF DOUGLAS COUNTY'\n",
      " 'BONNEVILLE POWER ADMINISTRATION||PUD NO 1 OF CLARK COUNTY - (WA)'\n",
      " 'BONNEVILLE POWER ADMINISTRATION||PUD NO 1 OF COWLITZ COUNTY'\n",
      " 'BONNEVILLE POWER ADMINISTRATION||PUGET SOUND ENERGY INC||PUD NO 1 OF JEFFERSON COUNTY'\n",
      " 'NO KNOWN ELECTRIC UTILITY SERVICE'\n",
      " 'BONNEVILLE POWER ADMINISTRATION||PACIFICORP||BENTON RURAL ELECTRIC ASSN'\n",
      " 'BONNEVILLE POWER ADMINISTRATION||PUD 1 OF SNOHOMISH COUNTY'\n",
      " 'BONNEVILLE POWER ADMINISTRATION||CITY OF PORT ANGELES - (WA)'\n",
      " 'BONNEVILLE POWER ADMINISTRATION||PACIFICORP||PUD NO 1 OF CLARK COUNTY - (WA)'\n",
      " 'BONNEVILLE POWER ADMINISTRATION||PUD NO 1 OF KLICKITAT COUNTY'\n",
      " 'CITY OF TACOMA - (WA)'\n",
      " 'BONNEVILLE POWER ADMINISTRATION||PUD NO 1 OF MASON COUNTY|PUD NO 1 OF JEFFERSON COUNTY'\n",
      " 'CITY OF TACOMA - (WA)||TANNER ELECTRIC COOP' 'CITY OF SEATTLE - (WA)'\n",
      " 'BONNEVILLE POWER ADMINISTRATION||CITY OF TACOMA - (WA)||PENINSULA LIGHT COMPANY'\n",
      " 'BONNEVILLE POWER ADMINISTRATION||PUD NO 1 OF FRANKLIN COUNTY'\n",
      " 'BONNEVILLE POWER ADMINISTRATION||VERA IRRIGATION DISTRICT #15'\n",
      " 'PUGET SOUND ENERGY INC||PUD NO 1 OF WHATCOM COUNTY'\n",
      " 'BONNEVILLE POWER ADMINISTRATION||ORCAS POWER & LIGHT COOP'\n",
      " 'BONNEVILLE POWER ADMINISTRATION||CITY OF TACOMA - (WA)||PARKLAND LIGHT & WATER COMPANY|PENINSULA LIGHT COMPANY'\n",
      " 'BONNEVILLE POWER ADMINISTRATION||AVISTA CORP||INLAND POWER & LIGHT COMPANY'\n",
      " 'BONNEVILLE POWER ADMINISTRATION||PUD NO 1 OF GRAYS HARBOR COUNTY'\n",
      " 'CITY OF CHEWELAH'\n",
      " 'BONNEVILLE POWER ADMINISTRATION||CITY OF RICHLAND - (WA)'\n",
      " 'BONNEVILLE POWER ADMINISTRATION||CITY OF TACOMA - (WA)||ELMHURST MUTUAL POWER & LIGHT CO|PENINSULA LIGHT COMPANY'\n",
      " 'BONNEVILLE POWER ADMINISTRATION||TOWN OF EATONVILLE - (WA)|CITY OF TACOMA - (WA)'\n",
      " 'BONNEVILLE POWER ADMINISTRATION||CITY OF MILTON - (WA)|CITY OF TACOMA - (WA)'\n",
      " 'BONNEVILLE POWER ADMINISTRATION||PUD NO 1 OF BENTON COUNTY'\n",
      " 'BONNEVILLE POWER ADMINISTRATION||CITY OF TACOMA - (WA)||PUD NO 1 OF LEWIS COUNTY'\n",
      " 'BONNEVILLE POWER ADMINISTRATION||INLAND POWER & LIGHT COMPANY'\n",
      " 'BONNEVILLE POWER ADMINISTRATION||PUD NO 2 OF PACIFIC COUNTY'\n",
      " 'BONNEVILLE POWER ADMINISTRATION||CITY OF TACOMA - (WA)||LAKEVIEW LIGHT & POWER|PENINSULA LIGHT COMPANY'\n",
      " 'BONNEVILLE POWER ADMINISTRATION||CITY OF TACOMA - (WA)||PUD NO 3 OF MASON COUNTY'\n",
      " 'CITY OF BLAINE - (WA)||PUD NO 1 OF WHATCOM COUNTY'\n",
      " 'NON WASHINGTON STATE ELECTRIC UTILITY'\n",
      " 'BONNEVILLE POWER ADMINISTRATION||CITY OF CENTRALIA - (WA)|CITY OF TACOMA - (WA)'\n",
      " 'BONNEVILLE POWER ADMINISTRATION||TOWN OF STEILACOOM|CITY OF TACOMA - (WA)||PENINSULA LIGHT COMPANY'\n",
      " 'BONNEVILLE POWER ADMINISTRATION||CITY OF TACOMA - (WA)||PUD NO 1 OF MASON COUNTY'\n",
      " 'BONNEVILLE POWER ADMINISTRATION||PUD NO 1 OF WAHKIAKUM COUNTY'\n",
      " 'BONNEVILLE POWER ADMINISTRATION||CITY OF ELLENSBURG - (WA)'\n",
      " 'OKANOGAN COUNTY ELEC COOP, INC'\n",
      " 'BONNEVILLE POWER ADMINISTRATION||CITY OF MCCLEARY - (WA)'\n",
      " 'BONNEVILLE POWER ADMINISTRATION||PUD NO 1 OF SKAMANIA CO'\n",
      " 'CITY OF CHENEY - (WA)'\n",
      " 'BONNEVILLE POWER ADMINISTRATION||CITY OF TACOMA - (WA)||OHOP MUTUAL LIGHT COMPANY, INC|PENINSULA LIGHT COMPANY'\n",
      " 'PUD NO 1 OF PEND OREILLE COUNTY' 'PUD NO 1 OF WHATCOM COUNTY'\n",
      " 'BONNEVILLE POWER ADMINISTRATION||CITY OF TACOMA - (WA)||BENTON RURAL ELECTRIC ASSN|PENINSULA LIGHT COMPANY'\n",
      " 'BONNEVILLE POWER ADMINISTRATION||AVISTA CORP||PUD NO 1 OF ASOTIN COUNTY'\n",
      " 'BONNEVILLE POWER ADMINISTRATION||AVISTA CORP||BIG BEND ELECTRIC COOP, INC'\n",
      " 'BONNEVILLE POWER ADMINISTRATION||PUD NO 1 OF JEFFERSON COUNTY'\n",
      " 'BONNEVILLE POWER ADMINISTRATION||BENTON RURAL ELECTRIC ASSN'\n",
      " 'BONNEVILLE POWER ADMINISTRATION||BIG BEND ELECTRIC COOP, INC'\n",
      " 'PUD NO 1 OF OKANOGAN COUNTY'\n",
      " 'BONNEVILLE POWER ADMINISTRATION||PUD NO 1 OF KITTITAS COUNTY'\n",
      " 'BONNEVILLE POWER ADMINISTRATION||CITY OF COULEE DAM - (WA)'\n",
      " 'CITY OF SUMAS - (WA)||PUD NO 1 OF WHATCOM COUNTY'\n",
      " 'PORTLAND GENERAL ELECTRIC CO'\n",
      " 'BONNEVILLE POWER ADMINISTRATION||PUD NO 1 OF FERRY COUNTY'\n",
      " 'BONNEVILLE POWER ADMINISTRATION||COLUMBIA RURAL ELEC ASSN, INC'\n",
      " 'BONNEVILLE POWER ADMINISTRATION||PACIFICORP||COLUMBIA RURAL ELEC ASSN, INC'\n",
      " 'BONNEVILLE POWER ADMINISTRATION||CITY OF TACOMA - (WA)||ALDER MUTUAL LIGHT CO, INC|PENINSULA LIGHT COMPANY'\n",
      " 'BONNEVILLE POWER ADMINISTRATION||NESPELEM VALLEY ELEC COOP, INC'\n",
      " 'BONNEVILLE POWER ADMINISTRATION||TOWN OF RUSTON - (WA)|CITY OF TACOMA - (WA)||PENINSULA LIGHT COMPANY'\n",
      " nan 'BONNEVILLE POWER ADMINISTRATION||PUD NO 1 OF ASOTIN COUNTY']\n",
      "****************************************************************************************************\n"
     ]
    }
   ],
   "source": [
    "for each in df.columns:\n",
    "    print(each)\n",
    "    print(df[each].unique())\n",
    "    print(\"*\" * 100)"
   ]
  },
  {
   "cell_type": "code",
   "execution_count": 17,
   "id": "60a8eef9-fe65-4518-853a-c6389695069a",
   "metadata": {},
   "outputs": [],
   "source": [
    "df['base_msrp'] = df['base_msrp'].replace({0 : np.nan})\n",
    "df['electric_range'] = df['electric_range'].replace({0 : np.nan})"
   ]
  },
  {
   "cell_type": "code",
   "execution_count": 18,
   "id": "43b496f4-71b4-41ec-9a8b-f0cbfe9f5398",
   "metadata": {},
   "outputs": [
    {
     "data": {
      "text/plain": [
       "cafv_eligibility\n",
       "Eligible        15640\n",
       "Unknown         14659\n",
       "Not Eligible     7886\n",
       "Name: count, dtype: int64"
      ]
     },
     "execution_count": 18,
     "metadata": {},
     "output_type": "execute_result"
    }
   ],
   "source": [
    "cafv_map = {\n",
    "    \"Eligibility unknown as battery range has not been researched\" : \"Unknown\",\n",
    "    \"Clean Alternative Fuel Vehicle Eligible\" : \"Eligible\",\n",
    "    \"Not eligible due to low battery range\" : \"Not Eligible\"\n",
    "}\n",
    "\n",
    "df['cafv_eligibility'] = df['cafv_eligibility'].replace(cafv_map)\n",
    "df['cafv_eligibility'].value_counts()"
   ]
  },
  {
   "cell_type": "code",
   "execution_count": 19,
   "id": "6ca08b8f-7450-457e-9762-7617eb074c05",
   "metadata": {},
   "outputs": [
    {
     "data": {
      "text/plain": [
       "type\n",
       "BEV     23630\n",
       "PHEV    14555\n",
       "Name: count, dtype: int64"
      ]
     },
     "execution_count": 19,
     "metadata": {},
     "output_type": "execute_result"
    }
   ],
   "source": [
    "type_map = {\n",
    "    \"Battery Electric Vehicle (BEV)\" : \"BEV\",\n",
    "    \"Plug-in Hybrid Electric Vehicle (PHEV)\" : \"PHEV\"\n",
    "}\n",
    "df['type'] = df['type'].replace(type_map)\n",
    "df['type'].value_counts()"
   ]
  },
  {
   "cell_type": "code",
   "execution_count": 20,
   "id": "72f72400-ea17-477a-9d70-b27304f4a929",
   "metadata": {},
   "outputs": [
    {
     "data": {
      "text/html": [
       "<div>\n",
       "<style scoped>\n",
       "    .dataframe tbody tr th:only-of-type {\n",
       "        vertical-align: middle;\n",
       "    }\n",
       "\n",
       "    .dataframe tbody tr th {\n",
       "        vertical-align: top;\n",
       "    }\n",
       "\n",
       "    .dataframe thead th {\n",
       "        text-align: right;\n",
       "    }\n",
       "</style>\n",
       "<table border=\"1\" class=\"dataframe\">\n",
       "  <thead>\n",
       "    <tr style=\"text-align: right;\">\n",
       "      <th></th>\n",
       "      <th>county</th>\n",
       "      <th>city</th>\n",
       "      <th>state</th>\n",
       "      <th>model_year</th>\n",
       "      <th>make</th>\n",
       "      <th>model</th>\n",
       "      <th>type</th>\n",
       "      <th>cafv_eligibility</th>\n",
       "      <th>electric_range</th>\n",
       "      <th>base_msrp</th>\n",
       "      <th>electric_utility</th>\n",
       "    </tr>\n",
       "  </thead>\n",
       "  <tbody>\n",
       "    <tr>\n",
       "      <th>0</th>\n",
       "      <td>Kitsap</td>\n",
       "      <td>Seabeck</td>\n",
       "      <td>WA</td>\n",
       "      <td>2023</td>\n",
       "      <td>TOYOTA</td>\n",
       "      <td>RAV4 PRIME</td>\n",
       "      <td>PHEV</td>\n",
       "      <td>Eligible</td>\n",
       "      <td>42.0</td>\n",
       "      <td>NaN</td>\n",
       "      <td>PUGET SOUND ENERGY INC</td>\n",
       "    </tr>\n",
       "    <tr>\n",
       "      <th>1</th>\n",
       "      <td>Kitsap</td>\n",
       "      <td>Bremerton</td>\n",
       "      <td>WA</td>\n",
       "      <td>2018</td>\n",
       "      <td>NISSAN</td>\n",
       "      <td>LEAF</td>\n",
       "      <td>BEV</td>\n",
       "      <td>Eligible</td>\n",
       "      <td>151.0</td>\n",
       "      <td>NaN</td>\n",
       "      <td>PUGET SOUND ENERGY INC</td>\n",
       "    </tr>\n",
       "    <tr>\n",
       "      <th>2</th>\n",
       "      <td>King</td>\n",
       "      <td>Seattle</td>\n",
       "      <td>WA</td>\n",
       "      <td>2020</td>\n",
       "      <td>TESLA</td>\n",
       "      <td>MODEL 3</td>\n",
       "      <td>BEV</td>\n",
       "      <td>Eligible</td>\n",
       "      <td>266.0</td>\n",
       "      <td>NaN</td>\n",
       "      <td>CITY OF SEATTLE - (WA)|CITY OF TACOMA - (WA)</td>\n",
       "    </tr>\n",
       "    <tr>\n",
       "      <th>3</th>\n",
       "      <td>King</td>\n",
       "      <td>Seattle</td>\n",
       "      <td>WA</td>\n",
       "      <td>2014</td>\n",
       "      <td>NISSAN</td>\n",
       "      <td>LEAF</td>\n",
       "      <td>BEV</td>\n",
       "      <td>Eligible</td>\n",
       "      <td>84.0</td>\n",
       "      <td>NaN</td>\n",
       "      <td>CITY OF SEATTLE - (WA)|CITY OF TACOMA - (WA)</td>\n",
       "    </tr>\n",
       "    <tr>\n",
       "      <th>4</th>\n",
       "      <td>Thurston</td>\n",
       "      <td>Yelm</td>\n",
       "      <td>WA</td>\n",
       "      <td>2017</td>\n",
       "      <td>CHEVROLET</td>\n",
       "      <td>BOLT EV</td>\n",
       "      <td>BEV</td>\n",
       "      <td>Eligible</td>\n",
       "      <td>238.0</td>\n",
       "      <td>NaN</td>\n",
       "      <td>PUGET SOUND ENERGY INC</td>\n",
       "    </tr>\n",
       "  </tbody>\n",
       "</table>\n",
       "</div>"
      ],
      "text/plain": [
       "     county       city state  model_year       make       model  type  \\\n",
       "0    Kitsap    Seabeck    WA        2023     TOYOTA  RAV4 PRIME  PHEV   \n",
       "1    Kitsap  Bremerton    WA        2018     NISSAN        LEAF   BEV   \n",
       "2      King    Seattle    WA        2020      TESLA     MODEL 3   BEV   \n",
       "3      King    Seattle    WA        2014     NISSAN        LEAF   BEV   \n",
       "4  Thurston       Yelm    WA        2017  CHEVROLET     BOLT EV   BEV   \n",
       "\n",
       "  cafv_eligibility  electric_range  base_msrp  \\\n",
       "0         Eligible            42.0        NaN   \n",
       "1         Eligible           151.0        NaN   \n",
       "2         Eligible           266.0        NaN   \n",
       "3         Eligible            84.0        NaN   \n",
       "4         Eligible           238.0        NaN   \n",
       "\n",
       "                               electric_utility  \n",
       "0                        PUGET SOUND ENERGY INC  \n",
       "1                        PUGET SOUND ENERGY INC  \n",
       "2  CITY OF SEATTLE - (WA)|CITY OF TACOMA - (WA)  \n",
       "3  CITY OF SEATTLE - (WA)|CITY OF TACOMA - (WA)  \n",
       "4                        PUGET SOUND ENERGY INC  "
      ]
     },
     "execution_count": 20,
     "metadata": {},
     "output_type": "execute_result"
    }
   ],
   "source": [
    "df.head()"
   ]
  },
  {
   "cell_type": "markdown",
   "id": "78f69106-b089-4718-84e9-e90cfdd6a48f",
   "metadata": {
    "jp-MarkdownHeadingCollapsed": true
   },
   "source": [
    "##### Handle Null values"
   ]
  },
  {
   "cell_type": "code",
   "execution_count": 21,
   "id": "eb524887-c803-4faf-be49-28b692fa369e",
   "metadata": {},
   "outputs": [
    {
     "data": {
      "text/plain": [
       "county               0.007856\n",
       "city                 0.007856\n",
       "state                0.000000\n",
       "model_year           0.000000\n",
       "make                 0.000000\n",
       "model                0.002619\n",
       "type                 0.000000\n",
       "cafv_eligibility     0.000000\n",
       "electric_range      38.405133\n",
       "base_msrp           96.579809\n",
       "electric_utility     0.007856\n",
       "dtype: float64"
      ]
     },
     "execution_count": 21,
     "metadata": {},
     "output_type": "execute_result"
    }
   ],
   "source": [
    "df.isna().mean() * 100     # columns percentage of missing values"
   ]
  },
  {
   "cell_type": "code",
   "execution_count": 22,
   "id": "383f29e8-5917-488e-ad71-d1b37ff66dd4",
   "metadata": {},
   "outputs": [],
   "source": [
    "df = df.drop(columns=[\"base_msrp\", \"electric_range\"])    \n",
    "# drop columns which have large null values,\n",
    "# we lost 2 important varibales, we dont have another option here\n",
    "# when we try to impute the null values it change the data"
   ]
  },
  {
   "cell_type": "code",
   "execution_count": 23,
   "id": "af4c14e4-8ab1-460d-af0d-9e383ca4c769",
   "metadata": {},
   "outputs": [
    {
     "data": {
      "image/png": "[encoded data removed]",
      "text/plain": [
       "<Figure size 640x480 with 2 Axes>"
      ]
     },
     "metadata": {},
     "output_type": "display_data"
    }
   ],
   "source": [
    "plt.title(\"NULL VALUES HEATMAP\")\n",
    "sns.heatmap(data=df.isna())\n",
    "plt.show()"
   ]
  },
  {
   "cell_type": "markdown",
   "id": "e56bb764-e7c9-413f-9099-ca304666f1d2",
   "metadata": {},
   "source": [
    "- there is very small size of missing values, so we can drop it"
   ]
  },
  {
   "cell_type": "code",
   "execution_count": 24,
   "id": "d498afa4-1c77-47b9-87a8-dacaba632367",
   "metadata": {},
   "outputs": [],
   "source": [
    "df = df.dropna(how=\"any\", axis=0)    # it remove entire rows when it contain any of NaN values"
   ]
  },
  {
   "cell_type": "code",
   "execution_count": 25,
   "id": "d6819eb6-4206-448b-be31-732b255470ba",
   "metadata": {},
   "outputs": [
    {
     "data": {
      "text/plain": [
       "county              0\n",
       "city                0\n",
       "state               0\n",
       "model_year          0\n",
       "make                0\n",
       "model               0\n",
       "type                0\n",
       "cafv_eligibility    0\n",
       "electric_utility    0\n",
       "dtype: int64"
      ]
     },
     "execution_count": 25,
     "metadata": {},
     "output_type": "execute_result"
    }
   ],
   "source": [
    "df.isna().sum()"
   ]
  },
  {
   "cell_type": "code",
   "execution_count": 26,
   "id": "3adca5eb-cef4-4f3b-bce3-0539d5d43b9c",
   "metadata": {},
   "outputs": [
    {
     "data": {
      "text/plain": [
       "(38181, 9)"
      ]
     },
     "execution_count": 26,
     "metadata": {},
     "output_type": "execute_result"
    }
   ],
   "source": [
    "df.shape"
   ]
  },
  {
   "cell_type": "markdown",
   "id": "77996e45-ef4a-475e-ba6f-1ec6df91d988",
   "metadata": {
    "jp-MarkdownHeadingCollapsed": true
   },
   "source": [
    "##### Confirm Data-Type"
   ]
  },
  {
   "cell_type": "code",
   "execution_count": 27,
   "id": "d99364ed-48ac-4e45-8e55-a00be565db36",
   "metadata": {},
   "outputs": [
    {
     "data": {
      "text/plain": [
       "county              object\n",
       "city                object\n",
       "state               object\n",
       "model_year           int64\n",
       "make                object\n",
       "model               object\n",
       "type                object\n",
       "cafv_eligibility    object\n",
       "electric_utility    object\n",
       "dtype: object"
      ]
     },
     "execution_count": 27,
     "metadata": {},
     "output_type": "execute_result"
    }
   ],
   "source": [
    "df.dtypes"
   ]
  },
  {
   "cell_type": "markdown",
   "id": "088b455b-78f4-4055-adb9-7bb4be8d22f0",
   "metadata": {},
   "source": [
    "#### **Alias**"
   ]
  },
  {
   "cell_type": "markdown",
   "id": "8e15434b-507e-4222-a196-9166589c8f59",
   "metadata": {},
   "source": [
    "**cafv** &nbsp; &nbsp; &nbsp;=&nbsp; Clean Alternative Fuel Vehicle \\\n",
    "**PHEV** &nbsp; &nbsp;=&nbsp; Plug-In Hybrid Elevtric Vehicle \\\n",
    "**BEV** &nbsp; &nbsp; &nbsp; =&nbsp; Battery Elecrtic Vehicle"
   ]
  },
  {
   "cell_type": "markdown",
   "id": "1d8fbcd4-b001-4794-b243-1e6540900b5e",
   "metadata": {},
   "source": [
    "#### **Exploratory Data Analysis**"
   ]
  },
  {
   "cell_type": "code",
   "execution_count": 37,
   "id": "7059a7b5-8bcd-4b4b-a428-dcfa39de0e31",
   "metadata": {},
   "outputs": [
    {
     "name": "stdout",
     "output_type": "stream",
     "text": [
      "<class 'pandas.core.frame.DataFrame'>\n",
      "Index: 38181 entries, 0 to 205436\n",
      "Data columns (total 9 columns):\n",
      " #   Column            Non-Null Count  Dtype \n",
      "---  ------            --------------  ----- \n",
      " 0   county            38181 non-null  object\n",
      " 1   city              38181 non-null  object\n",
      " 2   state             38181 non-null  object\n",
      " 3   model_year        38181 non-null  int64 \n",
      " 4   make              38181 non-null  object\n",
      " 5   model             38181 non-null  object\n",
      " 6   type              38181 non-null  object\n",
      " 7   cafv_eligibility  38181 non-null  object\n",
      " 8   electric_utility  38181 non-null  object\n",
      "dtypes: int64(1), object(8)\n",
      "memory usage: 3.9+ MB\n"
     ]
    }
   ],
   "source": [
    "df.info()"
   ]
  },
  {
   "cell_type": "code",
   "execution_count": 39,
   "id": "62f56205-e52d-4588-b122-ddbcacc8d8b6",
   "metadata": {},
   "outputs": [
    {
     "data": {
      "text/plain": [
       "(38181, 9)"
      ]
     },
     "execution_count": 39,
     "metadata": {},
     "output_type": "execute_result"
    }
   ],
   "source": [
    "df.shape"
   ]
  },
  {
   "cell_type": "code",
   "execution_count": 40,
   "id": "bf43ddb3-d8c4-4701-939f-4b56298aacf0",
   "metadata": {},
   "outputs": [
    {
     "data": {
      "text/html": [
       "<div>\n",
       "<style scoped>\n",
       "    .dataframe tbody tr th:only-of-type {\n",
       "        vertical-align: middle;\n",
       "    }\n",
       "\n",
       "    .dataframe tbody tr th {\n",
       "        vertical-align: top;\n",
       "    }\n",
       "\n",
       "    .dataframe thead th {\n",
       "        text-align: right;\n",
       "    }\n",
       "</style>\n",
       "<table border=\"1\" class=\"dataframe\">\n",
       "  <thead>\n",
       "    <tr style=\"text-align: right;\">\n",
       "      <th></th>\n",
       "      <th>model_year</th>\n",
       "    </tr>\n",
       "  </thead>\n",
       "  <tbody>\n",
       "    <tr>\n",
       "      <th>count</th>\n",
       "      <td>38181.000000</td>\n",
       "    </tr>\n",
       "    <tr>\n",
       "      <th>mean</th>\n",
       "      <td>2020.307273</td>\n",
       "    </tr>\n",
       "    <tr>\n",
       "      <th>std</th>\n",
       "      <td>3.351767</td>\n",
       "    </tr>\n",
       "    <tr>\n",
       "      <th>min</th>\n",
       "      <td>1997.000000</td>\n",
       "    </tr>\n",
       "    <tr>\n",
       "      <th>25%</th>\n",
       "      <td>2018.000000</td>\n",
       "    </tr>\n",
       "    <tr>\n",
       "      <th>50%</th>\n",
       "      <td>2021.000000</td>\n",
       "    </tr>\n",
       "    <tr>\n",
       "      <th>75%</th>\n",
       "      <td>2023.000000</td>\n",
       "    </tr>\n",
       "    <tr>\n",
       "      <th>max</th>\n",
       "      <td>2025.000000</td>\n",
       "    </tr>\n",
       "  </tbody>\n",
       "</table>\n",
       "</div>"
      ],
      "text/plain": [
       "         model_year\n",
       "count  38181.000000\n",
       "mean    2020.307273\n",
       "std        3.351767\n",
       "min     1997.000000\n",
       "25%     2018.000000\n",
       "50%     2021.000000\n",
       "75%     2023.000000\n",
       "max     2025.000000"
      ]
     },
     "execution_count": 40,
     "metadata": {},
     "output_type": "execute_result"
    }
   ],
   "source": [
    "df.describe()"
   ]
  },
  {
   "cell_type": "code",
   "execution_count": 42,
   "id": "c12035fd-1d7f-41c4-90e2-a3b1c516aba8",
   "metadata": {},
   "outputs": [
    {
     "data": {
      "text/html": [
       "<div>\n",
       "<style scoped>\n",
       "    .dataframe tbody tr th:only-of-type {\n",
       "        vertical-align: middle;\n",
       "    }\n",
       "\n",
       "    .dataframe tbody tr th {\n",
       "        vertical-align: top;\n",
       "    }\n",
       "\n",
       "    .dataframe thead th {\n",
       "        text-align: right;\n",
       "    }\n",
       "</style>\n",
       "<table border=\"1\" class=\"dataframe\">\n",
       "  <thead>\n",
       "    <tr style=\"text-align: right;\">\n",
       "      <th></th>\n",
       "      <th>count</th>\n",
       "      <th>unique</th>\n",
       "      <th>top</th>\n",
       "      <th>freq</th>\n",
       "    </tr>\n",
       "  </thead>\n",
       "  <tbody>\n",
       "    <tr>\n",
       "      <th>county</th>\n",
       "      <td>38181</td>\n",
       "      <td>205</td>\n",
       "      <td>King</td>\n",
       "      <td>9926</td>\n",
       "    </tr>\n",
       "    <tr>\n",
       "      <th>city</th>\n",
       "      <td>38181</td>\n",
       "      <td>770</td>\n",
       "      <td>Seattle</td>\n",
       "      <td>845</td>\n",
       "    </tr>\n",
       "    <tr>\n",
       "      <th>state</th>\n",
       "      <td>38181</td>\n",
       "      <td>43</td>\n",
       "      <td>WA</td>\n",
       "      <td>37751</td>\n",
       "    </tr>\n",
       "    <tr>\n",
       "      <th>make</th>\n",
       "      <td>38181</td>\n",
       "      <td>42</td>\n",
       "      <td>TESLA</td>\n",
       "      <td>7381</td>\n",
       "    </tr>\n",
       "    <tr>\n",
       "      <th>model</th>\n",
       "      <td>38181</td>\n",
       "      <td>152</td>\n",
       "      <td>MODEL 3</td>\n",
       "      <td>2333</td>\n",
       "    </tr>\n",
       "    <tr>\n",
       "      <th>type</th>\n",
       "      <td>38181</td>\n",
       "      <td>2</td>\n",
       "      <td>BEV</td>\n",
       "      <td>23628</td>\n",
       "    </tr>\n",
       "    <tr>\n",
       "      <th>cafv_eligibility</th>\n",
       "      <td>38181</td>\n",
       "      <td>3</td>\n",
       "      <td>Eligible</td>\n",
       "      <td>15638</td>\n",
       "    </tr>\n",
       "    <tr>\n",
       "      <th>electric_utility</th>\n",
       "      <td>38181</td>\n",
       "      <td>74</td>\n",
       "      <td>PUGET SOUND ENERGY INC||CITY OF TACOMA - (WA)</td>\n",
       "      <td>10395</td>\n",
       "    </tr>\n",
       "  </tbody>\n",
       "</table>\n",
       "</div>"
      ],
      "text/plain": [
       "                  count unique                                            top  \\\n",
       "county            38181    205                                           King   \n",
       "city              38181    770                                        Seattle   \n",
       "state             38181     43                                             WA   \n",
       "make              38181     42                                          TESLA   \n",
       "model             38181    152                                        MODEL 3   \n",
       "type              38181      2                                            BEV   \n",
       "cafv_eligibility  38181      3                                       Eligible   \n",
       "electric_utility  38181     74  PUGET SOUND ENERGY INC||CITY OF TACOMA - (WA)   \n",
       "\n",
       "                   freq  \n",
       "county             9926  \n",
       "city                845  \n",
       "state             37751  \n",
       "make               7381  \n",
       "model              2333  \n",
       "type              23628  \n",
       "cafv_eligibility  15638  \n",
       "electric_utility  10395  "
      ]
     },
     "execution_count": 42,
     "metadata": {},
     "output_type": "execute_result"
    }
   ],
   "source": [
    "df.describe(include=\"O\").T"
   ]
  },
  {
   "cell_type": "code",
   "execution_count": 28,
   "id": "d6e222be-ef27-4534-b9d5-0c030a76c89c",
   "metadata": {},
   "outputs": [],
   "source": [
    "numerical_columns = df.select_dtypes(include=np.number).columns\n",
    "catagorical_columns = df.select_dtypes(include=\"object\").columns"
   ]
  },
  {
   "cell_type": "markdown",
   "id": "3435d814-aea6-423c-a9c9-117d01918868",
   "metadata": {
    "jp-MarkdownHeadingCollapsed": true
   },
   "source": [
    "##### **Catagorical Features**"
   ]
  },
  {
   "cell_type": "code",
   "execution_count": 29,
   "id": "946b0133-3fa2-4597-b608-fe643ffb1c4c",
   "metadata": {},
   "outputs": [
    {
     "data": {
      "image/png": "[encoded data removed]",
      "text/plain": [
       "<Figure size 1600x2400 with 8 Axes>"
      ]
     },
     "metadata": {},
     "output_type": "display_data"
    }
   ],
   "source": [
    "plt.figure(figsize=(16,24))\n",
    "vis_helper.plot_catagorical(df, columns=catagorical_columns)\n",
    "plt.tight_layout()\n",
    "plt.show()"
   ]
  },
  {
   "cell_type": "markdown",
   "id": "d2feec76-ee84-4257-ad05-bba20e4383e3",
   "metadata": {
    "jp-MarkdownHeadingCollapsed": true
   },
   "source": [
    "##### **Numerical Feature**"
   ]
  },
  {
   "cell_type": "code",
   "execution_count": 30,
   "id": "e4d5e26d-e4b8-4bdf-a0b9-118da432e030",
   "metadata": {},
   "outputs": [
    {
     "data": {
      "image/png": "[encoded data removed]",
      "text/plain": [
       "<Figure size 1600x600 with 2 Axes>"
      ]
     },
     "metadata": {},
     "output_type": "display_data"
    }
   ],
   "source": [
    "plt.figure(figsize=(16,6))\n",
    "\n",
    "plt.suptitle(\"Distribution of Model Year Feature\")\n",
    "plt.subplot(1,2, 1)\n",
    "plt.boxplot(df[numerical_columns])\n",
    "\n",
    "plt.subplot(1,2,2)\n",
    "plt.hist(df[numerical_columns])\n",
    "\n",
    "plt.show()"
   ]
  },
  {
   "cell_type": "markdown",
   "id": "df7ad4f9-f8e2-41a7-bf5f-941bdefea359",
   "metadata": {},
   "source": [
    "##### **Exploration**"
   ]
  },
  {
   "cell_type": "markdown",
   "id": "92aa35b4-d606-4f14-afea-8ad5474e4aba",
   "metadata": {},
   "source": [
    "**Key Questions to Explore:**\n",
    "1. Top Makers Cars moslty register in which county, city, State\n",
    "2. What types of vehicles are more common (e.g., sedan, SUV, truck)?\n",
    "3. What percentage of EVs are CAFV-eligible?\n",
    "4. Is there an increase in EV adoption over recent years?\n",
    "5. Ev type and locality as any hidden relationship"
   ]
  },
  {
   "cell_type": "markdown",
   "id": "1374d759-cdbc-4319-96cf-ebf8bdf11424",
   "metadata": {},
   "source": [
    "### **1. Top Makers Ev's moslty register in which county, city, State**"
   ]
  },
  {
   "cell_type": "code",
   "execution_count": null,
   "id": "2391c14e-ed00-4203-9eb1-24ccddc040b9",
   "metadata": {},
   "outputs": [],
   "source": []
  },
  {
   "cell_type": "code",
   "execution_count": 31,
   "id": "9ef85015-c701-4904-a075-a8e774009892",
   "metadata": {},
   "outputs": [
    {
     "data": {
      "text/html": [
       "<div>\n",
       "<style scoped>\n",
       "    .dataframe tbody tr th:only-of-type {\n",
       "        vertical-align: middle;\n",
       "    }\n",
       "\n",
       "    .dataframe tbody tr th {\n",
       "        vertical-align: top;\n",
       "    }\n",
       "\n",
       "    .dataframe thead th {\n",
       "        text-align: right;\n",
       "    }\n",
       "</style>\n",
       "<table border=\"1\" class=\"dataframe\">\n",
       "  <thead>\n",
       "    <tr style=\"text-align: right;\">\n",
       "      <th></th>\n",
       "      <th>county</th>\n",
       "      <th>city</th>\n",
       "      <th>state</th>\n",
       "      <th>model_year</th>\n",
       "      <th>make</th>\n",
       "      <th>model</th>\n",
       "      <th>type</th>\n",
       "      <th>cafv_eligibility</th>\n",
       "      <th>electric_utility</th>\n",
       "    </tr>\n",
       "  </thead>\n",
       "  <tbody>\n",
       "    <tr>\n",
       "      <th>2150</th>\n",
       "      <td>King</td>\n",
       "      <td>Bellevue</td>\n",
       "      <td>WA</td>\n",
       "      <td>2024</td>\n",
       "      <td>ACURA</td>\n",
       "      <td>ZDX</td>\n",
       "      <td>BEV</td>\n",
       "      <td>Unknown</td>\n",
       "      <td>PUGET SOUND ENERGY INC||CITY OF TACOMA - (WA)</td>\n",
       "    </tr>\n",
       "    <tr>\n",
       "      <th>17963</th>\n",
       "      <td>King</td>\n",
       "      <td>Newcastle</td>\n",
       "      <td>WA</td>\n",
       "      <td>2024</td>\n",
       "      <td>ACURA</td>\n",
       "      <td>ZDX</td>\n",
       "      <td>BEV</td>\n",
       "      <td>Unknown</td>\n",
       "      <td>PUGET SOUND ENERGY INC||CITY OF TACOMA - (WA)</td>\n",
       "    </tr>\n",
       "    <tr>\n",
       "      <th>52668</th>\n",
       "      <td>Thurston</td>\n",
       "      <td>Centralia</td>\n",
       "      <td>WA</td>\n",
       "      <td>2024</td>\n",
       "      <td>ACURA</td>\n",
       "      <td>ZDX</td>\n",
       "      <td>BEV</td>\n",
       "      <td>Unknown</td>\n",
       "      <td>PUGET SOUND ENERGY INC</td>\n",
       "    </tr>\n",
       "    <tr>\n",
       "      <th>55886</th>\n",
       "      <td>Pierce</td>\n",
       "      <td>Gig Harbor</td>\n",
       "      <td>WA</td>\n",
       "      <td>2024</td>\n",
       "      <td>ACURA</td>\n",
       "      <td>ZDX</td>\n",
       "      <td>BEV</td>\n",
       "      <td>Unknown</td>\n",
       "      <td>BONNEVILLE POWER ADMINISTRATION||CITY OF TACOM...</td>\n",
       "    </tr>\n",
       "    <tr>\n",
       "      <th>58593</th>\n",
       "      <td>King</td>\n",
       "      <td>Redmond</td>\n",
       "      <td>WA</td>\n",
       "      <td>2024</td>\n",
       "      <td>ACURA</td>\n",
       "      <td>ZDX</td>\n",
       "      <td>BEV</td>\n",
       "      <td>Unknown</td>\n",
       "      <td>PUGET SOUND ENERGY INC||CITY OF TACOMA - (WA)</td>\n",
       "    </tr>\n",
       "    <tr>\n",
       "      <th>75811</th>\n",
       "      <td>Snohomish</td>\n",
       "      <td>Everett</td>\n",
       "      <td>WA</td>\n",
       "      <td>2024</td>\n",
       "      <td>ACURA</td>\n",
       "      <td>ZDX</td>\n",
       "      <td>BEV</td>\n",
       "      <td>Unknown</td>\n",
       "      <td>PUGET SOUND ENERGY INC</td>\n",
       "    </tr>\n",
       "    <tr>\n",
       "      <th>87049</th>\n",
       "      <td>King</td>\n",
       "      <td>Seattle</td>\n",
       "      <td>WA</td>\n",
       "      <td>2024</td>\n",
       "      <td>ACURA</td>\n",
       "      <td>ZDX</td>\n",
       "      <td>BEV</td>\n",
       "      <td>Unknown</td>\n",
       "      <td>CITY OF SEATTLE - (WA)|CITY OF TACOMA - (WA)</td>\n",
       "    </tr>\n",
       "    <tr>\n",
       "      <th>107897</th>\n",
       "      <td>Snohomish</td>\n",
       "      <td>Monroe</td>\n",
       "      <td>WA</td>\n",
       "      <td>2024</td>\n",
       "      <td>ACURA</td>\n",
       "      <td>ZDX</td>\n",
       "      <td>BEV</td>\n",
       "      <td>Unknown</td>\n",
       "      <td>PUGET SOUND ENERGY INC</td>\n",
       "    </tr>\n",
       "    <tr>\n",
       "      <th>117055</th>\n",
       "      <td>King</td>\n",
       "      <td>Tukwila</td>\n",
       "      <td>WA</td>\n",
       "      <td>2024</td>\n",
       "      <td>ACURA</td>\n",
       "      <td>ZDX</td>\n",
       "      <td>BEV</td>\n",
       "      <td>Unknown</td>\n",
       "      <td>PUGET SOUND ENERGY INC||CITY OF TACOMA - (WA)</td>\n",
       "    </tr>\n",
       "    <tr>\n",
       "      <th>118635</th>\n",
       "      <td>King</td>\n",
       "      <td>Renton</td>\n",
       "      <td>WA</td>\n",
       "      <td>2024</td>\n",
       "      <td>ACURA</td>\n",
       "      <td>ZDX</td>\n",
       "      <td>BEV</td>\n",
       "      <td>Unknown</td>\n",
       "      <td>PUGET SOUND ENERGY INC||CITY OF TACOMA - (WA)</td>\n",
       "    </tr>\n",
       "    <tr>\n",
       "      <th>125674</th>\n",
       "      <td>Snohomish</td>\n",
       "      <td>Bothell</td>\n",
       "      <td>WA</td>\n",
       "      <td>2024</td>\n",
       "      <td>ACURA</td>\n",
       "      <td>ZDX</td>\n",
       "      <td>BEV</td>\n",
       "      <td>Unknown</td>\n",
       "      <td>PUGET SOUND ENERGY INC</td>\n",
       "    </tr>\n",
       "    <tr>\n",
       "      <th>126003</th>\n",
       "      <td>Snohomish</td>\n",
       "      <td>Lynnwood</td>\n",
       "      <td>WA</td>\n",
       "      <td>2024</td>\n",
       "      <td>ACURA</td>\n",
       "      <td>ZDX</td>\n",
       "      <td>BEV</td>\n",
       "      <td>Unknown</td>\n",
       "      <td>PUGET SOUND ENERGY INC</td>\n",
       "    </tr>\n",
       "    <tr>\n",
       "      <th>131251</th>\n",
       "      <td>Clark</td>\n",
       "      <td>Ridgefield</td>\n",
       "      <td>WA</td>\n",
       "      <td>2024</td>\n",
       "      <td>ACURA</td>\n",
       "      <td>ZDX</td>\n",
       "      <td>BEV</td>\n",
       "      <td>Unknown</td>\n",
       "      <td>BONNEVILLE POWER ADMINISTRATION||PUD NO 1 OF C...</td>\n",
       "    </tr>\n",
       "    <tr>\n",
       "      <th>142772</th>\n",
       "      <td>Snohomish</td>\n",
       "      <td>Edmonds</td>\n",
       "      <td>WA</td>\n",
       "      <td>2024</td>\n",
       "      <td>ACURA</td>\n",
       "      <td>ZDX</td>\n",
       "      <td>BEV</td>\n",
       "      <td>Unknown</td>\n",
       "      <td>PUGET SOUND ENERGY INC</td>\n",
       "    </tr>\n",
       "    <tr>\n",
       "      <th>148563</th>\n",
       "      <td>King</td>\n",
       "      <td>Kirkland</td>\n",
       "      <td>WA</td>\n",
       "      <td>2024</td>\n",
       "      <td>ACURA</td>\n",
       "      <td>ZDX</td>\n",
       "      <td>BEV</td>\n",
       "      <td>Unknown</td>\n",
       "      <td>PUGET SOUND ENERGY INC||CITY OF TACOMA - (WA)</td>\n",
       "    </tr>\n",
       "    <tr>\n",
       "      <th>151238</th>\n",
       "      <td>Spokane</td>\n",
       "      <td>Spokane</td>\n",
       "      <td>WA</td>\n",
       "      <td>2024</td>\n",
       "      <td>ACURA</td>\n",
       "      <td>ZDX</td>\n",
       "      <td>BEV</td>\n",
       "      <td>Unknown</td>\n",
       "      <td>BONNEVILLE POWER ADMINISTRATION||AVISTA CORP||...</td>\n",
       "    </tr>\n",
       "    <tr>\n",
       "      <th>153743</th>\n",
       "      <td>Chelan</td>\n",
       "      <td>Chelan</td>\n",
       "      <td>WA</td>\n",
       "      <td>2024</td>\n",
       "      <td>ACURA</td>\n",
       "      <td>ZDX</td>\n",
       "      <td>BEV</td>\n",
       "      <td>Unknown</td>\n",
       "      <td>PUD NO 1 OF CHELAN COUNTY</td>\n",
       "    </tr>\n",
       "    <tr>\n",
       "      <th>173464</th>\n",
       "      <td>Whatcom</td>\n",
       "      <td>Custer</td>\n",
       "      <td>WA</td>\n",
       "      <td>2024</td>\n",
       "      <td>ACURA</td>\n",
       "      <td>ZDX</td>\n",
       "      <td>BEV</td>\n",
       "      <td>Unknown</td>\n",
       "      <td>PUGET SOUND ENERGY INC||PUD NO 1 OF WHATCOM CO...</td>\n",
       "    </tr>\n",
       "    <tr>\n",
       "      <th>173516</th>\n",
       "      <td>Pierce</td>\n",
       "      <td>Lakewood</td>\n",
       "      <td>WA</td>\n",
       "      <td>2024</td>\n",
       "      <td>ACURA</td>\n",
       "      <td>ZDX</td>\n",
       "      <td>BEV</td>\n",
       "      <td>Unknown</td>\n",
       "      <td>PUGET SOUND ENERGY INC||CITY OF TACOMA - (WA)</td>\n",
       "    </tr>\n",
       "    <tr>\n",
       "      <th>182909</th>\n",
       "      <td>Clark</td>\n",
       "      <td>Vancouver</td>\n",
       "      <td>WA</td>\n",
       "      <td>2024</td>\n",
       "      <td>ACURA</td>\n",
       "      <td>ZDX</td>\n",
       "      <td>BEV</td>\n",
       "      <td>Unknown</td>\n",
       "      <td>BONNEVILLE POWER ADMINISTRATION||PUD NO 1 OF C...</td>\n",
       "    </tr>\n",
       "    <tr>\n",
       "      <th>186420</th>\n",
       "      <td>Pierce</td>\n",
       "      <td>Tacoma</td>\n",
       "      <td>WA</td>\n",
       "      <td>2024</td>\n",
       "      <td>ACURA</td>\n",
       "      <td>ZDX</td>\n",
       "      <td>BEV</td>\n",
       "      <td>Unknown</td>\n",
       "      <td>BONNEVILLE POWER ADMINISTRATION||CITY OF TACOM...</td>\n",
       "    </tr>\n",
       "    <tr>\n",
       "      <th>203454</th>\n",
       "      <td>King</td>\n",
       "      <td>Sammamish</td>\n",
       "      <td>WA</td>\n",
       "      <td>2024</td>\n",
       "      <td>ACURA</td>\n",
       "      <td>ZDX</td>\n",
       "      <td>BEV</td>\n",
       "      <td>Unknown</td>\n",
       "      <td>PUGET SOUND ENERGY INC||CITY OF TACOMA - (WA)</td>\n",
       "    </tr>\n",
       "    <tr>\n",
       "      <th>204302</th>\n",
       "      <td>Franklin</td>\n",
       "      <td>Pasco</td>\n",
       "      <td>WA</td>\n",
       "      <td>2024</td>\n",
       "      <td>ACURA</td>\n",
       "      <td>ZDX</td>\n",
       "      <td>BEV</td>\n",
       "      <td>Unknown</td>\n",
       "      <td>BONNEVILLE POWER ADMINISTRATION||PUD NO 1 OF F...</td>\n",
       "    </tr>\n",
       "  </tbody>\n",
       "</table>\n",
       "</div>"
      ],
      "text/plain": [
       "           county        city state  model_year   make model type  \\\n",
       "2150         King    Bellevue    WA        2024  ACURA   ZDX  BEV   \n",
       "17963        King   Newcastle    WA        2024  ACURA   ZDX  BEV   \n",
       "52668    Thurston   Centralia    WA        2024  ACURA   ZDX  BEV   \n",
       "55886      Pierce  Gig Harbor    WA        2024  ACURA   ZDX  BEV   \n",
       "58593        King     Redmond    WA        2024  ACURA   ZDX  BEV   \n",
       "75811   Snohomish     Everett    WA        2024  ACURA   ZDX  BEV   \n",
       "87049        King     Seattle    WA        2024  ACURA   ZDX  BEV   \n",
       "107897  Snohomish      Monroe    WA        2024  ACURA   ZDX  BEV   \n",
       "117055       King     Tukwila    WA        2024  ACURA   ZDX  BEV   \n",
       "118635       King      Renton    WA        2024  ACURA   ZDX  BEV   \n",
       "125674  Snohomish     Bothell    WA        2024  ACURA   ZDX  BEV   \n",
       "126003  Snohomish    Lynnwood    WA        2024  ACURA   ZDX  BEV   \n",
       "131251      Clark  Ridgefield    WA        2024  ACURA   ZDX  BEV   \n",
       "142772  Snohomish     Edmonds    WA        2024  ACURA   ZDX  BEV   \n",
       "148563       King    Kirkland    WA        2024  ACURA   ZDX  BEV   \n",
       "151238    Spokane     Spokane    WA        2024  ACURA   ZDX  BEV   \n",
       "153743     Chelan      Chelan    WA        2024  ACURA   ZDX  BEV   \n",
       "173464    Whatcom      Custer    WA        2024  ACURA   ZDX  BEV   \n",
       "173516     Pierce    Lakewood    WA        2024  ACURA   ZDX  BEV   \n",
       "182909      Clark   Vancouver    WA        2024  ACURA   ZDX  BEV   \n",
       "186420     Pierce      Tacoma    WA        2024  ACURA   ZDX  BEV   \n",
       "203454       King   Sammamish    WA        2024  ACURA   ZDX  BEV   \n",
       "204302   Franklin       Pasco    WA        2024  ACURA   ZDX  BEV   \n",
       "\n",
       "       cafv_eligibility                                   electric_utility  \n",
       "2150            Unknown      PUGET SOUND ENERGY INC||CITY OF TACOMA - (WA)  \n",
       "17963           Unknown      PUGET SOUND ENERGY INC||CITY OF TACOMA - (WA)  \n",
       "52668           Unknown                             PUGET SOUND ENERGY INC  \n",
       "55886           Unknown  BONNEVILLE POWER ADMINISTRATION||CITY OF TACOM...  \n",
       "58593           Unknown      PUGET SOUND ENERGY INC||CITY OF TACOMA - (WA)  \n",
       "75811           Unknown                             PUGET SOUND ENERGY INC  \n",
       "87049           Unknown       CITY OF SEATTLE - (WA)|CITY OF TACOMA - (WA)  \n",
       "107897          Unknown                             PUGET SOUND ENERGY INC  \n",
       "117055          Unknown      PUGET SOUND ENERGY INC||CITY OF TACOMA - (WA)  \n",
       "118635          Unknown      PUGET SOUND ENERGY INC||CITY OF TACOMA - (WA)  \n",
       "125674          Unknown                             PUGET SOUND ENERGY INC  \n",
       "126003          Unknown                             PUGET SOUND ENERGY INC  \n",
       "131251          Unknown  BONNEVILLE POWER ADMINISTRATION||PUD NO 1 OF C...  \n",
       "142772          Unknown                             PUGET SOUND ENERGY INC  \n",
       "148563          Unknown      PUGET SOUND ENERGY INC||CITY OF TACOMA - (WA)  \n",
       "151238          Unknown  BONNEVILLE POWER ADMINISTRATION||AVISTA CORP||...  \n",
       "153743          Unknown                          PUD NO 1 OF CHELAN COUNTY  \n",
       "173464          Unknown  PUGET SOUND ENERGY INC||PUD NO 1 OF WHATCOM CO...  \n",
       "173516          Unknown      PUGET SOUND ENERGY INC||CITY OF TACOMA - (WA)  \n",
       "182909          Unknown  BONNEVILLE POWER ADMINISTRATION||PUD NO 1 OF C...  \n",
       "186420          Unknown  BONNEVILLE POWER ADMINISTRATION||CITY OF TACOM...  \n",
       "203454          Unknown      PUGET SOUND ENERGY INC||CITY OF TACOMA - (WA)  \n",
       "204302          Unknown  BONNEVILLE POWER ADMINISTRATION||PUD NO 1 OF F...  "
      ]
     },
     "execution_count": 31,
     "metadata": {},
     "output_type": "execute_result"
    }
   ],
   "source": [
    "df[df['make'] == \"ACURA\"]"
   ]
  },
  {
   "cell_type": "code",
   "execution_count": null,
   "id": "3aaf135d-dca5-4821-9471-6e34bc711e99",
   "metadata": {},
   "outputs": [],
   "source": []
  },
  {
   "cell_type": "code",
   "execution_count": null,
   "id": "579c78a1-1639-4fa6-95b8-436a2c667413",
   "metadata": {},
   "outputs": [],
   "source": []
  }
 ],
 "metadata": {
  "kernelspec": {
   "display_name": "Python 3 (ipykernel)",
   "language": "python",
   "name": "python3"
  },
  "language_info": {
   "codemirror_mode": {
    "name": "ipython",
    "version": 3
   },
   "file_extension": ".py",
   "mimetype": "text/x-python",
   "name": "python",
   "nbconvert_exporter": "python",
   "pygments_lexer": "ipython3",
   "version": "3.13.0"
  }
 },
 "nbformat": 4,
 "nbformat_minor": 5
}
