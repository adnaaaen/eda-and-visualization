{
 "cells": [
  {
   "cell_type": "markdown",
   "id": "89756f70-5a2c-4b69-abca-60395b510e8d",
   "metadata": {},
   "source": [
    "## Electric Vehicle Population EDA"
   ]
  },
  {
   "cell_type": "markdown",
   "id": "cae05d24-be62-4927-b368-5c69716b54d2",
   "metadata": {},
   "source": [
    "**Objectives** :  Analyze the Electric Vehicle (EV) dataset to uncover patterns, trends, and insights into EV sales and market. \\\n",
    "**Dataset** : Data collected from [data.gov](https://catalog.data.gov/dataset/electric-vehicle-population-data)\n",
    "For more information about the dataset, referse to the [README file](../data/README.md)."
   ]
  },
  {
   "cell_type": "markdown",
   "id": "fe2e9949-9b78-4694-b6ef-635c734131b9",
   "metadata": {
    "jp-MarkdownHeadingCollapsed": true
   },
   "source": [
    "#### Import Neccessory modules"
   ]
  },
  {
   "cell_type": "code",
   "execution_count": 1,
   "id": "a3f5a6a4-e6c0-412c-89a0-dd4a6ce3b622",
   "metadata": {},
   "outputs": [],
   "source": [
    "import pandas as pd\n",
    "import numpy as np\n",
    "import matplotlib.pyplot as plt\n",
    "import seaborn as sns\n",
    "import scipy.stats as stats\n",
    "from camel_converter import to_snake\n",
    "\n",
    "from dotenv import load_dotenv\n",
    "load_dotenv()\n",
    "\n",
    "import os\n",
    "PROJECT_DIR = os.getenv(\"PROJECT_DIR\")\n",
    "\n",
    "# data cleaning helper scirpt \n",
    "import sys\n",
    "sys.path.append(f\"{PROJECT_DIR}/eda-and-visualization/EV-vechicle/scripts\")"
   ]
  },
  {
   "cell_type": "markdown",
   "id": "128b4ee4-98a6-4a92-a005-e90dbae00b89",
   "metadata": {
    "jp-MarkdownHeadingCollapsed": true
   },
   "source": [
    "#### First in First"
   ]
  },
  {
   "cell_type": "markdown",
   "id": "aa293ef5-a91d-46b3-85dc-adc779edbc2f",
   "metadata": {
    "jp-MarkdownHeadingCollapsed": true
   },
   "source": [
    "##### read dataset"
   ]
  },
  {
   "cell_type": "code",
   "execution_count": 2,
   "id": "c298a314-88e4-45c6-abd5-ebce66fbbc7a",
   "metadata": {},
   "outputs": [],
   "source": [
    "df = pd.read_csv(f\"{PROJECT_DIR}/eda-and-visualization/EV-vechicle/data/ev_population.csv\")"
   ]
  },
  {
   "cell_type": "markdown",
   "id": "a5cc53ab-e8a8-48b7-9d41-bf0806864022",
   "metadata": {
    "jp-MarkdownHeadingCollapsed": true
   },
   "source": [
    "##### dataset lookup"
   ]
  },
  {
   "cell_type": "code",
   "execution_count": 3,
   "id": "1853d413-ffcb-48e2-8b67-99caeab6c3af",
   "metadata": {},
   "outputs": [
    {
     "data": {
      "text/html": [
       "<div>\n",
       "<style scoped>\n",
       "    .dataframe tbody tr th:only-of-type {\n",
       "        vertical-align: middle;\n",
       "    }\n",
       "\n",
       "    .dataframe tbody tr th {\n",
       "        vertical-align: top;\n",
       "    }\n",
       "\n",
       "    .dataframe thead th {\n",
       "        text-align: right;\n",
       "    }\n",
       "</style>\n",
       "<table border=\"1\" class=\"dataframe\">\n",
       "  <thead>\n",
       "    <tr style=\"text-align: right;\">\n",
       "      <th></th>\n",
       "      <th>VIN (1-10)</th>\n",
       "      <th>County</th>\n",
       "      <th>City</th>\n",
       "      <th>State</th>\n",
       "      <th>Postal Code</th>\n",
       "      <th>Model Year</th>\n",
       "      <th>Make</th>\n",
       "      <th>Model</th>\n",
       "      <th>Electric Vehicle Type</th>\n",
       "      <th>Clean Alternative Fuel Vehicle (CAFV) Eligibility</th>\n",
       "      <th>Electric Range</th>\n",
       "      <th>Base MSRP</th>\n",
       "      <th>Legislative District</th>\n",
       "      <th>DOL Vehicle ID</th>\n",
       "      <th>Vehicle Location</th>\n",
       "      <th>Electric Utility</th>\n",
       "      <th>2020 Census Tract</th>\n",
       "    </tr>\n",
       "  </thead>\n",
       "  <tbody>\n",
       "    <tr>\n",
       "      <th>90264</th>\n",
       "      <td>1FTVW3LKXR</td>\n",
       "      <td>King</td>\n",
       "      <td>Redmond</td>\n",
       "      <td>WA</td>\n",
       "      <td>98053.0</td>\n",
       "      <td>2024</td>\n",
       "      <td>FORD</td>\n",
       "      <td>F-150</td>\n",
       "      <td>Battery Electric Vehicle (BEV)</td>\n",
       "      <td>Eligibility unknown as battery range has not b...</td>\n",
       "      <td>0.0</td>\n",
       "      <td>0.0</td>\n",
       "      <td>45.0</td>\n",
       "      <td>270680910</td>\n",
       "      <td>POINT (-122.030684 47.669552)</td>\n",
       "      <td>PUGET SOUND ENERGY INC||CITY OF TACOMA - (WA)</td>\n",
       "      <td>5.303303e+10</td>\n",
       "    </tr>\n",
       "    <tr>\n",
       "      <th>202662</th>\n",
       "      <td>5YJ3E1EC7M</td>\n",
       "      <td>King</td>\n",
       "      <td>Seattle</td>\n",
       "      <td>WA</td>\n",
       "      <td>98125.0</td>\n",
       "      <td>2021</td>\n",
       "      <td>TESLA</td>\n",
       "      <td>MODEL 3</td>\n",
       "      <td>Battery Electric Vehicle (BEV)</td>\n",
       "      <td>Eligibility unknown as battery range has not b...</td>\n",
       "      <td>0.0</td>\n",
       "      <td>0.0</td>\n",
       "      <td>46.0</td>\n",
       "      <td>252765110</td>\n",
       "      <td>POINT (-122.304356 47.715668)</td>\n",
       "      <td>CITY OF SEATTLE - (WA)|CITY OF TACOMA - (WA)</td>\n",
       "      <td>5.303300e+10</td>\n",
       "    </tr>\n",
       "  </tbody>\n",
       "</table>\n",
       "</div>"
      ],
      "text/plain": [
       "        VIN (1-10) County     City State  Postal Code  Model Year   Make  \\\n",
       "90264   1FTVW3LKXR   King  Redmond    WA      98053.0        2024   FORD   \n",
       "202662  5YJ3E1EC7M   King  Seattle    WA      98125.0        2021  TESLA   \n",
       "\n",
       "          Model           Electric Vehicle Type  \\\n",
       "90264     F-150  Battery Electric Vehicle (BEV)   \n",
       "202662  MODEL 3  Battery Electric Vehicle (BEV)   \n",
       "\n",
       "        Clean Alternative Fuel Vehicle (CAFV) Eligibility  Electric Range  \\\n",
       "90264   Eligibility unknown as battery range has not b...             0.0   \n",
       "202662  Eligibility unknown as battery range has not b...             0.0   \n",
       "\n",
       "        Base MSRP  Legislative District  DOL Vehicle ID  \\\n",
       "90264         0.0                  45.0       270680910   \n",
       "202662        0.0                  46.0       252765110   \n",
       "\n",
       "                     Vehicle Location  \\\n",
       "90264   POINT (-122.030684 47.669552)   \n",
       "202662  POINT (-122.304356 47.715668)   \n",
       "\n",
       "                                     Electric Utility  2020 Census Tract  \n",
       "90264   PUGET SOUND ENERGY INC||CITY OF TACOMA - (WA)       5.303303e+10  \n",
       "202662   CITY OF SEATTLE - (WA)|CITY OF TACOMA - (WA)       5.303300e+10  "
      ]
     },
     "execution_count": 3,
     "metadata": {},
     "output_type": "execute_result"
    }
   ],
   "source": [
    "df.sample(2)"
   ]
  },
  {
   "cell_type": "code",
   "execution_count": 4,
   "id": "5851b5d5-65eb-44e8-87fd-37ba1adf4397",
   "metadata": {},
   "outputs": [
    {
     "name": "stdout",
     "output_type": "stream",
     "text": [
      "<class 'pandas.core.frame.DataFrame'>\n",
      "RangeIndex: 205439 entries, 0 to 205438\n",
      "Data columns (total 17 columns):\n",
      " #   Column                                             Non-Null Count   Dtype  \n",
      "---  ------                                             --------------   -----  \n",
      " 0   VIN (1-10)                                         205439 non-null  object \n",
      " 1   County                                             205436 non-null  object \n",
      " 2   City                                               205436 non-null  object \n",
      " 3   State                                              205439 non-null  object \n",
      " 4   Postal Code                                        205436 non-null  float64\n",
      " 5   Model Year                                         205439 non-null  int64  \n",
      " 6   Make                                               205439 non-null  object \n",
      " 7   Model                                              205438 non-null  object \n",
      " 8   Electric Vehicle Type                              205439 non-null  object \n",
      " 9   Clean Alternative Fuel Vehicle (CAFV) Eligibility  205439 non-null  object \n",
      " 10  Electric Range                                     205431 non-null  float64\n",
      " 11  Base MSRP                                          205431 non-null  float64\n",
      " 12  Legislative District                               204997 non-null  float64\n",
      " 13  DOL Vehicle ID                                     205439 non-null  int64  \n",
      " 14  Vehicle Location                                   205431 non-null  object \n",
      " 15  Electric Utility                                   205436 non-null  object \n",
      " 16  2020 Census Tract                                  205436 non-null  float64\n",
      "dtypes: float64(5), int64(2), object(10)\n",
      "memory usage: 26.6+ MB\n"
     ]
    }
   ],
   "source": [
    "df.info()"
   ]
  },
  {
   "cell_type": "code",
   "execution_count": 5,
   "id": "f1ebe440-1c33-4433-bf72-3d9dd02625b6",
   "metadata": {},
   "outputs": [
    {
     "name": "stdout",
     "output_type": "stream",
     "text": [
      "Dataframe contain 205439 rows & 17 columns\n"
     ]
    }
   ],
   "source": [
    "print(f\"Dataframe contain {df.shape[0]} rows & {df.shape[1]} columns\")"
   ]
  },
  {
   "cell_type": "code",
   "execution_count": 6,
   "id": "4a419df7-4c93-4a07-9132-15ecb909d376",
   "metadata": {},
   "outputs": [
    {
     "data": {
      "text/html": [
       "<div>\n",
       "<style scoped>\n",
       "    .dataframe tbody tr th:only-of-type {\n",
       "        vertical-align: middle;\n",
       "    }\n",
       "\n",
       "    .dataframe tbody tr th {\n",
       "        vertical-align: top;\n",
       "    }\n",
       "\n",
       "    .dataframe thead th {\n",
       "        text-align: right;\n",
       "    }\n",
       "</style>\n",
       "<table border=\"1\" class=\"dataframe\">\n",
       "  <thead>\n",
       "    <tr style=\"text-align: right;\">\n",
       "      <th></th>\n",
       "      <th>count</th>\n",
       "      <th>mean</th>\n",
       "      <th>std</th>\n",
       "      <th>min</th>\n",
       "      <th>25%</th>\n",
       "      <th>50%</th>\n",
       "      <th>75%</th>\n",
       "      <th>max</th>\n",
       "    </tr>\n",
       "  </thead>\n",
       "  <tbody>\n",
       "    <tr>\n",
       "      <th>Postal Code</th>\n",
       "      <td>205436.0</td>\n",
       "      <td>9.817797e+04</td>\n",
       "      <td>2.419037e+03</td>\n",
       "      <td>1.731000e+03</td>\n",
       "      <td>9.805200e+04</td>\n",
       "      <td>9.812500e+04</td>\n",
       "      <td>9.837200e+04</td>\n",
       "      <td>9.957700e+04</td>\n",
       "    </tr>\n",
       "    <tr>\n",
       "      <th>Model Year</th>\n",
       "      <td>205439.0</td>\n",
       "      <td>2.020960e+03</td>\n",
       "      <td>2.989059e+00</td>\n",
       "      <td>1.997000e+03</td>\n",
       "      <td>2.019000e+03</td>\n",
       "      <td>2.022000e+03</td>\n",
       "      <td>2.023000e+03</td>\n",
       "      <td>2.025000e+03</td>\n",
       "    </tr>\n",
       "    <tr>\n",
       "      <th>Electric Range</th>\n",
       "      <td>205431.0</td>\n",
       "      <td>5.216434e+01</td>\n",
       "      <td>8.807586e+01</td>\n",
       "      <td>0.000000e+00</td>\n",
       "      <td>0.000000e+00</td>\n",
       "      <td>0.000000e+00</td>\n",
       "      <td>4.800000e+01</td>\n",
       "      <td>3.370000e+02</td>\n",
       "    </tr>\n",
       "    <tr>\n",
       "      <th>Base MSRP</th>\n",
       "      <td>205431.0</td>\n",
       "      <td>9.226705e+02</td>\n",
       "      <td>7.761754e+03</td>\n",
       "      <td>0.000000e+00</td>\n",
       "      <td>0.000000e+00</td>\n",
       "      <td>0.000000e+00</td>\n",
       "      <td>0.000000e+00</td>\n",
       "      <td>8.450000e+05</td>\n",
       "    </tr>\n",
       "    <tr>\n",
       "      <th>Legislative District</th>\n",
       "      <td>204997.0</td>\n",
       "      <td>2.897085e+01</td>\n",
       "      <td>1.491005e+01</td>\n",
       "      <td>1.000000e+00</td>\n",
       "      <td>1.700000e+01</td>\n",
       "      <td>3.300000e+01</td>\n",
       "      <td>4.200000e+01</td>\n",
       "      <td>4.900000e+01</td>\n",
       "    </tr>\n",
       "    <tr>\n",
       "      <th>DOL Vehicle ID</th>\n",
       "      <td>205439.0</td>\n",
       "      <td>2.277156e+08</td>\n",
       "      <td>7.205737e+07</td>\n",
       "      <td>4.469000e+03</td>\n",
       "      <td>1.935324e+08</td>\n",
       "      <td>2.382368e+08</td>\n",
       "      <td>2.618718e+08</td>\n",
       "      <td>4.792548e+08</td>\n",
       "    </tr>\n",
       "    <tr>\n",
       "      <th>2020 Census Tract</th>\n",
       "      <td>205436.0</td>\n",
       "      <td>5.297704e+10</td>\n",
       "      <td>1.588435e+09</td>\n",
       "      <td>1.001020e+09</td>\n",
       "      <td>5.303301e+10</td>\n",
       "      <td>5.303303e+10</td>\n",
       "      <td>5.305307e+10</td>\n",
       "      <td>5.602100e+10</td>\n",
       "    </tr>\n",
       "  </tbody>\n",
       "</table>\n",
       "</div>"
      ],
      "text/plain": [
       "                         count          mean           std           min  \\\n",
       "Postal Code           205436.0  9.817797e+04  2.419037e+03  1.731000e+03   \n",
       "Model Year            205439.0  2.020960e+03  2.989059e+00  1.997000e+03   \n",
       "Electric Range        205431.0  5.216434e+01  8.807586e+01  0.000000e+00   \n",
       "Base MSRP             205431.0  9.226705e+02  7.761754e+03  0.000000e+00   \n",
       "Legislative District  204997.0  2.897085e+01  1.491005e+01  1.000000e+00   \n",
       "DOL Vehicle ID        205439.0  2.277156e+08  7.205737e+07  4.469000e+03   \n",
       "2020 Census Tract     205436.0  5.297704e+10  1.588435e+09  1.001020e+09   \n",
       "\n",
       "                               25%           50%           75%           max  \n",
       "Postal Code           9.805200e+04  9.812500e+04  9.837200e+04  9.957700e+04  \n",
       "Model Year            2.019000e+03  2.022000e+03  2.023000e+03  2.025000e+03  \n",
       "Electric Range        0.000000e+00  0.000000e+00  4.800000e+01  3.370000e+02  \n",
       "Base MSRP             0.000000e+00  0.000000e+00  0.000000e+00  8.450000e+05  \n",
       "Legislative District  1.700000e+01  3.300000e+01  4.200000e+01  4.900000e+01  \n",
       "DOL Vehicle ID        1.935324e+08  2.382368e+08  2.618718e+08  4.792548e+08  \n",
       "2020 Census Tract     5.303301e+10  5.303303e+10  5.305307e+10  5.602100e+10  "
      ]
     },
     "execution_count": 6,
     "metadata": {},
     "output_type": "execute_result"
    }
   ],
   "source": [
    "df.describe().T    # summary statistics about numerical cols"
   ]
  },
  {
   "cell_type": "code",
   "execution_count": 7,
   "id": "8de59e2a-6111-4509-bdc6-e4dce6432c48",
   "metadata": {},
   "outputs": [
    {
     "data": {
      "text/html": [
       "<div>\n",
       "<style scoped>\n",
       "    .dataframe tbody tr th:only-of-type {\n",
       "        vertical-align: middle;\n",
       "    }\n",
       "\n",
       "    .dataframe tbody tr th {\n",
       "        vertical-align: top;\n",
       "    }\n",
       "\n",
       "    .dataframe thead th {\n",
       "        text-align: right;\n",
       "    }\n",
       "</style>\n",
       "<table border=\"1\" class=\"dataframe\">\n",
       "  <thead>\n",
       "    <tr style=\"text-align: right;\">\n",
       "      <th></th>\n",
       "      <th>count</th>\n",
       "      <th>unique</th>\n",
       "      <th>top</th>\n",
       "      <th>freq</th>\n",
       "    </tr>\n",
       "  </thead>\n",
       "  <tbody>\n",
       "    <tr>\n",
       "      <th>VIN (1-10)</th>\n",
       "      <td>205439</td>\n",
       "      <td>12140</td>\n",
       "      <td>7SAYGDEE6P</td>\n",
       "      <td>1221</td>\n",
       "    </tr>\n",
       "    <tr>\n",
       "      <th>County</th>\n",
       "      <td>205436</td>\n",
       "      <td>205</td>\n",
       "      <td>King</td>\n",
       "      <td>105237</td>\n",
       "    </tr>\n",
       "    <tr>\n",
       "      <th>City</th>\n",
       "      <td>205436</td>\n",
       "      <td>770</td>\n",
       "      <td>Seattle</td>\n",
       "      <td>33328</td>\n",
       "    </tr>\n",
       "    <tr>\n",
       "      <th>State</th>\n",
       "      <td>205439</td>\n",
       "      <td>45</td>\n",
       "      <td>WA</td>\n",
       "      <td>204997</td>\n",
       "    </tr>\n",
       "    <tr>\n",
       "      <th>Make</th>\n",
       "      <td>205439</td>\n",
       "      <td>42</td>\n",
       "      <td>TESLA</td>\n",
       "      <td>90318</td>\n",
       "    </tr>\n",
       "    <tr>\n",
       "      <th>Model</th>\n",
       "      <td>205438</td>\n",
       "      <td>152</td>\n",
       "      <td>MODEL Y</td>\n",
       "      <td>43437</td>\n",
       "    </tr>\n",
       "    <tr>\n",
       "      <th>Electric Vehicle Type</th>\n",
       "      <td>205439</td>\n",
       "      <td>2</td>\n",
       "      <td>Battery Electric Vehicle (BEV)</td>\n",
       "      <td>161539</td>\n",
       "    </tr>\n",
       "    <tr>\n",
       "      <th>Clean Alternative Fuel Vehicle (CAFV) Eligibility</th>\n",
       "      <td>205439</td>\n",
       "      <td>3</td>\n",
       "      <td>Eligibility unknown as battery range has not b...</td>\n",
       "      <td>114172</td>\n",
       "    </tr>\n",
       "    <tr>\n",
       "      <th>Vehicle Location</th>\n",
       "      <td>205431</td>\n",
       "      <td>928</td>\n",
       "      <td>POINT (-122.1207376 47.6705374)</td>\n",
       "      <td>5203</td>\n",
       "    </tr>\n",
       "    <tr>\n",
       "      <th>Electric Utility</th>\n",
       "      <td>205436</td>\n",
       "      <td>74</td>\n",
       "      <td>PUGET SOUND ENERGY INC||CITY OF TACOMA - (WA)</td>\n",
       "      <td>75156</td>\n",
       "    </tr>\n",
       "  </tbody>\n",
       "</table>\n",
       "</div>"
      ],
      "text/plain": [
       "                                                    count unique  \\\n",
       "VIN (1-10)                                         205439  12140   \n",
       "County                                             205436    205   \n",
       "City                                               205436    770   \n",
       "State                                              205439     45   \n",
       "Make                                               205439     42   \n",
       "Model                                              205438    152   \n",
       "Electric Vehicle Type                              205439      2   \n",
       "Clean Alternative Fuel Vehicle (CAFV) Eligibility  205439      3   \n",
       "Vehicle Location                                   205431    928   \n",
       "Electric Utility                                   205436     74   \n",
       "\n",
       "                                                                                                 top  \\\n",
       "VIN (1-10)                                                                                7SAYGDEE6P   \n",
       "County                                                                                          King   \n",
       "City                                                                                         Seattle   \n",
       "State                                                                                             WA   \n",
       "Make                                                                                           TESLA   \n",
       "Model                                                                                        MODEL Y   \n",
       "Electric Vehicle Type                                                 Battery Electric Vehicle (BEV)   \n",
       "Clean Alternative Fuel Vehicle (CAFV) Eligibility  Eligibility unknown as battery range has not b...   \n",
       "Vehicle Location                                                     POINT (-122.1207376 47.6705374)   \n",
       "Electric Utility                                       PUGET SOUND ENERGY INC||CITY OF TACOMA - (WA)   \n",
       "\n",
       "                                                     freq  \n",
       "VIN (1-10)                                           1221  \n",
       "County                                             105237  \n",
       "City                                                33328  \n",
       "State                                              204997  \n",
       "Make                                                90318  \n",
       "Model                                               43437  \n",
       "Electric Vehicle Type                              161539  \n",
       "Clean Alternative Fuel Vehicle (CAFV) Eligibility  114172  \n",
       "Vehicle Location                                     5203  \n",
       "Electric Utility                                    75156  "
      ]
     },
     "execution_count": 7,
     "metadata": {},
     "output_type": "execute_result"
    }
   ],
   "source": [
    "df.describe(include=\"object\").T   # summary statistics of catagorical variable"
   ]
  },
  {
   "cell_type": "markdown",
   "id": "1997f8fb-4ca7-4c6f-ad33-228704c3689a",
   "metadata": {},
   "source": [
    "#### Data cleaning"
   ]
  },
  {
   "cell_type": "markdown",
   "id": "1c0a9d26-71a3-48b2-94fb-4ba4545a6233",
   "metadata": {
    "jp-MarkdownHeadingCollapsed": true
   },
   "source": [
    "##### Drop unwanted columns"
   ]
  },
  {
   "cell_type": "code",
   "execution_count": 8,
   "id": "2183d7b1-648c-45fe-809b-7ad78aab4566",
   "metadata": {},
   "outputs": [
    {
     "data": {
      "text/html": [
       "<div>\n",
       "<style scoped>\n",
       "    .dataframe tbody tr th:only-of-type {\n",
       "        vertical-align: middle;\n",
       "    }\n",
       "\n",
       "    .dataframe tbody tr th {\n",
       "        vertical-align: top;\n",
       "    }\n",
       "\n",
       "    .dataframe thead th {\n",
       "        text-align: right;\n",
       "    }\n",
       "</style>\n",
       "<table border=\"1\" class=\"dataframe\">\n",
       "  <thead>\n",
       "    <tr style=\"text-align: right;\">\n",
       "      <th></th>\n",
       "      <th>VIN (1-10)</th>\n",
       "      <th>County</th>\n",
       "      <th>City</th>\n",
       "      <th>State</th>\n",
       "      <th>Postal Code</th>\n",
       "      <th>Model Year</th>\n",
       "      <th>Make</th>\n",
       "      <th>Model</th>\n",
       "      <th>Electric Vehicle Type</th>\n",
       "      <th>Clean Alternative Fuel Vehicle (CAFV) Eligibility</th>\n",
       "      <th>Electric Range</th>\n",
       "      <th>Base MSRP</th>\n",
       "      <th>Legislative District</th>\n",
       "      <th>DOL Vehicle ID</th>\n",
       "      <th>Vehicle Location</th>\n",
       "      <th>Electric Utility</th>\n",
       "      <th>2020 Census Tract</th>\n",
       "    </tr>\n",
       "  </thead>\n",
       "  <tbody>\n",
       "    <tr>\n",
       "      <th>118137</th>\n",
       "      <td>5UXTA6C09P</td>\n",
       "      <td>Snohomish</td>\n",
       "      <td>Snohomish</td>\n",
       "      <td>WA</td>\n",
       "      <td>98296.0</td>\n",
       "      <td>2023</td>\n",
       "      <td>BMW</td>\n",
       "      <td>X5</td>\n",
       "      <td>Plug-in Hybrid Electric Vehicle (PHEV)</td>\n",
       "      <td>Clean Alternative Fuel Vehicle Eligible</td>\n",
       "      <td>30.0</td>\n",
       "      <td>0.0</td>\n",
       "      <td>44.0</td>\n",
       "      <td>218854058</td>\n",
       "      <td>POINT (-122.121841 47.841036)</td>\n",
       "      <td>PUGET SOUND ENERGY INC</td>\n",
       "      <td>5.306105e+10</td>\n",
       "    </tr>\n",
       "  </tbody>\n",
       "</table>\n",
       "</div>"
      ],
      "text/plain": [
       "        VIN (1-10)     County       City State  Postal Code  Model Year Make  \\\n",
       "118137  5UXTA6C09P  Snohomish  Snohomish    WA      98296.0        2023  BMW   \n",
       "\n",
       "       Model                   Electric Vehicle Type  \\\n",
       "118137    X5  Plug-in Hybrid Electric Vehicle (PHEV)   \n",
       "\n",
       "       Clean Alternative Fuel Vehicle (CAFV) Eligibility  Electric Range  \\\n",
       "118137           Clean Alternative Fuel Vehicle Eligible            30.0   \n",
       "\n",
       "        Base MSRP  Legislative District  DOL Vehicle ID  \\\n",
       "118137        0.0                  44.0       218854058   \n",
       "\n",
       "                     Vehicle Location        Electric Utility  \\\n",
       "118137  POINT (-122.121841 47.841036)  PUGET SOUND ENERGY INC   \n",
       "\n",
       "        2020 Census Tract  \n",
       "118137       5.306105e+10  "
      ]
     },
     "execution_count": 8,
     "metadata": {},
     "output_type": "execute_result"
    }
   ],
   "source": [
    "df.sample()"
   ]
  },
  {
   "cell_type": "code",
   "execution_count": 9,
   "id": "3f684927-7117-4a42-89bc-0fd4249750aa",
   "metadata": {},
   "outputs": [],
   "source": [
    "unwanted_cols = [\"VIN (1-10)\", \"DOL Vehicle ID\", \"2020 Census Tract\", \"Legislative District\", \"Postal Code\", \\\n",
    "                 \"Vehicle Location\"]\n",
    "# new df without unwanted columns\n",
    "df = df.drop(columns=unwanted_cols, axis=1)"
   ]
  },
  {
   "cell_type": "code",
   "execution_count": 10,
   "id": "de35205a-93ba-4390-b265-76fd11f7e4a1",
   "metadata": {},
   "outputs": [
    {
     "data": {
      "text/html": [
       "<div>\n",
       "<style scoped>\n",
       "    .dataframe tbody tr th:only-of-type {\n",
       "        vertical-align: middle;\n",
       "    }\n",
       "\n",
       "    .dataframe tbody tr th {\n",
       "        vertical-align: top;\n",
       "    }\n",
       "\n",
       "    .dataframe thead th {\n",
       "        text-align: right;\n",
       "    }\n",
       "</style>\n",
       "<table border=\"1\" class=\"dataframe\">\n",
       "  <thead>\n",
       "    <tr style=\"text-align: right;\">\n",
       "      <th></th>\n",
       "      <th>County</th>\n",
       "      <th>City</th>\n",
       "      <th>State</th>\n",
       "      <th>Model Year</th>\n",
       "      <th>Make</th>\n",
       "      <th>Model</th>\n",
       "      <th>Electric Vehicle Type</th>\n",
       "      <th>Clean Alternative Fuel Vehicle (CAFV) Eligibility</th>\n",
       "      <th>Electric Range</th>\n",
       "      <th>Base MSRP</th>\n",
       "      <th>Electric Utility</th>\n",
       "    </tr>\n",
       "  </thead>\n",
       "  <tbody>\n",
       "    <tr>\n",
       "      <th>38478</th>\n",
       "      <td>King</td>\n",
       "      <td>Redmond</td>\n",
       "      <td>WA</td>\n",
       "      <td>2022</td>\n",
       "      <td>RIVIAN</td>\n",
       "      <td>R1T</td>\n",
       "      <td>Battery Electric Vehicle (BEV)</td>\n",
       "      <td>Eligibility unknown as battery range has not b...</td>\n",
       "      <td>0.0</td>\n",
       "      <td>0.0</td>\n",
       "      <td>PUGET SOUND ENERGY INC||CITY OF TACOMA - (WA)</td>\n",
       "    </tr>\n",
       "  </tbody>\n",
       "</table>\n",
       "</div>"
      ],
      "text/plain": [
       "      County     City State  Model Year    Make Model  \\\n",
       "38478   King  Redmond    WA        2022  RIVIAN   R1T   \n",
       "\n",
       "                Electric Vehicle Type  \\\n",
       "38478  Battery Electric Vehicle (BEV)   \n",
       "\n",
       "       Clean Alternative Fuel Vehicle (CAFV) Eligibility  Electric Range  \\\n",
       "38478  Eligibility unknown as battery range has not b...             0.0   \n",
       "\n",
       "       Base MSRP                               Electric Utility  \n",
       "38478        0.0  PUGET SOUND ENERGY INC||CITY OF TACOMA - (WA)  "
      ]
     },
     "execution_count": 10,
     "metadata": {},
     "output_type": "execute_result"
    }
   ],
   "source": [
    "df.sample()"
   ]
  },
  {
   "cell_type": "markdown",
   "id": "db888e44-b9cc-4e7a-bd5a-45b736a5391a",
   "metadata": {
    "jp-MarkdownHeadingCollapsed": true
   },
   "source": [
    "##### Rename column names"
   ]
  },
  {
   "cell_type": "code",
   "execution_count": 11,
   "id": "d79a7e7d-e401-405f-9f21-57a9259b1119",
   "metadata": {},
   "outputs": [],
   "source": [
    "map_cols = {\n",
    "    \"Electric Vehicle Type\" : \"type\",\n",
    "    \"Clean Alternative Fuel Vehicle (CAFV) Eligibility\" : \"cafv eligibility\"}\n",
    "\n",
    "# replace large column names with meaningfull names\n",
    "df = df.rename(columns=map_cols)"
   ]
  },
  {
   "cell_type": "code",
   "execution_count": 12,
   "id": "01b0b392-5855-4709-b89c-36e1100d8101",
   "metadata": {},
   "outputs": [],
   "source": [
    "# change all column name into snake_case format\n",
    "df.columns = [to_snake(\"_\".join(each.lower().split(\" \"))) for each in df.columns]"
   ]
  },
  {
   "cell_type": "code",
   "execution_count": 13,
   "id": "4a14fda2-2172-42ad-bb03-03da2f81a75e",
   "metadata": {},
   "outputs": [
    {
     "data": {
      "text/html": [
       "<div>\n",
       "<style scoped>\n",
       "    .dataframe tbody tr th:only-of-type {\n",
       "        vertical-align: middle;\n",
       "    }\n",
       "\n",
       "    .dataframe tbody tr th {\n",
       "        vertical-align: top;\n",
       "    }\n",
       "\n",
       "    .dataframe thead th {\n",
       "        text-align: right;\n",
       "    }\n",
       "</style>\n",
       "<table border=\"1\" class=\"dataframe\">\n",
       "  <thead>\n",
       "    <tr style=\"text-align: right;\">\n",
       "      <th></th>\n",
       "      <th>county</th>\n",
       "      <th>city</th>\n",
       "      <th>state</th>\n",
       "      <th>model_year</th>\n",
       "      <th>make</th>\n",
       "      <th>model</th>\n",
       "      <th>type</th>\n",
       "      <th>cafv_eligibility</th>\n",
       "      <th>electric_range</th>\n",
       "      <th>base_msrp</th>\n",
       "      <th>electric_utility</th>\n",
       "    </tr>\n",
       "  </thead>\n",
       "  <tbody>\n",
       "    <tr>\n",
       "      <th>98607</th>\n",
       "      <td>Whatcom</td>\n",
       "      <td>Bellingham</td>\n",
       "      <td>WA</td>\n",
       "      <td>2021</td>\n",
       "      <td>TESLA</td>\n",
       "      <td>MODEL Y</td>\n",
       "      <td>Battery Electric Vehicle (BEV)</td>\n",
       "      <td>Eligibility unknown as battery range has not b...</td>\n",
       "      <td>0.0</td>\n",
       "      <td>0.0</td>\n",
       "      <td>PUGET SOUND ENERGY INC||PUD NO 1 OF WHATCOM CO...</td>\n",
       "    </tr>\n",
       "  </tbody>\n",
       "</table>\n",
       "</div>"
      ],
      "text/plain": [
       "        county        city state  model_year   make    model  \\\n",
       "98607  Whatcom  Bellingham    WA        2021  TESLA  MODEL Y   \n",
       "\n",
       "                                 type  \\\n",
       "98607  Battery Electric Vehicle (BEV)   \n",
       "\n",
       "                                        cafv_eligibility  electric_range  \\\n",
       "98607  Eligibility unknown as battery range has not b...             0.0   \n",
       "\n",
       "       base_msrp                                   electric_utility  \n",
       "98607        0.0  PUGET SOUND ENERGY INC||PUD NO 1 OF WHATCOM CO...  "
      ]
     },
     "execution_count": 13,
     "metadata": {},
     "output_type": "execute_result"
    }
   ],
   "source": [
    "df.sample()"
   ]
  },
  {
   "cell_type": "markdown",
   "id": "0c09c7ed-a444-4b21-894b-aa8a2209049e",
   "metadata": {
    "jp-MarkdownHeadingCollapsed": true
   },
   "source": [
    "##### Handle invalid data points"
   ]
  },
  {
   "cell_type": "code",
   "execution_count": 14,
   "id": "73c5f3db-603e-40c9-89b8-fb7beb7c04e1",
   "metadata": {
    "scrolled": true
   },
   "outputs": [
    {
     "name": "stdout",
     "output_type": "stream",
     "text": [
      "county\n",
      "['Kitsap' 'King' 'Thurston' 'Snohomish' 'Yakima' 'Island' 'Skagit'\n",
      " 'Spokane' 'Clallam' 'Chelan' 'Walla Walla' 'Kittitas' 'Whitman' 'Stevens'\n",
      " 'Grant' 'Douglas' 'Clark' 'Cowlitz' 'Jefferson' 'Klickitat' 'Pierce'\n",
      " 'Franklin' 'Whatcom' 'San Juan' 'Columbia' 'Grays Harbor' 'Lewis'\n",
      " 'Benton' 'Pacific' 'Mason' 'Platte' 'Monterey' 'Wahkiakum' 'Norfolk'\n",
      " 'Okanogan' 'Cumberland' 'Skamania' \"Prince George's\" 'Garfield'\n",
      " 'Pend Oreille' 'Asotin' 'Lincoln' 'Adams' 'San Diego' 'Oldham' 'York'\n",
      " 'Orange' 'Wake' 'Los Angeles' 'Sonoma' 'Ferry' 'Churchill' 'DeKalb'\n",
      " 'Goochland' 'Stafford' 'Contra Costa' 'Riverside' 'Loudoun' 'Allen'\n",
      " 'James City' 'Anne Arundel' 'Madison' 'Isle of Wight' 'Leavenworth'\n",
      " 'Charles' 'Sarpy' 'Kings' 'Ventura' 'San Mateo' 'Sacramento' 'Maui' nan\n",
      " 'Ada' 'Mobile' 'District of Columbia' 'New York' 'Multnomah' 'Fairfax'\n",
      " 'Wichita' 'El Paso' 'Honolulu' 'Maricopa' 'Montgomery' 'Hillsborough'\n",
      " 'Doña Ana' 'Autauga' 'Berkeley' 'Escambia' 'Polk' 'Charleston' 'Hamilton'\n",
      " 'Mercer' 'Solano' 'Virginia Beach' 'Collin' 'Harris' 'Macomb'\n",
      " 'Spotsylvania' 'Marion' 'Newport' 'Hoke' 'Laramie' 'Santa Clara' 'Marin'\n",
      " 'El Dorado' 'Washoe' 'Tooele' 'Travis' 'Santa Barbara' 'Kent' 'Albemarle'\n",
      " 'Pitt' 'Sarasota' 'Harford' 'Santa Cruz' 'Alameda' 'Atlantic' 'Lake'\n",
      " 'Saratoga' 'Kootenai' 'New Castle' 'Arapahoe' 'Tarrant' 'San Francisco'\n",
      " 'Alexandria' 'DuPage' 'Middlesex' 'Cook' 'Pulaski' 'Hudson' 'Anchorage'\n",
      " 'Hennepin' 'St. Louis' 'Pinal' 'Prince William' 'Harnett' 'Muscogee'\n",
      " 'Hardin' 'Richland' 'Placer' 'Burlington' 'Plaquemines' 'Chesapeake'\n",
      " 'Suffolk' 'New Haven' 'Lane' 'Rockingham' 'Rockdale' 'Salt Lake'\n",
      " 'New London' 'Otero' 'Philadelphia' 'St. Charles' 'Pima' 'Howard'\n",
      " \"St. Mary's\" 'Kauai' 'Frederick' 'Yuba' 'Denton' 'Washtenaw' 'Bay'\n",
      " 'Beaufort' 'Calvert' 'Champaign' 'Tom Green' 'St. Lawrence' 'Brown'\n",
      " 'Palm Beach' 'Lee' 'Sedgwick' 'Essex' 'Lexington' 'Portsmouth' 'Bell'\n",
      " 'Yolo' 'San Bernardino' 'Nueces' 'Davis' 'Kern' 'Galveston'\n",
      " 'Chesterfield' 'Shelby' 'Prince George' 'Larimer' 'Caddo' 'Houston'\n",
      " 'Williamson' 'Meade' 'Duval' 'Currituck' 'Cuyahoga' 'San Joaquin'\n",
      " 'Carroll' 'Newport News' 'Brevard' 'Gwinnett' 'Rock Island' 'Bexar'\n",
      " 'Utah' 'Fresno' 'Fredericksburg' 'Williamsburg' 'Cameron' 'Tippecanoe'\n",
      " 'Christian']\n",
      "****************************************************************************************************\n",
      "city\n",
      "['Seabeck' 'Bremerton' 'Seattle' 'Yelm' 'Lynnwood' 'Poulsbo' 'Arlington'\n",
      " 'Kent' 'Kirkland' 'Tumwater' 'Yakima' 'Centralia' 'Olympia' 'Issaquah'\n",
      " 'Duvall' 'Lake Stevens' 'Selah' 'Zillah' 'Bothell' 'Kingston'\n",
      " 'Port Orchard' 'Lacey' 'Hansville' 'Redmond' 'Bellevue' 'Everett'\n",
      " 'Oak Harbor' 'Bainbridge Island' 'Mountlake Terrace' 'Mukilteo'\n",
      " 'Anacortes' 'Spokane' 'Snohomish' 'Moxee' 'Edmonds' 'Sequim' 'Wapato'\n",
      " 'Manson' 'Mount Vernon' 'College Place' 'Leavenworth' 'Ellensburg'\n",
      " 'Brier' 'Pullman' 'La Conner' 'Kettle Falls' 'Langley' 'Silverdale'\n",
      " 'Renton' 'Keyport' 'Wenatchee' 'Ephrata' 'Monroe' 'Orondo' 'Sammamish'\n",
      " 'Pacific' 'Seatac' 'Newcastle' 'La Center' 'Tukwila' 'Auburn' 'Vancouver'\n",
      " 'Lake Forest Park' 'Des Moines' 'Longview' 'Federal Way' 'Normandy Park'\n",
      " 'Kenmore' 'Olalla' 'Burien' 'Mercer Island' 'Shoreline' 'Camas'\n",
      " 'Ridgefield' 'Port Townsend' 'Woodinville' 'Nine Mile Falls'\n",
      " 'Port Hadlock' 'North Bend' 'Kelso' 'Battle Ground' 'Black Diamond'\n",
      " 'Covington' 'Castle Rock' 'Port Ludlow' 'Brush Prairie' 'Medina' 'Ariel'\n",
      " 'Sunnyside' 'Maple Valley' 'Coupeville' 'Tenino' 'Tulalip' 'Mabton'\n",
      " 'Marysville' 'Kalama' 'Camano Island' 'Amboy' 'Port Angeles' 'Quilcene'\n",
      " 'Enumclaw' 'Beaux Arts' 'Washougal' 'Woodland' 'Rochester' 'Grandview'\n",
      " 'Mill Creek' 'Bingen' 'Rainier' 'Toppenish' 'Clyde Hill' 'Algona'\n",
      " 'Silverlake' 'Brinnon' 'Suquamish' 'Colville' 'Carnation' 'Chimacum'\n",
      " 'Granite Falls' 'Woodway' 'Yacolt' 'Nordland' 'Forks' 'Indianola'\n",
      " 'Stanwood' 'Freeland' 'Naches' 'Skykomish' 'Bucoda' 'Granger' 'Tieton'\n",
      " 'Gold Bar' 'Goldendale' 'Fircrest' 'Pasco' 'Gig Harbor' 'Spokane Valley'\n",
      " 'Everson' 'Bellingham' 'Friday Harbor' 'Snoqualmie' 'Tacoma'\n",
      " 'White Salmon' 'Dayton' 'Lynden' 'Ocean Shores' 'Chewelah' 'Chehalis'\n",
      " 'Chelan' 'Burlington' 'Richland' 'South Hill' 'Eatonville' 'Bonney Lake'\n",
      " 'Milton' 'Puyallup' 'Kennewick' 'Vashon' 'Lakebay' 'Lake Tapps' 'Toledo'\n",
      " 'Hunts Point' 'Winlock' 'Lopez Island' 'Sultan' 'Walla Walla' 'Colbert'\n",
      " 'Long Beach' 'Oakesdale' 'Airway Heights' 'Clinton' 'Graham'\n",
      " 'East Wenatchee' 'Moses Lake' 'Outlook' 'Greenbank' 'Lakewood'\n",
      " 'Montesano' 'Grapeview' 'Spanaway' 'Greenacres' 'Edgewood' 'Dupont'\n",
      " 'Cheney' 'Medical Lake' 'Blaine' 'Platte City' 'Point Roberts' 'Bow'\n",
      " 'Prosser' 'Liberty Lake' 'Belfair' 'Snoqualmie Pass' 'Ashford'\n",
      " 'Steilacoom' 'Sedro Woolley' 'Ocean Park' 'Toutle' 'Union' 'Seaside'\n",
      " 'Springdale' 'Fife' 'Cathlamet' 'Buckley' 'Ryderwood' 'Evans' 'Ilwaco'\n",
      " 'Yarrow Point' 'Sedro-Woolley' 'Mead' 'Quincy' 'Ferndale' 'White Swan'\n",
      " 'Fox Island' 'Ravensdale' 'Orting' 'Norfolk' 'Winthrop' 'West Richland'\n",
      " 'Shelton' 'Deer Park' 'Cowiche' 'Onalaska' 'Cle Elum' 'Mccleary'\n",
      " 'Dallesport' 'Hoodsport' 'Fayetteville' 'Stevenson' 'Aberdeen' 'Allyn'\n",
      " 'Eastsound' 'Otis Orchards' 'North Cove' 'Upper Marlboro' 'Fall City'\n",
      " 'Veradale' 'Pros' 'Pomeroy' 'Custer' 'Roy' 'Underwood'\n",
      " 'Joint Base Lewis Mcchord' 'Parker' 'University Place' 'Newman Lake'\n",
      " 'Newport' 'Lummi Island' 'Clarkston' 'Soap Lake' 'Elma' 'Cashmere' 'Olga'\n",
      " 'Royal City' 'Deer Harbor' 'Davenport' 'Fairchild Air Force Base'\n",
      " 'Raymond' 'Othello' 'Union Gap' 'Hoquiam' 'Sumner' 'Vader' 'Index'\n",
      " 'Concrete' 'Valleyford' 'Parkland' 'Palouse' 'San Diego' 'Darrington'\n",
      " 'Trout Lake' 'Clallam Bay' 'Seaview' 'Anderson Island' 'Goshen' 'Carson'\n",
      " 'Benton City' 'Mazama' 'Malaga' 'Twisp' 'Bz Corner' 'Pacific Beach'\n",
      " 'Connell' 'Maple Falls' 'Lopez Is' 'Packwood' 'Carlton' 'Morton'\n",
      " 'Yorktown' 'Warden' 'Buena Park' 'Buena' 'Copalis Beach' 'Ronald'\n",
      " 'Silver Creek' 'Hatton' 'Mineral' 'Tonasket' 'Clearlake' 'Omak' 'Mica'\n",
      " 'Ritzville' 'Lamont' 'Husum' 'Spangle' 'Taholah' 'North Bonneville'\n",
      " 'Chattaroy' 'Lind' 'Harrington' 'Cusick' 'Mattawa' 'Snowden' 'South Bend'\n",
      " 'Carbonado' 'Rock Island' 'Oakville' 'Murdock' 'Grayland' 'Coulee Dam'\n",
      " 'Easton' 'Brewster' 'Raleigh' 'Naselle' 'Mossyrock' 'Riverside' 'Ione'\n",
      " 'Fairfield' 'Vaughn' 'Waitsburg' 'Sumas' 'Roslyn' 'Roosevelt' 'Entiat'\n",
      " 'Tahuya' 'Vantage' 'Bickleton' 'Oroville' 'Gardena' 'Glacier' 'Rosalia'\n",
      " 'Wilbur' 'Wilkeson' 'Healdsburg' 'Cinebar' 'Copalis Crossing' 'Okanogan'\n",
      " 'Randle' 'Reardan' 'Touchet' 'Almira' 'Cosmopolis' 'Westport' 'Republic'\n",
      " 'Peshastin' 'Beaver' 'Waterville' 'Electric City' 'Burbank' 'Garfield'\n",
      " 'Mesa' 'Salkum' 'Eltopia' 'Rosburg' 'Lilliwaup' 'Coulee City' 'Fallon'\n",
      " 'Decatur' 'Midway City' 'Uniontown' 'Glenoma' 'Waldron' 'Elk' 'Nooksack'\n",
      " 'Henrico' 'Stafford' 'Carlisle' 'Longbranch' 'Pittsburg' 'Ethel' 'Odessa'\n",
      " 'Orcas Is' 'Rockport' 'Seven Bays' 'Deming' 'Menifee' 'Asotin'\n",
      " 'Elmer City' 'Kittitas' 'Lyle' 'Aldie' 'South Cle Elum' 'Menlo' 'Rice'\n",
      " 'Pateros' 'Ford' 'Curtis' 'Bridgeport Bar' 'Preston' 'Surfside'\n",
      " 'Palisades' 'Grand Coulee' 'Edwall' 'Neah Bay' 'Fort Wayne' 'St John'\n",
      " 'Toano' 'Ruston' 'Acme' 'Rockford' 'Valley' 'Galvin' 'Dixie' 'Inchelium'\n",
      " 'Moclips' 'Sprague' 'Alderdale' 'Edgewater' 'Sekiu' 'Bay Center'\n",
      " 'Clayton' 'Albion' 'Curlew' 'Omaha' 'Saint Jacob' 'Lebam' 'Shaw Island'\n",
      " 'Carrollton' 'Malott' 'Napavine' 'La Mesa' 'Startup' 'Gifford' 'Maryhill'\n",
      " 'Elbe' 'Colfax' 'Fort Leavenworth' 'Hughesville' 'Malden' 'Klickitat'\n",
      " 'Nahcotta' 'South Prairie' 'Hartline' 'Oceanside' 'Brooklyn' 'Paterson'\n",
      " 'Bridgeport' 'Wellpinit' 'Orient' 'Tokeland' 'Wahkiacus' 'McCleary'\n",
      " 'Lemoore' 'Camarillo' 'Redwood City' 'Creston' 'Endicott' 'Sacramento'\n",
      " 'Tekoa' 'Silver Lake' 'Mansfield' 'Trabuco Canyon' 'Los Angeles'\n",
      " 'Grays River' 'Loon Lake' 'Port Gamble' 'Gambrills' 'Kihei' 'Thorp' nan\n",
      " 'Boise' 'Mobile' 'Washington' 'Latah' 'New York' 'Addy' 'Portland'\n",
      " 'Oysterville' 'Vienna' 'Wildomar' 'Lacrosse' 'Wichita Falls' 'Nespelem'\n",
      " 'El Paso' 'Ewa Beach' 'Smith Creek' 'Phoenix' 'Amanda Park' 'Bethesda'\n",
      " 'Lithia' 'Hunters' 'Hamilton' 'Colton' 'Willapa' 'Cougar' 'Lyman' 'Adna'\n",
      " 'Las Cruces' 'Prattville' 'Scottsdale' 'Walla Walla Co' 'Chula Vista'\n",
      " 'Hanahan' 'Pensacola' 'Salem' 'Charleston Afb' 'Fort Bragg' 'Baring'\n",
      " 'Orcas' 'Methow' 'Springfield' 'Artondale' 'Satsop' 'Cincinnati'\n",
      " 'Princeton' 'Travis Afb' 'Centerville' 'Virginia Beach' 'Frisco'\n",
      " 'Houston' 'Warren' 'Cathedral City' 'Stratford' 'Mc Lean' 'Kailua' 'Pasc'\n",
      " 'Rich' 'Skamokawa' 'Fredericksburg' 'Pella' 'Middletown' 'Metaline'\n",
      " 'Tumtum' 'Fort Belvoir' 'Moorpark' 'Santa Rosa' 'Annapolis'\n",
      " 'Incorporated' 'Deer Meadows' 'Raeford' 'Cheyenne' 'Cupertino'\n",
      " 'San Rafael' 'South Lake Tahoe' 'Alderwood Manor' 'Port Hueneme' 'Tampa'\n",
      " 'Sparks' 'Lancaster' 'Lincoln' 'Waldorf' 'Alexandria' 'Tooele' 'Marina'\n",
      " 'Leander' 'Beverly' 'Chandler' 'Reno' 'Lompoc' 'Dover' 'Martha Lake'\n",
      " 'North Las Vegas' 'San Jose' 'Peoria' 'Charlottesville' 'Winterville'\n",
      " 'Sarasota' 'Aberdeen Proving Ground' 'Marblemount' 'Prairie Ridge'\n",
      " 'Santa Cruz' 'Pe Ell' 'Berkeley' 'Las Vegas' 'Egg Harbor Township'\n",
      " 'Chinook' 'Libertyville' 'Usk' 'Prescott' 'Irvine' 'Saratoga Springs'\n",
      " 'Post Falls' 'Townsend' 'Aurora' 'Bedford' 'San Francisco'\n",
      " 'Andrews Air Force Base' 'Carlsbad' 'West Chicago' 'Greene' 'Hanscom Afb'\n",
      " 'Northport' 'Skokie' 'Little Rock' 'Dryden' 'Jersey City' 'Pacifica'\n",
      " 'Eagle River' 'Minneapolis' 'San Juan Is' 'Saint Louis' 'Holden Village'\n",
      " 'Kapowsin' 'Apache Junction' 'Manassas' 'Spring Lake' 'Fort Benning'\n",
      " 'San Clemente' 'Rineyville' 'East Brunswick' 'Hopkins' 'Roseville'\n",
      " 'Joint Base Mdl' 'Belle Chasse' 'Chesapeake' 'Marlin' 'Suffolk' 'Topanga'\n",
      " 'Colorado Springs' 'Madison' 'Fort George G Meade' 'Sausalito' 'Chicago'\n",
      " 'Portsmouth' 'Odenton' 'Silver Spring' 'Fort Washington' 'Lisle'\n",
      " 'Ventura' 'Conyers' 'South Salt Lake' 'Gales Ferry'\n",
      " 'Holloman Air Force Base' 'Northridge' 'Tempe' 'Fort Worth'\n",
      " 'Philadelphia' 'O Fallon' 'Honolulu' 'Summerville' 'Columbus' 'Tucson'\n",
      " 'Sherwood' 'Lexington Park' 'Kekaha' 'Santa Clara' 'Old Lyme' 'Dumfries'\n",
      " 'South Jordan' 'Englewood' 'Beale Afb' 'Folsom' 'Ellicott City'\n",
      " 'Mountain View' 'Quinault' 'Little Elm' 'Montgomery' 'Rathdrum'\n",
      " 'Ann Arbor' 'Panama City' 'Monument' 'Okatie' 'Chesapeake Beach'\n",
      " 'Champaign' 'Holly Springs' 'Pacific Grove' 'Saint Robert' 'San Angelo'\n",
      " 'Ogdensburg' 'Green Bay' 'Boca Raton' 'Smiths Station' 'Atherton'\n",
      " 'Harrison' 'Derby' 'Bloomfield' 'Chelan Falls' 'Conconully' 'Columbia'\n",
      " 'Montclair' 'Gunpowder' 'Cameron' 'Killeen' 'Davis' 'Benicia'\n",
      " 'Morrisville' 'Groton' 'Lafayette' 'Fort Irwin' 'Lakeview'\n",
      " 'Corpus Christi' 'Appleton' 'Palo Alto' 'Waterford' 'Hill Afb' 'Martinez'\n",
      " 'Louisville' 'Edwards' 'Alameda' 'Dickinson' 'Vacaville' 'Worley'\n",
      " 'Apple Valley' 'Hanover' 'Falls Church' 'North Chesterfield' 'Calera'\n",
      " 'Mechanicsburg' 'Pike Road' 'Fort Lee' 'Watertown' 'Timnath' 'Shreveport'\n",
      " 'Warner Robins' 'Bluffdale' 'Woodbridge' 'Burr Ridge' 'Fremont' 'Austin'\n",
      " 'Chantilly' 'Fort Knox' 'Mystic' 'Jacksonville' 'Sanford' 'Ridgecrest'\n",
      " 'Dresher' 'Highland Park' 'Danville' 'Moyock' 'Arnold' 'Waverly'\n",
      " 'Atlanta' 'Arcadia' 'Monterey' 'Westlake' 'Lodi' 'Burke' 'Potomac'\n",
      " 'Westminster' 'Newport News' 'Maricopa' 'Boston' 'Melbourne' 'Glenwood'\n",
      " 'Torrance' 'Braselton' 'Merrifield' 'Enid' 'Hanford' 'San Antonio'\n",
      " 'Lansing' 'Winter Park' 'Springville' 'Henderson' 'Palm Springs'\n",
      " 'Waynesville' 'Sunnyvale' 'Southlake' 'Fresno' 'Elizabethtown' 'Plymouth'\n",
      " 'Hudson' 'Los Altos' 'Williamsburg' 'Brownsville' 'Goodyear'\n",
      " 'Gaithersburg' 'Ozark' 'Coronado' 'Greenfield Center' 'Wishram']\n",
      "****************************************************************************************************\n",
      "state\n",
      "['WA' 'MO' 'CA' 'VA' 'NC' 'MD' 'KY' 'NV' 'GA' 'PA' 'IN' 'NE' 'IL' 'KS'\n",
      " 'NY' 'HI' 'AE' 'ID' 'AL' 'DC' 'OR' 'TX' 'AZ' 'FL' 'NM' 'SC' 'OH' 'NJ'\n",
      " 'MI' 'IA' 'RI' 'WY' 'UT' 'DE' 'CO' 'MA' 'AR' 'AK' 'MN' 'LA' 'CT' 'NH'\n",
      " 'WI' 'BC' 'OK']\n",
      "****************************************************************************************************\n",
      "model_year\n",
      "[2023 2018 2020 2014 2017 2022 2015 2013 2016 2024 2012 2019 2021 2025\n",
      " 2011 2008 2010 2000 2002 1999 2003 1997]\n",
      "****************************************************************************************************\n",
      "make\n",
      "['TOYOTA' 'NISSAN' 'TESLA' 'CHEVROLET' 'HYUNDAI' 'RIVIAN' 'FORD' 'KIA'\n",
      " 'AUDI' 'DODGE' 'BMW' 'VOLKSWAGEN' 'MITSUBISHI' 'VOLVO' 'FIAT' 'MAZDA'\n",
      " 'MINI' 'LINCOLN' 'MERCEDES-BENZ' 'PORSCHE' 'JAGUAR' 'LEXUS' 'JEEP'\n",
      " 'CHRYSLER' 'HONDA' 'GENESIS' 'POLESTAR' 'SUBARU' 'CADILLAC' 'SMART'\n",
      " 'FISKER' 'LUCID' 'ACURA' 'GMC' 'ALFA ROMEO' 'LAND ROVER' 'TH!NK'\n",
      " 'BENTLEY' 'AZURE DYNAMICS' 'WHEEGO ELECTRIC CARS' 'ROLLS-ROYCE' 'RAM']\n",
      "****************************************************************************************************\n",
      "model\n",
      "['RAV4 PRIME' 'LEAF' 'MODEL 3' 'BOLT EV' 'MODEL Y' 'SANTA FE' 'R1T'\n",
      " 'FOCUS' 'SOUL' 'VOLT' 'A3' 'HORNET' 'MODEL S' 'I3' 'NIRO' 'E-GOLF'\n",
      " 'SPORTAGE' 'X3' 'MODEL X' 'X5' 'PRIUS PRIME' 'EV6' 'OUTLANDER'\n",
      " 'CYBERTRUCK' 'XC40' '500' 'CX-90' 'SORENTO' 'HARDTOP' 'I8' 'FUSION'\n",
      " 'AVIATOR' 'GLE-CLASS' 'XC90' 'TAYCAN' 'BOLT EUV' 'Q4' 'ESCAPE' 'I-PACE'\n",
      " 'C-MAX' 'RX' 'GRAND CHEROKEE' 'WRANGLER' '330E' 'CORSAIR' 'F-150' '530E'\n",
      " 'PACIFICA' 'CLARITY' 'IONIQ 5' 'GV70' 'IX' 'EQE-CLASS SUV' 'KONA'\n",
      " 'EQB-CLASS' 'PS2' 'ID.4' 'SOLTERRA' 'R1S' 'IONIQ 6' 'EQS-CLASS SEDAN'\n",
      " 'B-CLASS' 'SPARK' 'MUSTANG MACH-E' 'PRIUS PLUG-IN' 'IONIQ' 'BZ4X' 'LYRIQ'\n",
      " 'I4' 'EQS-CLASS SUV' 'E-TRON' 'ARIYA' 'XC60' 'TUCSON' 'EQ FORTWO' 'Q5 E'\n",
      " 'KONA ELECTRIC' 'C40' 'EV9' 'PROLOGUE' 'CROSSTREK' 'GV60' 'COUNTRYMAN'\n",
      " 'SOUL EV' 'V60' 'Q8' 'PANAMERA' 'MX-30' 'E-TRON SPORTBACK' 'BLAZER EV'\n",
      " 'EQE-CLASS SEDAN' 'E-TRON GT' 'I5' 'RZ' 'I7' 'S60' 'ROADSTER' 'OCEAN'\n",
      " 'OPTIMA' 'AIR' 'CAYENNE' 'NX' 'EQUINOX EV' 'ZDX' 'GLC-CLASS' 'TRANSIT'\n",
      " 'SONATA' 'Q5' 'I-MIEV' 'ELR' 'SILVERADO EV' 'HUMMER EV PICKUP' 'XM'\n",
      " 'FORTWO ELECTRIC DRIVE' 'C-CLASS' 'TONALE' '745E' 'FORTWO' 'RAV4'\n",
      " 'RANGE ROVER' 'ACCORD' 'SQ8' '740E' 'S-CLASS' 'RS E-TRON GT'\n",
      " 'RANGE ROVER SPORT' 'G80' 'TX' 'RANGER' 'CX-70' 'EDV' 'S90' 'CT6' 'A7 E'\n",
      " '500E' 'EX40' 'IONIQ 5 N' 'KARMA' 'CITY' 'FLYING SPUR' nan\n",
      " 'TRANSIT CONNECT ELECTRIC' '750E' 'BENTAYGA' '918' 'WHEEGO' 'CR-V'\n",
      " '745LE' 'SPECTRE' 'A8 E' 'S-10 PICKUP' 'ESPRINTER' 'PROMASTER 3500']\n",
      "****************************************************************************************************\n",
      "type\n",
      "['Plug-in Hybrid Electric Vehicle (PHEV)' 'Battery Electric Vehicle (BEV)']\n",
      "****************************************************************************************************\n",
      "cafv_eligibility\n",
      "['Clean Alternative Fuel Vehicle Eligible'\n",
      " 'Eligibility unknown as battery range has not been researched'\n",
      " 'Not eligible due to low battery range']\n",
      "****************************************************************************************************\n",
      "electric_range\n",
      "[ 42. 151. 266.  84. 238. 291.  31.   0.  76.  93.  53.  16.  75.  32.\n",
      " 249. 215.  35.  97. 239.  83. 208. 107.  34.  17. 220.  40.  25.  22.\n",
      "  13.  73.  87. 259. 210.  26.  30. 322.  38. 200. 293. 150. 126.  81.\n",
      " 110. 114.  19.  21.  48. 203. 153. 308.  72. 234.  14.  37.  20.  28.\n",
      "  39.  18.  47. 258.  33. 192. 330.   8.  82. 270.   6.  29. 337. 204.\n",
      "  58.  23. 125. 170. 222. 289.  24. 111.  41.  12. 233.  15. 149.  27.\n",
      "  10.  62. 124. 265. 245.  36.  11.  68.  56.  55. 218. 103.  46.  59.\n",
      " 100.   9.  nan  95.  51.  57.  74.  43.]\n",
      "****************************************************************************************************\n",
      "base_msrp\n",
      "[     0.  31950.  69900.  64950.  52900.  44100.  34995.  39995.  33950.\n",
      "  36800.  98950.  55700.  36900.  53400.  32250.  59900.  54950. 110950.\n",
      "  81100.  45600.  52650. 184400.  91250. 109000.  43700.  75095. 102000.\n",
      "     nan  90700.  89100. 845000.  32995.]\n",
      "****************************************************************************************************\n",
      "electric_utility\n",
      "['PUGET SOUND ENERGY INC' 'CITY OF SEATTLE - (WA)|CITY OF TACOMA - (WA)'\n",
      " 'PUGET SOUND ENERGY INC||CITY OF TACOMA - (WA)' 'PACIFICORP'\n",
      " 'MODERN ELECTRIC WATER COMPANY'\n",
      " 'BONNEVILLE POWER ADMINISTRATION||PUD NO 1 OF CLALLAM COUNTY'\n",
      " 'PUD NO 1 OF CHELAN COUNTY' 'AVISTA CORP' 'PUD NO 2 OF GRANT COUNTY'\n",
      " 'PUD NO 1 OF DOUGLAS COUNTY'\n",
      " 'BONNEVILLE POWER ADMINISTRATION||PUD NO 1 OF CLARK COUNTY - (WA)'\n",
      " 'BONNEVILLE POWER ADMINISTRATION||PUD NO 1 OF COWLITZ COUNTY'\n",
      " 'BONNEVILLE POWER ADMINISTRATION||PUGET SOUND ENERGY INC||PUD NO 1 OF JEFFERSON COUNTY'\n",
      " 'NO KNOWN ELECTRIC UTILITY SERVICE'\n",
      " 'BONNEVILLE POWER ADMINISTRATION||PACIFICORP||BENTON RURAL ELECTRIC ASSN'\n",
      " 'BONNEVILLE POWER ADMINISTRATION||PUD 1 OF SNOHOMISH COUNTY'\n",
      " 'BONNEVILLE POWER ADMINISTRATION||CITY OF PORT ANGELES - (WA)'\n",
      " 'BONNEVILLE POWER ADMINISTRATION||PACIFICORP||PUD NO 1 OF CLARK COUNTY - (WA)'\n",
      " 'BONNEVILLE POWER ADMINISTRATION||PUD NO 1 OF KLICKITAT COUNTY'\n",
      " 'CITY OF TACOMA - (WA)'\n",
      " 'BONNEVILLE POWER ADMINISTRATION||PUD NO 1 OF MASON COUNTY|PUD NO 1 OF JEFFERSON COUNTY'\n",
      " 'CITY OF TACOMA - (WA)||TANNER ELECTRIC COOP' 'CITY OF SEATTLE - (WA)'\n",
      " 'BONNEVILLE POWER ADMINISTRATION||CITY OF TACOMA - (WA)||PENINSULA LIGHT COMPANY'\n",
      " 'BONNEVILLE POWER ADMINISTRATION||PUD NO 1 OF FRANKLIN COUNTY'\n",
      " 'BONNEVILLE POWER ADMINISTRATION||VERA IRRIGATION DISTRICT #15'\n",
      " 'PUGET SOUND ENERGY INC||PUD NO 1 OF WHATCOM COUNTY'\n",
      " 'BONNEVILLE POWER ADMINISTRATION||ORCAS POWER & LIGHT COOP'\n",
      " 'BONNEVILLE POWER ADMINISTRATION||CITY OF TACOMA - (WA)||PARKLAND LIGHT & WATER COMPANY|PENINSULA LIGHT COMPANY'\n",
      " 'BONNEVILLE POWER ADMINISTRATION||AVISTA CORP||INLAND POWER & LIGHT COMPANY'\n",
      " 'BONNEVILLE POWER ADMINISTRATION||PUD NO 1 OF GRAYS HARBOR COUNTY'\n",
      " 'CITY OF CHEWELAH'\n",
      " 'BONNEVILLE POWER ADMINISTRATION||CITY OF RICHLAND - (WA)'\n",
      " 'BONNEVILLE POWER ADMINISTRATION||CITY OF TACOMA - (WA)||ELMHURST MUTUAL POWER & LIGHT CO|PENINSULA LIGHT COMPANY'\n",
      " 'BONNEVILLE POWER ADMINISTRATION||TOWN OF EATONVILLE - (WA)|CITY OF TACOMA - (WA)'\n",
      " 'BONNEVILLE POWER ADMINISTRATION||CITY OF MILTON - (WA)|CITY OF TACOMA - (WA)'\n",
      " 'BONNEVILLE POWER ADMINISTRATION||PUD NO 1 OF BENTON COUNTY'\n",
      " 'BONNEVILLE POWER ADMINISTRATION||CITY OF TACOMA - (WA)||PUD NO 1 OF LEWIS COUNTY'\n",
      " 'BONNEVILLE POWER ADMINISTRATION||INLAND POWER & LIGHT COMPANY'\n",
      " 'BONNEVILLE POWER ADMINISTRATION||PUD NO 2 OF PACIFIC COUNTY'\n",
      " 'BONNEVILLE POWER ADMINISTRATION||CITY OF TACOMA - (WA)||LAKEVIEW LIGHT & POWER|PENINSULA LIGHT COMPANY'\n",
      " 'BONNEVILLE POWER ADMINISTRATION||CITY OF TACOMA - (WA)||PUD NO 3 OF MASON COUNTY'\n",
      " 'CITY OF BLAINE - (WA)||PUD NO 1 OF WHATCOM COUNTY'\n",
      " 'NON WASHINGTON STATE ELECTRIC UTILITY'\n",
      " 'BONNEVILLE POWER ADMINISTRATION||CITY OF CENTRALIA - (WA)|CITY OF TACOMA - (WA)'\n",
      " 'BONNEVILLE POWER ADMINISTRATION||TOWN OF STEILACOOM|CITY OF TACOMA - (WA)||PENINSULA LIGHT COMPANY'\n",
      " 'BONNEVILLE POWER ADMINISTRATION||CITY OF TACOMA - (WA)||PUD NO 1 OF MASON COUNTY'\n",
      " 'BONNEVILLE POWER ADMINISTRATION||PUD NO 1 OF WAHKIAKUM COUNTY'\n",
      " 'BONNEVILLE POWER ADMINISTRATION||CITY OF ELLENSBURG - (WA)'\n",
      " 'OKANOGAN COUNTY ELEC COOP, INC'\n",
      " 'BONNEVILLE POWER ADMINISTRATION||CITY OF MCCLEARY - (WA)'\n",
      " 'BONNEVILLE POWER ADMINISTRATION||PUD NO 1 OF SKAMANIA CO'\n",
      " 'CITY OF CHENEY - (WA)'\n",
      " 'BONNEVILLE POWER ADMINISTRATION||CITY OF TACOMA - (WA)||OHOP MUTUAL LIGHT COMPANY, INC|PENINSULA LIGHT COMPANY'\n",
      " 'PUD NO 1 OF PEND OREILLE COUNTY' 'PUD NO 1 OF WHATCOM COUNTY'\n",
      " 'BONNEVILLE POWER ADMINISTRATION||CITY OF TACOMA - (WA)||BENTON RURAL ELECTRIC ASSN|PENINSULA LIGHT COMPANY'\n",
      " 'BONNEVILLE POWER ADMINISTRATION||AVISTA CORP||PUD NO 1 OF ASOTIN COUNTY'\n",
      " 'BONNEVILLE POWER ADMINISTRATION||AVISTA CORP||BIG BEND ELECTRIC COOP, INC'\n",
      " 'BONNEVILLE POWER ADMINISTRATION||PUD NO 1 OF JEFFERSON COUNTY'\n",
      " 'BONNEVILLE POWER ADMINISTRATION||BENTON RURAL ELECTRIC ASSN'\n",
      " 'BONNEVILLE POWER ADMINISTRATION||BIG BEND ELECTRIC COOP, INC'\n",
      " 'PUD NO 1 OF OKANOGAN COUNTY'\n",
      " 'BONNEVILLE POWER ADMINISTRATION||PUD NO 1 OF KITTITAS COUNTY'\n",
      " 'BONNEVILLE POWER ADMINISTRATION||CITY OF COULEE DAM - (WA)'\n",
      " 'CITY OF SUMAS - (WA)||PUD NO 1 OF WHATCOM COUNTY'\n",
      " 'PORTLAND GENERAL ELECTRIC CO'\n",
      " 'BONNEVILLE POWER ADMINISTRATION||PUD NO 1 OF FERRY COUNTY'\n",
      " 'BONNEVILLE POWER ADMINISTRATION||COLUMBIA RURAL ELEC ASSN, INC'\n",
      " 'BONNEVILLE POWER ADMINISTRATION||PACIFICORP||COLUMBIA RURAL ELEC ASSN, INC'\n",
      " 'BONNEVILLE POWER ADMINISTRATION||CITY OF TACOMA - (WA)||ALDER MUTUAL LIGHT CO, INC|PENINSULA LIGHT COMPANY'\n",
      " 'BONNEVILLE POWER ADMINISTRATION||NESPELEM VALLEY ELEC COOP, INC'\n",
      " 'BONNEVILLE POWER ADMINISTRATION||TOWN OF RUSTON - (WA)|CITY OF TACOMA - (WA)||PENINSULA LIGHT COMPANY'\n",
      " nan 'BONNEVILLE POWER ADMINISTRATION||PUD NO 1 OF ASOTIN COUNTY']\n",
      "****************************************************************************************************\n"
     ]
    }
   ],
   "source": [
    "for each in df.columns:\n",
    "    print(each)\n",
    "    print(df[each].unique())\n",
    "    print(\"*\" * 100)"
   ]
  },
  {
   "cell_type": "code",
   "execution_count": 15,
   "id": "60a8eef9-fe65-4518-853a-c6389695069a",
   "metadata": {},
   "outputs": [],
   "source": [
    "df['base_msrp'] = df['base_msrp'].replace({0 : np.nan})\n",
    "df['electric_range'] = df['electric_range'].replace({0 : np.nan})"
   ]
  },
  {
   "cell_type": "markdown",
   "id": "29aa47eb-b83f-4637-bfb9-6b237ad1551e",
   "metadata": {},
   "source": [
    "- There are no invalid data points"
   ]
  },
  {
   "cell_type": "markdown",
   "id": "78f69106-b089-4718-84e9-e90cfdd6a48f",
   "metadata": {
    "jp-MarkdownHeadingCollapsed": true
   },
   "source": [
    "##### Handle Null values"
   ]
  },
  {
   "cell_type": "code",
   "execution_count": 16,
   "id": "eb524887-c803-4faf-be49-28b692fa369e",
   "metadata": {},
   "outputs": [
    {
     "data": {
      "text/plain": [
       "county               0.001460\n",
       "city                 0.001460\n",
       "state                0.000000\n",
       "model_year           0.000000\n",
       "make                 0.000000\n",
       "model                0.000487\n",
       "type                 0.000000\n",
       "cafv_eligibility     0.000000\n",
       "electric_range      55.578542\n",
       "base_msrp           98.385409\n",
       "electric_utility     0.001460\n",
       "dtype: float64"
      ]
     },
     "execution_count": 16,
     "metadata": {},
     "output_type": "execute_result"
    }
   ],
   "source": [
    "df.isna().mean() * 100     # columns percentage of missing values"
   ]
  },
  {
   "cell_type": "code",
   "execution_count": 17,
   "id": "383f29e8-5917-488e-ad71-d1b37ff66dd4",
   "metadata": {},
   "outputs": [],
   "source": [
    "df = df.drop(columns=[\"base_msrp\", \"electric_range\"])    \n",
    "# drop columns which have large null values,\n",
    "# we lost 2 important varibales, we dont have another option here\n",
    "# when we try to impute the null values it change the data"
   ]
  },
  {
   "cell_type": "code",
   "execution_count": 18,
   "id": "af4c14e4-8ab1-460d-af0d-9e383ca4c769",
   "metadata": {},
   "outputs": [
    {
     "data": {
      "image/png": "[encoded data removed]",
      "text/plain": [
       "<Figure size 640x480 with 2 Axes>"
      ]
     },
     "metadata": {},
     "output_type": "display_data"
    }
   ],
   "source": [
    "plt.title(\"NULL VALUES HEATMAP\")\n",
    "sns.heatmap(data=df.isna())\n",
    "plt.show()"
   ]
  },
  {
   "cell_type": "markdown",
   "id": "e56bb764-e7c9-413f-9099-ca304666f1d2",
   "metadata": {},
   "source": [
    "- there is very small size of missing values, so we can drop it"
   ]
  },
  {
   "cell_type": "code",
   "execution_count": 19,
   "id": "d498afa4-1c77-47b9-87a8-dacaba632367",
   "metadata": {},
   "outputs": [],
   "source": [
    "df = df.dropna(how=\"any\", axis=0)    # it remove entire rows when it contain any of NaN values"
   ]
  },
  {
   "cell_type": "code",
   "execution_count": 20,
   "id": "d6819eb6-4206-448b-be31-732b255470ba",
   "metadata": {},
   "outputs": [
    {
     "data": {
      "text/plain": [
       "county              0\n",
       "city                0\n",
       "state               0\n",
       "model_year          0\n",
       "make                0\n",
       "model               0\n",
       "type                0\n",
       "cafv_eligibility    0\n",
       "electric_utility    0\n",
       "dtype: int64"
      ]
     },
     "execution_count": 20,
     "metadata": {},
     "output_type": "execute_result"
    }
   ],
   "source": [
    "df.isna().sum()"
   ]
  },
  {
   "cell_type": "code",
   "execution_count": 21,
   "id": "3adca5eb-cef4-4f3b-bce3-0539d5d43b9c",
   "metadata": {},
   "outputs": [
    {
     "data": {
      "text/plain": [
       "(205435, 9)"
      ]
     },
     "execution_count": 21,
     "metadata": {},
     "output_type": "execute_result"
    }
   ],
   "source": [
    "df.shape"
   ]
  },
  {
   "cell_type": "markdown",
   "id": "77996e45-ef4a-475e-ba6f-1ec6df91d988",
   "metadata": {
    "jp-MarkdownHeadingCollapsed": true
   },
   "source": [
    "##### Confirm Data-Type"
   ]
  },
  {
   "cell_type": "code",
   "execution_count": 22,
   "id": "d99364ed-48ac-4e45-8e55-a00be565db36",
   "metadata": {},
   "outputs": [
    {
     "data": {
      "text/plain": [
       "county              object\n",
       "city                object\n",
       "state               object\n",
       "model_year           int64\n",
       "make                object\n",
       "model               object\n",
       "type                object\n",
       "cafv_eligibility    object\n",
       "electric_utility    object\n",
       "dtype: object"
      ]
     },
     "execution_count": 22,
     "metadata": {},
     "output_type": "execute_result"
    }
   ],
   "source": [
    "df.dtypes"
   ]
  },
  {
   "cell_type": "code",
   "execution_count": 23,
   "id": "25a9c1b8-54a3-41ec-b7fb-d7a5e445c5e7",
   "metadata": {},
   "outputs": [
    {
     "data": {
      "text/html": [
       "<div>\n",
       "<style scoped>\n",
       "    .dataframe tbody tr th:only-of-type {\n",
       "        vertical-align: middle;\n",
       "    }\n",
       "\n",
       "    .dataframe tbody tr th {\n",
       "        vertical-align: top;\n",
       "    }\n",
       "\n",
       "    .dataframe thead th {\n",
       "        text-align: right;\n",
       "    }\n",
       "</style>\n",
       "<table border=\"1\" class=\"dataframe\">\n",
       "  <thead>\n",
       "    <tr style=\"text-align: right;\">\n",
       "      <th></th>\n",
       "      <th>county</th>\n",
       "      <th>city</th>\n",
       "      <th>state</th>\n",
       "      <th>model_year</th>\n",
       "      <th>make</th>\n",
       "      <th>model</th>\n",
       "      <th>type</th>\n",
       "      <th>cafv_eligibility</th>\n",
       "      <th>electric_utility</th>\n",
       "    </tr>\n",
       "  </thead>\n",
       "  <tbody>\n",
       "    <tr>\n",
       "      <th>128813</th>\n",
       "      <td>Pierce</td>\n",
       "      <td>Lakewood</td>\n",
       "      <td>WA</td>\n",
       "      <td>2013</td>\n",
       "      <td>FORD</td>\n",
       "      <td>FUSION</td>\n",
       "      <td>Plug-in Hybrid Electric Vehicle (PHEV)</td>\n",
       "      <td>Not eligible due to low battery range</td>\n",
       "      <td>BONNEVILLE POWER ADMINISTRATION||CITY OF TACOM...</td>\n",
       "    </tr>\n",
       "  </tbody>\n",
       "</table>\n",
       "</div>"
      ],
      "text/plain": [
       "        county      city state  model_year  make   model  \\\n",
       "128813  Pierce  Lakewood    WA        2013  FORD  FUSION   \n",
       "\n",
       "                                          type  \\\n",
       "128813  Plug-in Hybrid Electric Vehicle (PHEV)   \n",
       "\n",
       "                             cafv_eligibility  \\\n",
       "128813  Not eligible due to low battery range   \n",
       "\n",
       "                                         electric_utility  \n",
       "128813  BONNEVILLE POWER ADMINISTRATION||CITY OF TACOM...  "
      ]
     },
     "execution_count": 23,
     "metadata": {},
     "output_type": "execute_result"
    }
   ],
   "source": [
    "df.sample()"
   ]
  },
  {
   "cell_type": "markdown",
   "id": "1d8fbcd4-b001-4794-b243-1e6540900b5e",
   "metadata": {},
   "source": [
    "#### Exploratory Data Analysis"
   ]
  },
  {
   "cell_type": "markdown",
   "id": "92aa35b4-d606-4f14-afea-8ad5474e4aba",
   "metadata": {},
   "source": [
    "ANALYSIS ABOUT:\n",
    "1. Which Makers lead the EV car industry in US\n",
    "2. Which is the best model in 2024 in US\n",
    "3. which US county has the best EV makers\n",
    "4. Top 5 Premium Model & its Makers\n",
    "5. Who make most BEV EV's"
   ]
  },
  {
   "cell_type": "code",
   "execution_count": null,
   "id": "295257b0-cc67-416c-8c95-08333dfcbf5a",
   "metadata": {},
   "outputs": [],
   "source": []
  },
  {
   "cell_type": "code",
   "execution_count": null,
   "id": "f3e59cac-44e9-4297-a6d4-eb2476402951",
   "metadata": {},
   "outputs": [],
   "source": []
  }
 ],
 "metadata": {
  "kernelspec": {
   "display_name": "Python 3 (ipykernel)",
   "language": "python",
   "name": "python3"
  },
  "language_info": {
   "codemirror_mode": {
    "name": "ipython",
    "version": 3
   },
   "file_extension": ".py",
   "mimetype": "text/x-python",
   "name": "python",
   "nbconvert_exporter": "python",
   "pygments_lexer": "ipython3",
   "version": "3.13.0"
  }
 },
 "nbformat": 4,
 "nbformat_minor": 5
}
