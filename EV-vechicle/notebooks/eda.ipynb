{
 "cells": [
  {
   "cell_type": "markdown",
   "id": "89756f70-5a2c-4b69-abca-60395b510e8d",
   "metadata": {},
   "source": [
    "## **Electric Vehicle Population EDA**"
   ]
  },
  {
   "cell_type": "markdown",
   "id": "cae05d24-be62-4927-b368-5c69716b54d2",
   "metadata": {},
   "source": [
    "**Objectives** :  Analyze the Electric Vehicle (EV) dataset to uncover patterns, trends, and insights into EV sales and market. \\\n",
    "**Dataset** : Data collected from [data.gov](https://catalog.data.gov/dataset/electric-vehicle-population-data)\n",
    "For more information about the dataset, referse to the [README file](../data/README.md)."
   ]
  },
  {
   "cell_type": "markdown",
   "id": "fe2e9949-9b78-4694-b6ef-635c734131b9",
   "metadata": {
    "jp-MarkdownHeadingCollapsed": true
   },
   "source": [
    "#### **Import Neccessory modules**"
   ]
  },
  {
   "cell_type": "code",
   "execution_count": 1,
   "id": "a3f5a6a4-e6c0-412c-89a0-dd4a6ce3b622",
   "metadata": {},
   "outputs": [
    {
     "ename": "SyntaxError",
     "evalue": "'(' was never closed (visualizing.py, line 23)",
     "output_type": "error",
     "traceback": [
      "Traceback \u001b[0;36m(most recent call last)\u001b[0m:\n",
      "\u001b[0m  File \u001b[1;32m~/Documents/codes/data_Science/eda-and-visualization/EV-vechicle/env/lib/python3.13/site-packages/IPython/core/interactiveshell.py:3577\u001b[0m in \u001b[1;35mrun_code\u001b[0m\n    exec(code_obj, self.user_global_ns, self.user_ns)\u001b[0m\n",
      "\u001b[0;36m  Cell \u001b[0;32mIn[1], line 17\u001b[0;36m\n\u001b[0;31m    import visualizing as vis_helper\u001b[0;36m\n",
      "\u001b[0;36m  File \u001b[0;32m~/Documents/codes/data_Science/eda-and-visualization/EV-vechicle/scripts/visualizing.py:23\u001b[0;36m\u001b[0m\n\u001b[0;31m    word_cloud = WordCloud(width=800, height=600).generate_from_frequencies(df[column].value_counts()\u001b[0m\n\u001b[0m                                                                           ^\u001b[0m\n\u001b[0;31mSyntaxError\u001b[0m\u001b[0;31m:\u001b[0m '(' was never closed\n"
     ]
    }
   ],
   "source": [
    "import pandas as pd\n",
    "import numpy as np\n",
    "import matplotlib.pyplot as plt\n",
    "import seaborn as sns\n",
    "import scipy.stats as stats\n",
    "from camel_converter import to_snake\n",
    "\n",
    "from dotenv import load_dotenv\n",
    "load_dotenv()\n",
    "\n",
    "import os\n",
    "PROJECT_DIR = os.getenv(\"PROJECT_DIR\")\n",
    "\n",
    "# data cleaning helper scirpt \n",
    "import sys\n",
    "sys.path.append(f\"{PROJECT_DIR}/eda-and-visualization/EV-vechicle/scripts\")\n",
    "import visualizing as vis_helper"
   ]
  },
  {
   "cell_type": "markdown",
   "id": "128b4ee4-98a6-4a92-a005-e90dbae00b89",
   "metadata": {},
   "source": [
    "#### **Getting Start**"
   ]
  },
  {
   "cell_type": "markdown",
   "id": "aa293ef5-a91d-46b3-85dc-adc779edbc2f",
   "metadata": {
    "jp-MarkdownHeadingCollapsed": true
   },
   "source": [
    "##### read dataset"
   ]
  },
  {
   "cell_type": "code",
   "execution_count": null,
   "id": "c298a314-88e4-45c6-abd5-ebce66fbbc7a",
   "metadata": {},
   "outputs": [],
   "source": [
    "df = pd.read_csv(f\"{PROJECT_DIR}/eda-and-visualization/EV-vechicle/data/ev_population.csv\")"
   ]
  },
  {
   "cell_type": "markdown",
   "id": "a5cc53ab-e8a8-48b7-9d41-bf0806864022",
   "metadata": {},
   "source": [
    "##### dataset lookup"
   ]
  },
  {
   "cell_type": "code",
   "execution_count": null,
   "id": "5851b5d5-65eb-44e8-87fd-37ba1adf4397",
   "metadata": {},
   "outputs": [],
   "source": [
    "df.info()"
   ]
  },
  {
   "cell_type": "code",
   "execution_count": null,
   "id": "f1ebe440-1c33-4433-bf72-3d9dd02625b6",
   "metadata": {},
   "outputs": [],
   "source": [
    "print(f\"Dataframe contain {df.shape[0]} rows & {df.shape[1]} columns\")"
   ]
  },
  {
   "cell_type": "code",
   "execution_count": null,
   "id": "7cfc2662-b454-491d-9663-be1f9e864c13",
   "metadata": {},
   "outputs": [],
   "source": [
    "df.head()"
   ]
  },
  {
   "cell_type": "markdown",
   "id": "1997f8fb-4ca7-4c6f-ad33-228704c3689a",
   "metadata": {},
   "source": [
    "#### **Data cleaning**"
   ]
  },
  {
   "cell_type": "markdown",
   "id": "1c0a9d26-71a3-48b2-94fb-4ba4545a6233",
   "metadata": {},
   "source": [
    "##### Drop unwanted columns"
   ]
  },
  {
   "cell_type": "code",
   "execution_count": null,
   "id": "2183d7b1-648c-45fe-809b-7ad78aab4566",
   "metadata": {},
   "outputs": [],
   "source": [
    "df.sample()"
   ]
  },
  {
   "cell_type": "code",
   "execution_count": null,
   "id": "3f684927-7117-4a42-89bc-0fd4249750aa",
   "metadata": {},
   "outputs": [],
   "source": [
    "unwanted_cols = [\"VIN (1-10)\", \"DOL Vehicle ID\", \"2020 Census Tract\", \"Legislative District\", \"Postal Code\", \\\n",
    "                 \"Vehicle Location\"]\n",
    "# new df without unwanted columns\n",
    "df = df.drop(columns=unwanted_cols, axis=1)"
   ]
  },
  {
   "cell_type": "code",
   "execution_count": null,
   "id": "de35205a-93ba-4390-b265-76fd11f7e4a1",
   "metadata": {},
   "outputs": [],
   "source": [
    "df.sample()"
   ]
  },
  {
   "cell_type": "markdown",
   "id": "8b937b04-5370-4d44-816d-bda14af87fbf",
   "metadata": {},
   "source": [
    "##### Drop duplicated rows"
   ]
  },
  {
   "cell_type": "code",
   "execution_count": null,
   "id": "de844489-8e11-4610-90e1-cfb1a9fcc9cb",
   "metadata": {},
   "outputs": [],
   "source": [
    "duplicate_df = df.duplicated()\n",
    "print(f\"The dataframe contain {df[duplicate_df].shape[0]} duplicated rows\")\n",
    "# even though when we remove this much no.of rows it will strongly reduce our dataset but...\n",
    "\n",
    "df = df[~duplicate_df]"
   ]
  },
  {
   "cell_type": "code",
   "execution_count": null,
   "id": "12024fe8-4a14-4753-944b-8e96ae3485d2",
   "metadata": {},
   "outputs": [],
   "source": [
    "df.shape"
   ]
  },
  {
   "cell_type": "markdown",
   "id": "db888e44-b9cc-4e7a-bd5a-45b736a5391a",
   "metadata": {},
   "source": [
    "##### Rename column names"
   ]
  },
  {
   "cell_type": "code",
   "execution_count": null,
   "id": "d79a7e7d-e401-405f-9f21-57a9259b1119",
   "metadata": {},
   "outputs": [],
   "source": [
    "map_cols = {\n",
    "    \"Electric Vehicle Type\" : \"type\",\n",
    "    \"Clean Alternative Fuel Vehicle (CAFV) Eligibility\" : \"cafv eligibility\"}\n",
    "\n",
    "# replace large column names with meaningfull names\n",
    "df = df.rename(columns=map_cols)"
   ]
  },
  {
   "cell_type": "code",
   "execution_count": null,
   "id": "01b0b392-5855-4709-b89c-36e1100d8101",
   "metadata": {},
   "outputs": [],
   "source": [
    "# change all column name into snake_case format\n",
    "df.columns = [to_snake(\"_\".join(each.lower().split(\" \"))) for each in df.columns]"
   ]
  },
  {
   "cell_type": "code",
   "execution_count": null,
   "id": "4a14fda2-2172-42ad-bb03-03da2f81a75e",
   "metadata": {},
   "outputs": [],
   "source": [
    "df.sample()"
   ]
  },
  {
   "cell_type": "markdown",
   "id": "0c09c7ed-a444-4b21-894b-aa8a2209049e",
   "metadata": {},
   "source": [
    "##### Handle invalid data points"
   ]
  },
  {
   "cell_type": "code",
   "execution_count": null,
   "id": "73c5f3db-603e-40c9-89b8-fb7beb7c04e1",
   "metadata": {
    "scrolled": true
   },
   "outputs": [],
   "source": [
    "for each in df.columns:\n",
    "    print(each)\n",
    "    print(df[each].unique())\n",
    "    print(\"*\" * 100)"
   ]
  },
  {
   "cell_type": "code",
   "execution_count": null,
   "id": "60a8eef9-fe65-4518-853a-c6389695069a",
   "metadata": {},
   "outputs": [],
   "source": [
    "df['base_msrp'] = df['base_msrp'].replace({0 : np.nan})\n",
    "df['electric_range'] = df['electric_range'].replace({0 : np.nan})"
   ]
  },
  {
   "cell_type": "code",
   "execution_count": null,
   "id": "43b496f4-71b4-41ec-9a8b-f0cbfe9f5398",
   "metadata": {},
   "outputs": [],
   "source": [
    "cafv_map = {\n",
    "    \"Eligibility unknown as battery range has not been researched\" : \"Unknown\",\n",
    "    \"Clean Alternative Fuel Vehicle Eligible\" : \"Eligible\",\n",
    "    \"Not eligible due to low battery range\" : \"Not Eligible\"\n",
    "}\n",
    "\n",
    "df['cafv_eligibility'] = df['cafv_eligibility'].replace(cafv_map)\n",
    "df['cafv_eligibility'].value_counts()"
   ]
  },
  {
   "cell_type": "code",
   "execution_count": null,
   "id": "6ca08b8f-7450-457e-9762-7617eb074c05",
   "metadata": {},
   "outputs": [],
   "source": [
    "type_map = {\n",
    "    \"Battery Electric Vehicle (BEV)\" : \"BEV\",\n",
    "    \"Plug-in Hybrid Electric Vehicle (PHEV)\" : \"PHEV\"\n",
    "}\n",
    "df['type'] = df['type'].replace(type_map)\n",
    "df['type'].value_counts()"
   ]
  },
  {
   "cell_type": "code",
   "execution_count": null,
   "id": "72f72400-ea17-477a-9d70-b27304f4a929",
   "metadata": {},
   "outputs": [],
   "source": [
    "df.head()"
   ]
  },
  {
   "cell_type": "markdown",
   "id": "78f69106-b089-4718-84e9-e90cfdd6a48f",
   "metadata": {},
   "source": [
    "##### Handle Null values"
   ]
  },
  {
   "cell_type": "code",
   "execution_count": null,
   "id": "eb524887-c803-4faf-be49-28b692fa369e",
   "metadata": {},
   "outputs": [],
   "source": [
    "df.isna().mean() * 100     # columns percentage of missing values"
   ]
  },
  {
   "cell_type": "code",
   "execution_count": null,
   "id": "383f29e8-5917-488e-ad71-d1b37ff66dd4",
   "metadata": {},
   "outputs": [],
   "source": [
    "df = df.drop(columns=[\"base_msrp\", \"electric_range\"])    \n",
    "# drop columns which have large null values,\n",
    "# we lost 2 important varibales, we dont have another option here\n",
    "# when we try to impute the null values it change the data"
   ]
  },
  {
   "cell_type": "code",
   "execution_count": null,
   "id": "af4c14e4-8ab1-460d-af0d-9e383ca4c769",
   "metadata": {},
   "outputs": [],
   "source": [
    "plt.title(\"NULL VALUES HEATMAP\")\n",
    "sns.heatmap(data=df.isna())\n",
    "plt.show()"
   ]
  },
  {
   "cell_type": "markdown",
   "id": "e56bb764-e7c9-413f-9099-ca304666f1d2",
   "metadata": {},
   "source": [
    "- there is very small size of missing values, so we can drop it"
   ]
  },
  {
   "cell_type": "code",
   "execution_count": null,
   "id": "d498afa4-1c77-47b9-87a8-dacaba632367",
   "metadata": {},
   "outputs": [],
   "source": [
    "df = df.dropna(how=\"any\", axis=0)    # it remove entire rows when it contain any of NaN values"
   ]
  },
  {
   "cell_type": "code",
   "execution_count": null,
   "id": "d6819eb6-4206-448b-be31-732b255470ba",
   "metadata": {},
   "outputs": [],
   "source": [
    "df.isna().sum()"
   ]
  },
  {
   "cell_type": "code",
   "execution_count": null,
   "id": "3adca5eb-cef4-4f3b-bce3-0539d5d43b9c",
   "metadata": {},
   "outputs": [],
   "source": [
    "df.shape"
   ]
  },
  {
   "cell_type": "markdown",
   "id": "77996e45-ef4a-475e-ba6f-1ec6df91d988",
   "metadata": {},
   "source": [
    "##### Confirm Data-Type"
   ]
  },
  {
   "cell_type": "code",
   "execution_count": null,
   "id": "d99364ed-48ac-4e45-8e55-a00be565db36",
   "metadata": {},
   "outputs": [],
   "source": [
    "df.dtypes"
   ]
  },
  {
   "cell_type": "markdown",
   "id": "088b455b-78f4-4055-adb9-7bb4be8d22f0",
   "metadata": {
    "jp-MarkdownHeadingCollapsed": true
   },
   "source": [
    "#### **Alias**"
   ]
  },
  {
   "cell_type": "markdown",
   "id": "8e15434b-507e-4222-a196-9166589c8f59",
   "metadata": {},
   "source": [
    "**cafv** &nbsp; &nbsp; &nbsp;=&nbsp; Clean Alternative Fuel Vehicle \\\n",
    "**PHEV** &nbsp; &nbsp;=&nbsp; Plug-In Hybrid Elevtric Vehicle \\\n",
    "**BEV** &nbsp; &nbsp; &nbsp; =&nbsp; Battery Elecrtic Vehicle"
   ]
  },
  {
   "cell_type": "markdown",
   "id": "1d8fbcd4-b001-4794-b243-1e6540900b5e",
   "metadata": {},
   "source": [
    "#### **Exploratory Data Analysis**"
   ]
  },
  {
   "cell_type": "code",
   "execution_count": null,
   "id": "7059a7b5-8bcd-4b4b-a428-dcfa39de0e31",
   "metadata": {},
   "outputs": [],
   "source": [
    "df.info()"
   ]
  },
  {
   "cell_type": "code",
   "execution_count": null,
   "id": "62f56205-e52d-4588-b122-ddbcacc8d8b6",
   "metadata": {},
   "outputs": [],
   "source": [
    "df.shape"
   ]
  },
  {
   "cell_type": "code",
   "execution_count": null,
   "id": "bf43ddb3-d8c4-4701-939f-4b56298aacf0",
   "metadata": {},
   "outputs": [],
   "source": [
    "df.describe()"
   ]
  },
  {
   "cell_type": "code",
   "execution_count": null,
   "id": "c12035fd-1d7f-41c4-90e2-a3b1c516aba8",
   "metadata": {},
   "outputs": [],
   "source": [
    "df.describe(include=\"O\").T"
   ]
  },
  {
   "cell_type": "code",
   "execution_count": null,
   "id": "d6e222be-ef27-4534-b9d5-0c030a76c89c",
   "metadata": {},
   "outputs": [],
   "source": [
    "numerical_columns = df.select_dtypes(include=np.number).columns\n",
    "catagorical_columns = df.select_dtypes(include=\"object\").columns"
   ]
  },
  {
   "cell_type": "markdown",
   "id": "3435d814-aea6-423c-a9c9-117d01918868",
   "metadata": {},
   "source": [
    "##### **Catagorical Features**"
   ]
  },
  {
   "cell_type": "code",
   "execution_count": null,
   "id": "946b0133-3fa2-4597-b608-fe643ffb1c4c",
   "metadata": {},
   "outputs": [],
   "source": [
    "plt.figure(figsize=(16,24))\n",
    "vis_helper.plot_catagorical(df, columns=catagorical_columns)\n",
    "plt.tight_layout()\n",
    "plt.show()"
   ]
  },
  {
   "cell_type": "markdown",
   "id": "d2feec76-ee84-4257-ad05-bba20e4383e3",
   "metadata": {
    "jp-MarkdownHeadingCollapsed": true
   },
   "source": [
    "##### **Numerical Feature**"
   ]
  },
  {
   "cell_type": "code",
   "execution_count": null,
   "id": "e4d5e26d-e4b8-4bdf-a0b9-118da432e030",
   "metadata": {},
   "outputs": [],
   "source": [
    "plt.figure(figsize=(16,6))\n",
    "\n",
    "plt.suptitle(\"Distribution of Model Year Feature\")\n",
    "plt.subplot(1,2, 1)\n",
    "plt.boxplot(df[numerical_columns])\n",
    "\n",
    "plt.subplot(1,2,2)\n",
    "plt.hist(df[numerical_columns])\n",
    "\n",
    "plt.show()"
   ]
  },
  {
   "cell_type": "markdown",
   "id": "df7ad4f9-f8e2-41a7-bf5f-941bdefea359",
   "metadata": {},
   "source": [
    "### **Exploration**"
   ]
  },
  {
   "cell_type": "markdown",
   "id": "92aa35b4-d606-4f14-afea-8ad5474e4aba",
   "metadata": {},
   "source": [
    "**Key Questions to Explore:**\n",
    "1. What percentage of EVs are CAFV-eligible?\\\n",
    "2. Is there an increase in EV adoption over recent years?\\\n",
    "3. Ev type and locality as any hidden relationship"
   ]
  },
  {
   "cell_type": "markdown",
   "id": "1374d759-cdbc-4319-96cf-ebf8bdf11424",
   "metadata": {},
   "source": [
    "### **1. What percentage of EV are CAFV-eligible?** "
   ]
  },
  {
   "cell_type": "code",
   "execution_count": null,
   "id": "0d7db373-4d75-47a2-ba47-594ea76e44fc",
   "metadata": {},
   "outputs": [],
   "source": [
    "cafv_eligible_data = df['cafv_eligibility'].value_counts()\n",
    "\n",
    "plt.title(\"Clean Alternative Fuel Vehicle Eligibility\")\n",
    "plt.bar(x=cafv_eligible_data.index, height=cafv_eligible_data.values)\n",
    "\n",
    "percentage = [(each/df.shape[0])*100 for each in cafv_eligible_data.values]\n",
    "\n",
    "for i, v in enumerate(percentage):\n",
    "    plt.text(i, v + 0.5, f\"{v: .1f}%\", ha='center') \n",
    "plt.show()"
   ]
  },
  {
   "cell_type": "markdown",
   "id": "6f95ba26-0f9d-40cc-9f33-a9709bc6f6c6",
   "metadata": {},
   "source": [
    "**Clean Alternative Fuel Vehicle Eligibility have *41%* with in the Ev's**"
   ]
  },
  {
   "cell_type": "markdown",
   "id": "7bc7321a-926c-4466-a971-75241e7b4fba",
   "metadata": {},
   "source": [
    "### **2. Is there an increase in EV adoption over recent years?**"
   ]
  },
  {
   "cell_type": "code",
   "execution_count": null,
   "id": "3ac841ec-455f-4fac-946b-180926f41898",
   "metadata": {},
   "outputs": [],
   "source": [
    "year_by_make_count = df.groupby('model_year')['model'].count()[:-1]   # ignore 2025\n",
    "\n",
    "plt.figure(figsize=(16,6))\n",
    "plt.title(\"EV adoption increased by years\")\n",
    "sns.lineplot(x=year_by_make_count.index, y=year_by_make_count.values)\n",
    "plt.ylabel(\"EV Model Count in US Market\")\n",
    "plt.xlabel(\"Years\")\n",
    "plt.show()"
   ]
  },
  {
   "cell_type": "markdown",
   "id": "cbf7f78e-6a70-42a1-83e5-2b7a0ba8d573",
   "metadata": {},
   "source": [
    "**There is an increase from 2010**"
   ]
  },
  {
   "cell_type": "code",
   "execution_count": null,
   "id": "530a90b3-0d00-4020-8e98-81e6ec8e6396",
   "metadata": {},
   "outputs": [],
   "source": []
  }
 ],
 "metadata": {
  "kernelspec": {
   "display_name": "Python 3 (ipykernel)",
   "language": "python",
   "name": "python3"
  },
  "language_info": {
   "codemirror_mode": {
    "name": "ipython",
    "version": 3
   },
   "file_extension": ".py",
   "mimetype": "text/x-python",
   "name": "python",
   "nbconvert_exporter": "python",
   "pygments_lexer": "ipython3",
   "version": "3.13.0"
  }
 },
 "nbformat": 4,
 "nbformat_minor": 5
}
